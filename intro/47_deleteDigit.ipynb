{
 "metadata": {
  "language_info": {
   "codemirror_mode": {
    "name": "ipython",
    "version": 3
   },
   "file_extension": ".py",
   "mimetype": "text/x-python",
   "name": "python",
   "nbconvert_exporter": "python",
   "pygments_lexer": "ipython3",
   "version": 3
  },
  "orig_nbformat": 4
 },
 "nbformat": 4,
 "nbformat_minor": 2,
 "cells": [
  {
   "cell_type": "code",
   "execution_count": null,
   "metadata": {},
   "outputs": [],
   "source": [
    "# Given some integer, find the maximal number you can obtain by deleting exactly one digit of the given number.\n",
    "def deleteDigit(n):\n",
    "    str_n = str(n)\n",
    "    print(str_n)\n",
    "    if len(str_n) ==1:\n",
    "        return n\n",
    "    if len(str_n) ==2:\n",
    "        if str_n[0]  > str_n[1]:\n",
    "            return int(str_n[0])\n",
    "        else:\n",
    "            return int(str_n[1])\n",
    "            \n",
    "    for n in range(1,len(str_n)):\n",
    "        if str_n[n-1] < str_n[n]:                \n",
    "            return int(str_n[0:n-1]+str_n[n:])\n",
    "    print('think this is right',str_n[:len(str_n)-1])\n",
    "    return int(str_n[:len(str_n)-1])\n",
    "\n",
    "\n",
    "n= 152\n",
    "ans=52\n",
    "# n= 1001\n",
    "# ans=101\n",
    "\n",
    "print('Us',deleteDigit(n))\n",
    "print('ans',ans)"
   ]
  },
  {
   "cell_type": "code",
   "execution_count": null,
   "metadata": {},
   "outputs": [],
   "source": [
    "# Given some integer, find the maximal number you can obtain by deleting exactly one digit of the given number.\n",
    "def deleteDigit(n):\n",
    "    str_n = str(n)\n",
    "    if len(str_n) ==1:\n",
    "        return n\n",
    "    for i in range(len(n)):\n",
    "        # pos 0\n",
    "        if l[i] < l[i]\n",
    "\n",
    "n= 152\n",
    "ans=52\n",
    "# n= 1001\n",
    "# ans=101\n",
    "\n",
    "print('Us',deleteDigit(n))\n",
    "print('ans',ans)"
   ]
  }
 ]
}