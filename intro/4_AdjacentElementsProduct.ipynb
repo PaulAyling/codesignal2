{
 "cells": [
  {
   "cell_type": "code",
   "execution_count": 11,
   "metadata": {},
   "outputs": [
    {
     "name": "stdout",
     "output_type": "stream",
     "text": [
      "0\n",
      "1\n",
      "2\n",
      "3\n",
      "4\n",
      "RES 21\n"
     ]
    }
   ],
   "source": [
    "def solution(inputArray):\n",
    "    # find two consequtive ints with highest prod return product\n",
    "    res = 0\n",
    "    for n in range(len(inputArray)-1):\n",
    "        print(n)\n",
    "        if inputArray[n] * inputArray[n+1] > res:\n",
    "            res = inputArray[n] * inputArray[n+1]\n",
    "    return res\n",
    "        \n",
    "\n",
    "print('RES',solution([3, 6, -2, -5, 7, 3]))"
   ]
  }
 ],
 "metadata": {
  "interpreter": {
   "hash": "31f2aee4e71d21fbe5cf8b01ff0e069b9275f58929596ceb00d14d90e3e16cd6"
  },
  "kernelspec": {
   "display_name": "Python 3.8.9 64-bit",
   "language": "python",
   "name": "python3"
  },
  "language_info": {
   "codemirror_mode": {
    "name": "ipython",
    "version": 3
   },
   "file_extension": ".py",
   "mimetype": "text/x-python",
   "name": "python",
   "nbconvert_exporter": "python",
   "pygments_lexer": "ipython3",
   "version": "3.8.9"
  },
  "orig_nbformat": 4
 },
 "nbformat": 4,
 "nbformat_minor": 2
}
