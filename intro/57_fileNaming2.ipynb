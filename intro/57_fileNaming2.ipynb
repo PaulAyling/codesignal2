{
 "cells": [
  {
   "cell_type": "code",
   "execution_count": 47,
   "source": [
    "import copy\n",
    "def fileNaming(names):\n",
    "    def update_manager(nameList):\n",
    "        work_list = copy.deepcopy(nameList)\n",
    "        work_list.sort() \n",
    "        if len(nameList) != max(nameList) +1: # is list contigeous eg [0,1,2] not [0,2]\n",
    "            for n in range(len(nameList)):\n",
    "                if work_list[n] != n:\n",
    "                    nameList.append(n)\n",
    "                    return nameList\n",
    "        else:   # if namelist is cotigeous just add a new max\n",
    "            nameList.append(max(nameList) +1)\n",
    "        return nameList\n",
    "\n",
    "    def split_parts(name):\n",
    "        def label_Part_fn(string):\n",
    "            return string[-3:]\n",
    "        def name_Part_fn(string):\n",
    "            return string[:-3]\n",
    "        labelPart = label_Part_fn(name)\n",
    "        namePart = name_Part_fn(name)\n",
    "        numbers = ['1','2','3','4','5','6','7','8','9']\n",
    "        if labelPart[0] == '(' and labelPart[1] in numbers and labelPart[2] == ')':\n",
    "            return (True,namePart,int(labelPart[1]))\n",
    "        else:\n",
    "            return (False,name,'')\n",
    "    def append_label(name_part,nbr):\n",
    "        return name_part+'('+str(nbr)+')'\n",
    "    #Program\n",
    "    result = list()\n",
    "    names_manager = dict() \n",
    "    for index,name in enumerate(names):\n",
    "        (name_has_label, name_part, labelNumber) = split_parts(name)\n",
    "        if name_has_label == True:\n",
    "            if name in result:\n",
    "                # got label name in result\n",
    "                print(index ,name,'name has label and name in result: ')\n",
    "                names_manager[name_part].append(labelNumber)\n",
    "                # THIS IS THE PROBLEM\n",
    "                new_name = name+'(1)'\n",
    "                result.append(new_name)\n",
    "            else:\n",
    "                if name_part in names_manager:\n",
    "                    names_manager[name_part].append(labelNumber)\n",
    "                else:\n",
    "                    names_manager[name_part]=[labelNumber]\n",
    "                result.append(name)\n",
    "        else:\n",
    "            # in result, not a label\n",
    "            if name in result:\n",
    "                new_names = update_manager(names_manager[name])\n",
    "                names_manager[name] = new_names\n",
    "                new_name = append_label(name_part,names_manager[name][-1])\n",
    "                result.append(new_name)\n",
    "            else:\n",
    "                if name in names_manager:\n",
    "                    new_names = update_manager(names_manager[name])\n",
    "                    names_manager[name] = new_names\n",
    "                    result.append(name)\n",
    "                else:\n",
    "                    names_manager[name] = [0]\n",
    "                    result.append(name)\n",
    "        print('Iteration:    ',index,name,'       Meta:',name_has_label, name_part, labelNumber,names_manager, result) if index == 7 else None\n",
    "    print('-----------------------------------------------------------------------')\n",
    "    return result\n",
    "    \n",
    "# Original\n",
    "# names = [\"doc\", \"doc\", ]\n",
    "# ans =   [\"doc\", \"doc(1)\"]\n",
    "# names = [\"doc\", \"doc\", \"image\", \"doc(1)\", \"doc\"]\n",
    "# ans =   [\"doc\", \"doc(1)\", \"image\", \"doc(1)(1)\", \"doc(2)\"]\n",
    "\n",
    "# names = [\"doc\", \"doc\", \"doc(1)\", \"doc\"]\n",
    "# ans =   [\"doc\", \"doc(1)\", \"doc(1)(1)\", \"doc(2)\"]\n",
    "\n",
    "\n",
    "# names = [\"a(1)\" ]\n",
    "# ans =   [\"a(1)\"]\n",
    "# names = [\"a(1)\", \"a(6)\", \"a\",\"a\"  ]\n",
    "# ans =   [\"a(1)\", \"a(6)\", \"a\",\"a(2)\"  ]\n",
    "# names = [\"a(1)\", \"a(3)\", \"a\", \"a\", \"a\"]\n",
    "# ans =   [\"a(1)\", \"a(3)\", \"a\", \"a(2)\", \"a(4)\"]\n",
    "# names = [\"a(1)\", \"a(6)\", \"a\", \"a\", \"a\", \"a\", \"a\", \"a\", \"a\", \"a\", \"a\", \"a\"]\n",
    "# ans =   [\"a(1)\", \"a(6)\", \"a\", \"a(2)\", \"a(3)\", \"a(4)\", \"a(5)\", \"a(7)\", \"a(8)\", \"a(9)\", \"a(10)\", \"a(11)\"]\n",
    "\n",
    "\n",
    "\n",
    "names = [\"dd\",\"dd(1)\",\"dd(2)\",\"dd\",\"dd(1)\",\"dd(1)(2)\",\"dd(1)(1)\", \"dd\", \"dd(1)\"]\n",
    "ans = [\"dd\", \"dd(1)\", \"dd(2)\", \"dd(3)\", \"dd(1)(1)\", \"dd(1)(2)\", \"dd(1)(1)(1)\", \"dd(4)\", \"dd(1)(3)\"]\n",
    "print('MINE   :',fileNaming(names))\n",
    "print('CORRECT:',ans)\n",
    "\n",
    "\n"
   ],
   "outputs": [
    {
     "output_type": "stream",
     "name": "stdout",
     "text": [
      "4 dd(1) name has label and name in result: \n",
      "6 dd(1)(1) name has label and name in result: \n",
      "Iteration:     7 dd        Meta: False dd  {'dd': [0, 1, 2, 3, 1, 2], 'dd(1)': [2, 1]} ['dd', 'dd(1)', 'dd(2)', 'dd(3)', 'dd(1)(1)', 'dd(1)(2)', 'dd(1)(1)(1)', 'dd(2)']\n",
      "8 dd(1) name has label and name in result: \n",
      "-----------------------------------------------------------------------\n",
      "MINE   : ['dd', 'dd(1)', 'dd(2)', 'dd(3)', 'dd(1)(1)', 'dd(1)(2)', 'dd(1)(1)(1)', 'dd(2)', 'dd(1)(1)']\n",
      "CORRECT: ['dd', 'dd(1)', 'dd(2)', 'dd(3)', 'dd(1)(1)', 'dd(1)(2)', 'dd(1)(1)(1)', 'dd(4)', 'dd(1)(3)']\n"
     ]
    }
   ],
   "metadata": {}
  },
  {
   "cell_type": "code",
   "execution_count": 41,
   "source": [
    "\n",
    "\n",
    "a = 4\n",
    "b= 0\n",
    "b=3 if a == 4 else none\n",
    "print(b)"
   ],
   "outputs": [
    {
     "output_type": "stream",
     "name": "stdout",
     "text": [
      "3\n"
     ]
    }
   ],
   "metadata": {}
  },
  {
   "cell_type": "code",
   "execution_count": null,
   "source": [
    "myList = []\n",
    "False and myList.append('myString')\n",
    "False\n",
    "myList\n",
    "[]\n",
    ">>> True and myList.append('myString')\n",
    ">>> myList\n",
    "['myString']\n",
    "\n"
   ],
   "outputs": [],
   "metadata": {}
  }
 ],
 "metadata": {
  "orig_nbformat": 4,
  "language_info": {
   "name": "python",
   "version": "3.9.6",
   "mimetype": "text/x-python",
   "codemirror_mode": {
    "name": "ipython",
    "version": 3
   },
   "pygments_lexer": "ipython3",
   "nbconvert_exporter": "python",
   "file_extension": ".py"
  },
  "kernelspec": {
   "name": "python3",
   "display_name": "Python 3.9.6 64-bit"
  },
  "interpreter": {
   "hash": "aee8b7b246df8f9039afb4144a1f6fd8d2ca17a180786b69acc140d282b71a49"
  }
 },
 "nbformat": 4,
 "nbformat_minor": 2
}