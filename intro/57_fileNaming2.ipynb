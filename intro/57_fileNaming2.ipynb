{
 "cells": [
  {
   "cell_type": "code",
   "execution_count": 1,
   "source": [
    "import copy\n",
    "def fileNaming(names):\n",
    "    def update_manager(nameList):\n",
    "        work_list = copy.deepcopy(nameList) \n",
    "        work_list.sort()\n",
    "        min_nbr = min(nameList) \n",
    "        max_nbr = max(nameList) \n",
    "        filled_length = len(nameList)\n",
    "        n = 0\n",
    "        if filled_length != max_nbr+1:\n",
    "            for n in range(len(nameList)):\n",
    "                if work_list[n] != n:\n",
    "                    nameList.append(n)\n",
    "                    return nameList\n",
    "        return nameList\n",
    "    def split_parts(name):\n",
    "        def label_Part_fn(string):\n",
    "            return string[-3:]\n",
    "        def name_Part_fn(string):\n",
    "            return string[:-3]\n",
    "        labelPart = label_Part_fn(name)\n",
    "        namePart = name_Part_fn(name)\n",
    "        numbers = ['1','2','3','4','5','6','7','8','9']\n",
    "        if labelPart[0] == '(' and labelPart[1] in numbers and labelPart[2] == ')':\n",
    "            return (True,namePart,int(labelPart[1]))\n",
    "        else:\n",
    "            return (False,name,'')\n",
    "    def append_label(name_part,nbr):\n",
    "        return name_part+'('+str(nbr)+')'\n",
    "    #Program\n",
    "    result = list()\n",
    "    names_manager = dict() \n",
    "    for name in names:\n",
    "        (name_has_label, name_part, labelNumber) = split_parts(name)\n",
    "        print('Iteration:    ',name,'       Meta:',name_has_label, name_part, labelNumber)\n",
    "        if name_has_label == True:\n",
    "            if name in result:\n",
    "                print('name in result')\n",
    "                new_name = name+'(1)'\n",
    "                names_manager[new_name]=[0]\n",
    "                result.append(new_name)\n",
    "            else:\n",
    "                names_manager[name]=1\n",
    "                result.append(name)\n",
    "        else:\n",
    "            if name in result:\n",
    "                new_name = append_label(name_part,names_manager[name])\n",
    "                result.append(new_name)\n",
    "            else:\n",
    "                new_names = update_manager(names_manager[name])\n",
    "                names_manager[name] = new_names\n",
    "                result.append(name)\n",
    "\n",
    "    return result\n",
    "    \n",
    "# Original\n",
    "# names = [\"doc\", \"doc\", \"image\", \"doc(1)\", \"doc\"]\n",
    "# ans =   [\"doc\", \"doc(1)\", \"image\", \"doc(1)(1)\", \"doc(2)\"]\n",
    "\n",
    "# names = [\"doc\", \"doc\", \"doc(1)\", \"doc\"]\n",
    "# ans =   [\"doc\", \"doc(1)\", \"doc(1)(1)\", \"doc(2)\"]\n",
    "\n",
    "\n",
    "names = [\"a(1)\", \"a(6)\", \"a\", \"a\", \"a\", \"a\", \"a\", \"a\", \"a\", \"a\", \"a\", \"a\"]\n",
    "ans =   [\"a(1)\", \"a(6)\", \"a\", \"a(2)\", \"a(3)\", \"a(4)\", \"a(5)\", \"a(7)\", \"a(8)\", \"a(9)\", \"a(10)\", \"a(11)\"]\n",
    "\n",
    "print('MINE   :',fileNaming(names))\n",
    "print('CORRECT:',ans)"
   ],
   "outputs": [
    {
     "output_type": "stream",
     "name": "stdout",
     "text": [
      "Iteration:     a(1)        Meta: True a 1\n",
      "Iteration:     a(6)        Meta: True a 6\n",
      "Iteration:     a        Meta: False a \n"
     ]
    },
    {
     "output_type": "error",
     "ename": "KeyError",
     "evalue": "'a'",
     "traceback": [
      "\u001b[0;31m---------------------------------------------------------------------------\u001b[0m",
      "\u001b[0;31mKeyError\u001b[0m                                  Traceback (most recent call last)",
      "\u001b[0;32m<ipython-input-1-ba14159e2278>\u001b[0m in \u001b[0;36m<module>\u001b[0;34m\u001b[0m\n\u001b[1;32m     65\u001b[0m \u001b[0mans\u001b[0m \u001b[0;34m=\u001b[0m   \u001b[0;34m[\u001b[0m\u001b[0;34m\"a(1)\"\u001b[0m\u001b[0;34m,\u001b[0m \u001b[0;34m\"a(6)\"\u001b[0m\u001b[0;34m,\u001b[0m \u001b[0;34m\"a\"\u001b[0m\u001b[0;34m,\u001b[0m \u001b[0;34m\"a(2)\"\u001b[0m\u001b[0;34m,\u001b[0m \u001b[0;34m\"a(3)\"\u001b[0m\u001b[0;34m,\u001b[0m \u001b[0;34m\"a(4)\"\u001b[0m\u001b[0;34m,\u001b[0m \u001b[0;34m\"a(5)\"\u001b[0m\u001b[0;34m,\u001b[0m \u001b[0;34m\"a(7)\"\u001b[0m\u001b[0;34m,\u001b[0m \u001b[0;34m\"a(8)\"\u001b[0m\u001b[0;34m,\u001b[0m \u001b[0;34m\"a(9)\"\u001b[0m\u001b[0;34m,\u001b[0m \u001b[0;34m\"a(10)\"\u001b[0m\u001b[0;34m,\u001b[0m \u001b[0;34m\"a(11)\"\u001b[0m\u001b[0;34m]\u001b[0m\u001b[0;34m\u001b[0m\u001b[0;34m\u001b[0m\u001b[0m\n\u001b[1;32m     66\u001b[0m \u001b[0;34m\u001b[0m\u001b[0m\n\u001b[0;32m---> 67\u001b[0;31m \u001b[0mprint\u001b[0m\u001b[0;34m(\u001b[0m\u001b[0;34m'MINE   :'\u001b[0m\u001b[0;34m,\u001b[0m\u001b[0mfileNaming\u001b[0m\u001b[0;34m(\u001b[0m\u001b[0mnames\u001b[0m\u001b[0;34m)\u001b[0m\u001b[0;34m)\u001b[0m\u001b[0;34m\u001b[0m\u001b[0;34m\u001b[0m\u001b[0m\n\u001b[0m\u001b[1;32m     68\u001b[0m \u001b[0mprint\u001b[0m\u001b[0;34m(\u001b[0m\u001b[0;34m'CORRECT:'\u001b[0m\u001b[0;34m,\u001b[0m\u001b[0mans\u001b[0m\u001b[0;34m)\u001b[0m\u001b[0;34m\u001b[0m\u001b[0;34m\u001b[0m\u001b[0m\n",
      "\u001b[0;32m<ipython-input-1-ba14159e2278>\u001b[0m in \u001b[0;36mfileNaming\u001b[0;34m(names)\u001b[0m\n\u001b[1;32m     48\u001b[0m                 \u001b[0mresult\u001b[0m\u001b[0;34m.\u001b[0m\u001b[0mappend\u001b[0m\u001b[0;34m(\u001b[0m\u001b[0mnew_name\u001b[0m\u001b[0;34m)\u001b[0m\u001b[0;34m\u001b[0m\u001b[0;34m\u001b[0m\u001b[0m\n\u001b[1;32m     49\u001b[0m             \u001b[0;32melse\u001b[0m\u001b[0;34m:\u001b[0m\u001b[0;34m\u001b[0m\u001b[0;34m\u001b[0m\u001b[0m\n\u001b[0;32m---> 50\u001b[0;31m                 \u001b[0mnew_names\u001b[0m \u001b[0;34m=\u001b[0m \u001b[0mupdate_manager\u001b[0m\u001b[0;34m(\u001b[0m\u001b[0mnames_manager\u001b[0m\u001b[0;34m[\u001b[0m\u001b[0mname\u001b[0m\u001b[0;34m]\u001b[0m\u001b[0;34m)\u001b[0m\u001b[0;34m\u001b[0m\u001b[0;34m\u001b[0m\u001b[0m\n\u001b[0m\u001b[1;32m     51\u001b[0m                 \u001b[0mnames_manager\u001b[0m\u001b[0;34m[\u001b[0m\u001b[0mname\u001b[0m\u001b[0;34m]\u001b[0m \u001b[0;34m=\u001b[0m \u001b[0mnew_names\u001b[0m\u001b[0;34m\u001b[0m\u001b[0;34m\u001b[0m\u001b[0m\n\u001b[1;32m     52\u001b[0m                 \u001b[0mresult\u001b[0m\u001b[0;34m.\u001b[0m\u001b[0mappend\u001b[0m\u001b[0;34m(\u001b[0m\u001b[0mname\u001b[0m\u001b[0;34m)\u001b[0m\u001b[0;34m\u001b[0m\u001b[0;34m\u001b[0m\u001b[0m\n",
      "\u001b[0;31mKeyError\u001b[0m: 'a'"
     ]
    }
   ],
   "metadata": {}
  },
  {
   "cell_type": "code",
   "execution_count": null,
   "source": [],
   "outputs": [],
   "metadata": {}
  }
 ],
 "metadata": {
  "orig_nbformat": 4,
  "language_info": {
   "name": "python",
   "version": "3.8.5",
   "mimetype": "text/x-python",
   "codemirror_mode": {
    "name": "ipython",
    "version": 3
   },
   "pygments_lexer": "ipython3",
   "nbconvert_exporter": "python",
   "file_extension": ".py"
  },
  "kernelspec": {
   "name": "python3",
   "display_name": "Python 3.8.5 64-bit ('base': conda)"
  },
  "interpreter": {
   "hash": "a8ed6b6aaa83e0c75564d8643a7111be6f47b679c5d32737ff20a5a7a3944855"
  }
 },
 "nbformat": 4,
 "nbformat_minor": 2
}