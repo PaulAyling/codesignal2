{
 "metadata": {
  "language_info": {
   "codemirror_mode": {
    "name": "ipython",
    "version": 3
   },
   "file_extension": ".py",
   "mimetype": "text/x-python",
   "name": "python",
   "nbconvert_exporter": "python",
   "pygments_lexer": "ipython3",
   "version": "3.8.3"
  },
  "orig_nbformat": 4,
  "kernelspec": {
   "name": "python3",
   "display_name": "Python 3.8.3 64-bit ('base': conda)"
  },
  "interpreter": {
   "hash": "a8ed6b6aaa83e0c75564d8643a7111be6f47b679c5d32737ff20a5a7a3944855"
  }
 },
 "nbformat": 4,
 "nbformat_minor": 2,
 "cells": [
  {
   "cell_type": "code",
   "execution_count": 24,
   "metadata": {},
   "outputs": [
    {
     "output_type": "stream",
     "name": "stdout",
     "text": [
      "2 2a\ngot to the end\nlast one is uniqu!\nres: 2a3cb\nans: 2a3bc\n"
     ]
    }
   ],
   "source": [
    "def lineEncoding(s):\n",
    "    def getStr(cur_char,cur_count,):\n",
    "        return cur_char if cur_count==1 else str(cur_count)+cur_char\n",
    "    buffer = {'char':s[0],'cnt':1}\n",
    "    result = ''\n",
    "    for n in range(1,len(s)):\n",
    "        if len(s) -1== n:\n",
    "            print('got to the end')\n",
    "            if s[n] != buffer['char']:\n",
    "                print('last one is uniqu!')\n",
    "                return result +getStr(buffer['char'],str(buffer['cnt'])+str(s[n])) \n",
    "        if s[n] != buffer['char']:\n",
    "            result = result + getStr(buffer['char'],buffer['cnt'])  \n",
    "            buffer = {'char':s[n],'cnt':1}\n",
    "            print(n,result)\n",
    "        else:\n",
    "            buffer['cnt'] += 1\n",
    "    return result\n",
    "\n",
    "\n",
    "s =  \"aabbbc\"  \n",
    "ans= \"2a3bc\"\n",
    "print('res:',lineEncoding(s))\n",
    "print('ans:',ans)\n",
    "        "
   ]
  },
  {
   "cell_type": "code",
   "execution_count": null,
   "metadata": {},
   "outputs": [],
   "source": []
  },
  {
   "cell_type": "code",
   "execution_count": null,
   "metadata": {},
   "outputs": [],
   "source": [
    "myDict = {'a':3}\n",
    "print(myDict)\n",
    "myDict['a'] = 10\n",
    "print(myDict)\n",
    "myDict['b'] =  20\n",
    "print(myDict)\n"
   ]
  },
  {
   "cell_type": "code",
   "execution_count": 4,
   "metadata": {},
   "outputs": [
    {
     "output_type": "stream",
     "name": "stdout",
     "text": [
      "2a\n"
     ]
    },
    {
     "output_type": "execute_result",
     "data": {
      "text/plain": [
       "'2a'"
      ]
     },
     "metadata": {},
     "execution_count": 4
    }
   ],
   "source": [
    "cur_count = 2\n",
    "cur_char = 'a'\n",
    "def getChar(cur_count,cur_char):\n",
    "    if cur_count ==1:\n",
    "        return cur_char\n",
    "    else:\n",
    "        return str(cur_count)+cur_char\n",
    "print(getChar(cur_count,cur_char))\n",
    "\n",
    "def getCharTurnery(cur_count,cur_char):\n",
    "    return cur_char if cur_count==1 else str(cur_count)+cur_char\n",
    "getCharTurnery(cur_count,cur_char)"
   ]
  },
  {
   "cell_type": "code",
   "execution_count": null,
   "metadata": {},
   "outputs": [],
   "source": [
    "# USING TERNARY OPERATOR\n",
    "to_check = 6\n",
    "msg = \"Even\" if to_check%2 == 0 else \"Odd\"\n",
    "print(msg) \n",
    "\n",
    "# USING USUAL IF-ELSE\n",
    "msg = \"\"\n",
    "if(to_check%2 == 0):\n",
    "  msg = \"Even\"\n",
    "else:\n",
    "  msg = \"Odd\"\n",
    "print(msg)"
   ]
  },
  {
   "cell_type": "code",
   "execution_count": 46,
   "metadata": {},
   "outputs": [
    {
     "output_type": "stream",
     "name": "stdout",
     "text": [
      "1 ['a', 1] res \nat end\naddoing t result\nres: None\nans: 2a3bc\n"
     ]
    }
   ],
   "source": [
    "def lineEncoding(s):\n",
    "    def getStr(buffer):\n",
    "        return buffer[0] if buffer[1] else str(buffer[1])+buffer[0]\n",
    "    buffer = [s[0],1]\n",
    "    result = ''\n",
    "    for n in range(1,len(s)):\n",
    "        print(n,buffer, 'res',result)\n",
    "        if n == len(s)-1:\n",
    "            print('at end')\n",
    "        if s[n] == buffer[0]:\n",
    "            buffer[1] += 1\n",
    "        else:\n",
    "            print('addoing t result')\n",
    "            update_str = getStr(buffer)\n",
    "            result = result + update_str\n",
    "            buffer = [s[n],1]\n",
    "    \n",
    "\n",
    "s =  \"ab\"  \n",
    "ans= \"2a3bc\"\n",
    "print('res:',lineEncoding(s))\n",
    "print('ans:',ans)\n",
    "        "
   ]
  },
  {
   "cell_type": "code",
   "execution_count": null,
   "metadata": {},
   "outputs": [],
   "source": []
  }
 ]
}