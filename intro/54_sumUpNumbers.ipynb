{
 "cells": [
  {
   "cell_type": "code",
   "execution_count": null,
   "source": [
    "def sumUpNumbers(inputString):\n",
    "    res_string = ''\n",
    "    res = [0]\n",
    "    def isNumber(c):\n",
    "        return True if ord(c) in range(48,58) else False\n",
    "    for item in inputString:\n",
    "        if isNumber(item):\n",
    "            res_string += item\n",
    "        else:\n",
    "            if res_string != '':\n",
    "                res.append(int(res_string))\n",
    "                res_string =''\n",
    "    print('res_string',res_string)\n",
    "    if len(res) == 1:\n",
    "        if res_string == '':\n",
    "            res = [0]\n",
    "        else:\n",
    "            res.append(int(res_string))\n",
    "    if res_string != '':\n",
    "        res.append(int(res_string))\n",
    "    print('res',res)\n",
    "    return sum(res)\n",
    "\n",
    "inputString= '123450'\n",
    "ans = '123450'\n",
    "print(sumUpNumbers(inputString),'correctAns:', ans)"
   ],
   "outputs": [],
   "metadata": {}
  },
  {
   "cell_type": "code",
   "execution_count": null,
   "source": [
    "print()"
   ],
   "outputs": [],
   "metadata": {}
  }
 ],
 "metadata": {
  "orig_nbformat": 4,
  "language_info": {
   "name": "python"
  }
 },
 "nbformat": 4,
 "nbformat_minor": 2
}