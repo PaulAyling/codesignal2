{
 "cells": [
  {
   "cell_type": "code",
   "execution_count": null,
   "metadata": {},
   "outputs": [],
   "source": [
    "def spiralNumbers(n):\n",
    "    def createEmptyMatrix(n):\n",
    "        return [ [None] * n for _ in range(n) ]\n",
    "\n",
    "\n",
    "    def createLine(st_row,st_col,matrix):\n",
    "        counter = 0\n",
    "        matrix = createEmptyMatrix(n)\n",
    "        exceededLength = False\n",
    "        # print(matrix)\n",
    "        while matrix[row][col] == None and exceededLength == False:\n",
    "            matrix[row][col] = seq[counter]\n",
    "            counter+=1\n",
    "            exceededLength = True if col > 2 else False\n",
    "            print(row,col,exceededLength)\n",
    "            if exceededLength == False:\n",
    "                col +=1 \n",
    "        return matrix\n",
    "\n",
    "\n",
    "\n",
    "    #Navigate the matrix\n",
    "    row = 0\n",
    "    col = 0\n",
    "    seq = [1,2,3,4,5,6,7,8,9,10,11,12,13,14,15,16]\n",
    "    counter = 0\n",
    "\n",
    "    matrix = createEmptyMatrix(n)\n",
    "    exceededLength = False\n",
    "    # print(matrix)\n",
    "    while matrix[row][col] == None and exceededLength == False:\n",
    "        matrix[row][col] = seq[counter]\n",
    "        counter+=1\n",
    "        exceededLength = True if col > 2 else False\n",
    "        print(row,col,exceededLength)\n",
    "        if exceededLength == False:\n",
    "            col +=1 \n",
    "    return matrix\n",
    "\n",
    "\n",
    "\n",
    "n = 4\n",
    "print(spiralNumbers(n))\n"
   ]
  },
  {
   "cell_type": "code",
   "execution_count": 26,
   "metadata": {},
   "outputs": [
    {
     "name": "stdout",
     "output_type": "stream",
     "text": [
      "new_coord (3, 1)\n",
      "[[1, 2, 3, 4], [None, None, None, None], [None, None, None, None], [None, None, None, None]]\n",
      "(4, 3)\n",
      "[[1, 2, 3, 4], [None, None, None, 5], [None, None, None, 6], [None, None, None, 7]]\n"
     ]
    }
   ],
   "source": [
    "def createEmptyMatrix(n):\n",
    "    return [ [None] * n for _ in range(n) ]\n",
    "\n",
    "def createLine_right(coord,direction,matrix):\n",
    "    # [x, y] = coords\n",
    "    x = coord[0]\n",
    "    y = coord[1]\n",
    "    counter = 0\n",
    "    exceededLength = False\n",
    "    # print(matrix)\n",
    "    while matrix[y][x] == None and exceededLength == False:\n",
    "        matrix[y][x] = seq[counter]\n",
    "        counter+=1\n",
    "        exceededLength = True if x > 2 else False\n",
    "        if exceededLength == False:\n",
    "            x +=1 \n",
    "    return (x,y+1,seq[counter])\n",
    "def createLine_down(coord,direction,matrix):\n",
    "    # [x, y] = coords\n",
    "    x = coord[0]\n",
    "    y = coord[1]\n",
    "    counter = 4\n",
    "    exceededLength = False\n",
    "    # print(matrix)\n",
    "    while matrix[y][x] == None and exceededLength == False:\n",
    "        matrix[y][x] = seq[counter]\n",
    "        counter+=1\n",
    "        exceededLength = True if y > 2 else False\n",
    "        if exceededLength == False:\n",
    "            y +=1 \n",
    "    return (x+1,y)\n",
    "\n",
    "\n",
    "\n",
    "\n",
    "row = 0\n",
    "col = 0\n",
    "coord=(0,0)\n",
    "seq = [1,2,3,4,5,6,7,8,9,10,11,12,13,14,15,16] \n",
    "n = 4\n",
    "matrix = createEmptyMatrix(n) \n",
    "\n",
    "new_coord = createLine_right(coord,'right',matrix)\n",
    "print('new_coord',new_coord)\n",
    "print(matrix)\n",
    "print(createLine_down(new_coord,'down',matrix))\n",
    "print(matrix)\n"
   ]
  },
  {
   "cell_type": "code",
   "execution_count": null,
   "metadata": {},
   "outputs": [],
   "source": [
    "newDirection(col,row,matrix):\n",
    "    "
   ]
  }
 ],
 "metadata": {
  "kernelspec": {
   "display_name": "Python 3.9.6 64-bit",
   "metadata": {
    "interpreter": {
     "hash": "b8bdd4e700647ba2b08c59e5df8b7da1dcf50a218bcd4c1bcd9b3dc92e8788e5"
    }
   },
   "name": "python3"
  },
  "language_info": {
   "codemirror_mode": {
    "name": "ipython",
    "version": 3
   },
   "file_extension": ".py",
   "mimetype": "text/x-python",
   "name": "python",
   "nbconvert_exporter": "python",
   "pygments_lexer": "ipython3",
   "version": "3.9.6"
  },
  "orig_nbformat": 2
 },
 "nbformat": 4,
 "nbformat_minor": 2
}