{
 "cells": [
  {
   "cell_type": "code",
   "execution_count": 49,
   "metadata": {},
   "outputs": [
    {
     "name": "stdout",
     "output_type": "stream",
     "text": [
      "0 0 False\n",
      "0 1 False\n",
      "0 2 False\n",
      "0 3 True\n",
      "[[1, 2, 3, 4], [None, None, None, None], [None, None, None, None], [None, None, None, None]]\n"
     ]
    }
   ],
   "source": [
    "def spiralNumbers(n):\n",
    "    def createEmptyMatrix(n):\n",
    "        return [ [None] * n for _ in range(n) ]\n",
    "    #Navigate the matrix\n",
    "    row = 0\n",
    "    col = 0\n",
    "    seq = [1,2,3,4,5,6,7,8,9,10,11,12,13,14,15,16]\n",
    "    counter = 0\n",
    "\n",
    "    matrix = createEmptyMatrix(n)\n",
    "    exceededLength = False\n",
    "    # print(matrix)\n",
    "    while matrix[row][col] == None and exceededLength == False:\n",
    "        matrix[row][col] = seq[counter]\n",
    "        counter+=1\n",
    "        exceededLength = True if col > 2 else False\n",
    "        print(row,col,exceededLength)\n",
    "        if exceededLength == False:\n",
    "            col +=1 \n",
    "    return matrix\n",
    "\n",
    "n = 4\n",
    "print(spiralNumbers(n))\n"
   ]
  },
  {
   "cell_type": "code",
   "execution_count": null,
   "metadata": {},
   "outputs": [],
   "source": []
  }
 ],
 "metadata": {
  "kernelspec": {
   "display_name": "Python 3.9.6 64-bit",
   "metadata": {
    "interpreter": {
     "hash": "b8bdd4e700647ba2b08c59e5df8b7da1dcf50a218bcd4c1bcd9b3dc92e8788e5"
    }
   },
   "name": "python3"
  },
  "language_info": {
   "codemirror_mode": {
    "name": "ipython",
    "version": 3
   },
   "file_extension": ".py",
   "mimetype": "text/x-python",
   "name": "python",
   "nbconvert_exporter": "python",
   "pygments_lexer": "ipython3",
   "version": "3.9.6"
  },
  "orig_nbformat": 2
 },
 "nbformat": 4,
 "nbformat_minor": 2
}