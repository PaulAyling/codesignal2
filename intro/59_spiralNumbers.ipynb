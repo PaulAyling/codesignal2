{
 "cells": [
  {
   "cell_type": "code",
   "execution_count": 18,
   "source": [
    "def createEmptyMatrix(n):\n",
    "    return [ [None] * n for _ in range(n) ]\n",
    "\n",
    "def createLine_right(coord,matrix):\n",
    "    x = coord[0]\n",
    "    y = coord[1]\n",
    "    counter = coord[2]\n",
    "    exceededLength = False\n",
    "    while matrix[y][x] == None and exceededLength == False:\n",
    "        matrix[y][x] = seq[counter]\n",
    "        counter+=1\n",
    "        exceededLength = True if x > 2 else False\n",
    "        if exceededLength == False:\n",
    "            x +=1 \n",
    "    return (x,y+1,counter)\n",
    "def createLine_down(coord,matrix):\n",
    "    x = coord[0]\n",
    "    y = coord[1]\n",
    "    counter = coord[2]\n",
    "    exceededLength = False\n",
    "    while matrix[y][x] == None and exceededLength == False:\n",
    "        matrix[y][x] = seq[counter]\n",
    "        counter+=1\n",
    "        exceededLength = True if y > 2 else False\n",
    "        if exceededLength == False:\n",
    "            y +=1 \n",
    "    return (x-1,y,counter)\n",
    "\n",
    "def createLine_left(coord,matrix):\n",
    "    print('left',coord)\n",
    "    x = coord[0]\n",
    "    y = coord[1]\n",
    "    counter = coord[2]\n",
    "    exceededLength = False\n",
    "    while matrix[y][x] == None and exceededLength == False:\n",
    "        matrix[y][x] = seq[counter]\n",
    "        counter+=1\n",
    "        exceededLength = True if x < 1 else False\n",
    "        if exceededLength == False:\n",
    "            x -=1 \n",
    "    return (x,y-1,counter)\n",
    "def createLine_up(coord,matrix):\n",
    "    x = coord[0]\n",
    "    y = coord[1]\n",
    "    counter = coord[2]\n",
    "    exceededLength = False\n",
    "    while matrix[y][x] == None and exceededLength == False:\n",
    "        matrix[y][x] = seq[counter]\n",
    "        counter+=1\n",
    "        exceededLength = True if x < 1 else False\n",
    "        if exceededLength == False:\n",
    "            y -=1 \n",
    "    return (x+1,y,counter)\n",
    "\n",
    "\n",
    "\n",
    "row = 0\n",
    "col = 0\n",
    "coord=(0,0,0)\n",
    "seq = [1,2,3,4,5,6,7,8,9,10,11,12,13,14,15,16] \n",
    "n = 4\n",
    "matrix = createEmptyMatrix(n) \n",
    "\n",
    "new_coord_1 = createLine_right(coord,matrix)\n",
    "print('new_coord',new_coord_1)\n",
    "print(matrix)\n",
    "new_coord_2 =createLine_down(new_coord_1,matrix)\n",
    "print(new_coord_2)\n",
    "print(matrix)\n",
    "new_coord_3 = createLine_left(new_coord_2,matrix)\n",
    "print(new_coord_3)\n",
    "print(matrix)\n",
    "new_coord_4 = createLine_left(new_coord_3,matrix)\n",
    "print(new_coord_4)\n",
    "print(matrix)\n"
   ],
   "outputs": [
    {
     "output_type": "stream",
     "name": "stdout",
     "text": [
      "new_coord (3, 1, 4)\n",
      "[[1, 2, 3, 4], [None, None, None, None], [None, None, None, None], [None, None, None, None]]\n",
      "(2, 3, 7)\n",
      "[[1, 2, 3, 4], [None, None, None, 5], [None, None, None, 6], [None, None, None, 7]]\n",
      "left (2, 3, 7)\n",
      "(0, 2, 10)\n",
      "[[1, 2, 3, 4], [None, None, None, 5], [None, None, None, 6], [10, 9, 8, 7]]\n",
      "left (0, 2, 10)\n",
      "(0, 1, 11)\n",
      "[[1, 2, 3, 4], [None, None, None, 5], [11, None, None, 6], [10, 9, 8, 7]]\n"
     ]
    }
   ],
   "metadata": {}
  }
 ],
 "metadata": {
  "kernelspec": {
   "name": "python3",
   "display_name": "Python 3.9.6 64-bit"
  },
  "language_info": {
   "codemirror_mode": {
    "name": "ipython",
    "version": 3
   },
   "file_extension": ".py",
   "mimetype": "text/x-python",
   "name": "python",
   "nbconvert_exporter": "python",
   "pygments_lexer": "ipython3",
   "version": "3.9.6"
  },
  "orig_nbformat": 2,
  "interpreter": {
   "hash": "aee8b7b246df8f9039afb4144a1f6fd8d2ca17a180786b69acc140d282b71a49"
  }
 },
 "nbformat": 4,
 "nbformat_minor": 2
}