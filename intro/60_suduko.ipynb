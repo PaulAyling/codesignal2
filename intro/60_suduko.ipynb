{
 "cells": [
  {
   "cell_type": "code",
   "execution_count": 23,
   "source": [
    "import copy\n",
    "def sudoku(grid):\n",
    "    def evalList(grid):\n",
    "        test_list=[1,2,3,4,5,6,7,8,9]\n",
    "        suduko_is_valid = True\n",
    "        for row in grid:\n",
    "            new_r = copy.deepcopy(row)\n",
    "            new_r.sort()\n",
    "            if new_r != test_list:\n",
    "                suduko_is_valid = False\n",
    "                break\n",
    "        return suduko_is_valid\n",
    "    def createCol(grid):\n",
    "        result = list()\n",
    "        col_list = list()\n",
    "        for col in range(len(grid)):\n",
    "            for row in range(len(grid)):\n",
    "                col_list.append(grid[row][col])\n",
    "            result.append(col_list)\n",
    "            col_list = []\n",
    "        return result\n",
    "    def splitIntoSquares(grid):\n",
    "        result = list()\n",
    "        def create3By3(row,col,grid):\n",
    "            s_result = list()\n",
    "            for row_n  in range(3):\n",
    "                for col_n   in range(3):\n",
    "                    s_result.append(grid[row_n+row][col_n+col])\n",
    "            return s_result\n",
    "        for n_col in range(0,9,3):\n",
    "            for n_row in range(0,9,3):\n",
    "                print(n_col,n_row)\n",
    "                a_square = create3By3(n_row,n_col,grid)\n",
    "                result.append(a_square)\n",
    "        return result\n",
    "    result_row = evalList(grid)\n",
    "    all_col = createCol(grid)\n",
    "    result_col = evalList(all_col)\n",
    "    all_squares = splitIntoSquares(grid)\n",
    "    result_square = evalList(all_squares)\n",
    "\n",
    "    if result_row == True and result_col == True and result_square ==True:\n",
    "        return True\n",
    "    else:\n",
    "        return False\n",
    "grid = [[1,2,3,4,5,6,7,8,9], \n",
    " [4,5,6,7,8,9,1,2,3], \n",
    " [7,8,9,1,2,3,4,5,6], \n",
    " [2,3,4,5,6,7,8,9,1], \n",
    " [3,4,5,6,7,8,9,1,2], \n",
    " [5,6,7,8,9,1,2,3,4], \n",
    " [6,7,8,9,1,2,3,4,5], \n",
    " [8,9,1,2,3,4,5,6,7], \n",
    " [9,1,2,3,4,5,6,7,8]]\n",
    "print(sudoku(grid))      "
   ],
   "outputs": [
    {
     "output_type": "stream",
     "name": "stdout",
     "text": [
      "0 0\n",
      "0 3\n",
      "0 6\n",
      "3 0\n",
      "3 3\n",
      "3 6\n",
      "6 0\n",
      "6 3\n",
      "6 6\n",
      "False\n"
     ]
    }
   ],
   "metadata": {}
  },
  {
   "cell_type": "code",
   "execution_count": null,
   "source": [
    "def get_square(grid):\n",
    "    subs = {0:[0,1,2],1:[3,4,5],2:[6,7,8]}\n",
    "    res = list()\n",
    "    (row,col) =[0,0]\n",
    "\n",
    "    row_sq = int(row / 3)\n",
    "    col_sqr = int(col/3)\n",
    "\n",
    "    for row in subs[row_sq]:\n",
    "        for col in subs[col_sqr]:\n",
    "            print(row,col)\n",
    "        print('----')\n",
    "\n",
    "grid = [[1,2,3,4,5,6,7,8,9], \n",
    " [4,5,6,7,8,9,1,2,3], \n",
    " [7,8,9,1,2,3,4,5,6], \n",
    " [2,3,4,5,6,7,8,9,1], \n",
    " [3,4,5,6,7,8,9,1,2], \n",
    " [5,6,7,8,9,1,2,3,4], \n",
    " [6,7,8,9,1,2,3,4,5], \n",
    " [8,9,1,2,3,4,5,6,7], \n",
    " [9,1,2,3,4,5,6,7,8]]\n",
    "print(get_square(grid)) "
   ],
   "outputs": [],
   "metadata": {}
  },
  {
   "cell_type": "code",
   "execution_count": null,
   "source": [
    "def getSquares(grid):\n",
    "    while len()\n",
    "\n",
    "\n",
    "grid = [[1,2,3,4,5,6,7,8,9], \n",
    " [4,5,6,7,8,9,1,2,3], \n",
    " [7,8,9,1,2,3,4,5,6], \n",
    " [2,3,4,5,6,7,8,9,1], \n",
    " [3,4,5,6,7,8,9,1,2], \n",
    " [5,6,7,8,9,1,2,3,4], \n",
    " [6,7,8,9,1,2,3,4,5], \n",
    " [8,9,1,2,3,4,5,6,7], \n",
    " [9,1,2,3,4,5,6,7,8]]\n",
    "print(get_jdef splitIntoSquaressquare(grid)) "
   ],
   "outputs": [],
   "metadata": {}
  },
  {
   "cell_type": "code",
   "execution_count": 22,
   "source": [
    "def splitIntoSquares(grid):\n",
    "    result = list()\n",
    "    def create3By3(row,col,grid):\n",
    "        s_result = list()\n",
    "        for row_n  in range(3):\n",
    "            for col_n   in range(3):\n",
    "                s_result.append(grid[row_n+row][col_n+col])\n",
    "        return s_result\n",
    "    for n_col in range(0,9,3):\n",
    "        for n_row in range(0,9,3):\n",
    "            print(n_col,n_row)\n",
    "            a_square = create3By3(n_row,n_col,grid)\n",
    "            result.append(a_square)\n",
    "    return result\n",
    "n = 2\n",
    "grid = [\n",
    " [1,1,1,2,2,2,7,8,9], \n",
    " [4,5,6,7,8,9,1,2,3], \n",
    " [7,8,9,1,2,3,4,5,6], \n",
    " [2,3,4,5,6,7,8,9,1], \n",
    " [3,4,5,6,7,8,9,1,2], \n",
    " [5,6,7,8,9,1,2,3,4], \n",
    " [6,7,8,9,1,2,3,4,5], \n",
    " [8,9,1,2,3,4,5,6,7], \n",
    " [9,1,2,3,4,5,6,7,8]]\n",
    "splitIntoSquares(grid)"
   ],
   "outputs": [
    {
     "output_type": "stream",
     "name": "stdout",
     "text": [
      "0 0\n",
      "0 3\n",
      "0 6\n",
      "3 0\n",
      "3 3\n",
      "3 6\n",
      "6 0\n",
      "6 3\n",
      "6 6\n"
     ]
    },
    {
     "output_type": "execute_result",
     "data": {
      "text/plain": [
       "[[1, 1, 1, 4, 5, 6, 7, 8, 9],\n",
       " [2, 3, 4, 3, 4, 5, 5, 6, 7],\n",
       " [6, 7, 8, 8, 9, 1, 9, 1, 2],\n",
       " [2, 2, 2, 7, 8, 9, 1, 2, 3],\n",
       " [5, 6, 7, 6, 7, 8, 8, 9, 1],\n",
       " [9, 1, 2, 2, 3, 4, 3, 4, 5],\n",
       " [7, 8, 9, 1, 2, 3, 4, 5, 6],\n",
       " [8, 9, 1, 9, 1, 2, 2, 3, 4],\n",
       " [3, 4, 5, 5, 6, 7, 6, 7, 8]]"
      ]
     },
     "metadata": {},
     "execution_count": 22
    }
   ],
   "metadata": {}
  },
  {
   "cell_type": "code",
   "execution_count": 26,
   "source": [
    "mylist = [[1,2,3],False,'white']\n",
    "(result,effective,color) = mylist\n",
    "print(result)\n",
    "print(effective)\n",
    "x=1\n",
    "\n",
    "myVar =  '1' if x ==7 else '4'\n",
    "\n",
    "\n",
    "\n",
    "mybar = 't ' x==7 \n",
    "print(mybar)"
   ],
   "outputs": [
    {
     "output_type": "error",
     "ename": "SyntaxError",
     "evalue": "invalid syntax (2146299260.py, line 11)",
     "traceback": [
      "\u001b[0;36m  File \u001b[0;32m\"/var/folders/33/39mbtrs93d3_jzg917g754rm0000gn/T/ipykernel_15404/2146299260.py\"\u001b[0;36m, line \u001b[0;32m11\u001b[0m\n\u001b[0;31m    mybar = 't ' x==7\u001b[0m\n\u001b[0m                 ^\u001b[0m\n\u001b[0;31mSyntaxError\u001b[0m\u001b[0;31m:\u001b[0m invalid syntax\n"
     ]
    }
   ],
   "metadata": {}
  },
  {
   "cell_type": "code",
   "execution_count": null,
   "source": [],
   "outputs": [],
   "metadata": {}
  }
 ],
 "metadata": {
  "orig_nbformat": 4,
  "language_info": {
   "name": "python",
   "version": "3.9.6",
   "mimetype": "text/x-python",
   "codemirror_mode": {
    "name": "ipython",
    "version": 3
   },
   "pygments_lexer": "ipython3",
   "nbconvert_exporter": "python",
   "file_extension": ".py"
  },
  "kernelspec": {
   "name": "python3",
   "display_name": "Python 3.9.6 64-bit"
  },
  "interpreter": {
   "hash": "aee8b7b246df8f9039afb4144a1f6fd8d2ca17a180786b69acc140d282b71a49"
  }
 },
 "nbformat": 4,
 "nbformat_minor": 2
}