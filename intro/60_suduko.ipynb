{
 "cells": [
  {
   "cell_type": "code",
   "execution_count": 30,
   "source": [
    "import copy\n",
    "def sudoku(grid):\n",
    "    # for the suduko to be valid\n",
    "    #numbers 1-9 must be contained in\n",
    "    #rows\n",
    "    #cols\n",
    "    #subSquares\n",
    "\n",
    "    def evalRow(grid):\n",
    "        test_list=[1,2,3,4,5,6,7,8,9]\n",
    "        suduko_is_valid = True\n",
    "        for row in grid:\n",
    "            new_r = copy.deepcopy(row)\n",
    "            new_r.sort()\n",
    "            print(new_r)\n",
    "            if new_r != test_list:\n",
    "                # print('row not equal to testlist')\n",
    "                suduko_is_valid = False\n",
    "                break\n",
    "        return suduko_is_valid\n",
    "    def createCol(grid):\n",
    "        result = list()\n",
    "        col_list = list()\n",
    "        for col in range(len(grid)):\n",
    "            for row in range(len(grid)):\n",
    "                # print(row,col)\n",
    "                col_list.append(grid[row][col])\n",
    "            result.append(col_list)\n",
    "            # print(col_list)\n",
    "            col_list = []\n",
    "        return result\n",
    "\n",
    "    # result_row = evalRow(grid)\n",
    "    all_col = createCol(grid)\n",
    "    result_col = evalRow(all_col)\n",
    " \n",
    "\n",
    "    # if result_row == True and result_col == True and result_square ==True:\n",
    "    #     return True\n",
    "    # else:\n",
    "    #     return False\n",
    "\n",
    "\n",
    "grid = [[1,2,3,4,5,6,7,8,9], \n",
    " [4,5,6,7,8,9,1,2,3], \n",
    " [7,8,9,1,2,3,4,5,6], \n",
    " [2,3,4,5,6,7,8,9,1], \n",
    " [3,4,5,6,7,8,9,1,2], \n",
    " [5,6,7,8,9,1,2,3,4], \n",
    " [6,7,8,9,1,2,3,4,5], \n",
    " [8,9,1,2,3,4,5,6,7], \n",
    " [9,1,2,3,4,5,6,7,8]]\n",
    "print(sudoku(grid))      "
   ],
   "outputs": [
    {
     "output_type": "stream",
     "name": "stdout",
     "text": [
      "[1, 2, 3, 4, 5, 6, 7, 8, 9]\n",
      "[1, 2, 3, 4, 5, 6, 7, 8, 9]\n",
      "[1, 2, 3, 4, 5, 6, 7, 8, 9]\n",
      "[1, 2, 3, 4, 5, 6, 7, 8, 9]\n",
      "[1, 2, 3, 4, 5, 6, 7, 8, 9]\n",
      "[1, 2, 3, 4, 5, 6, 7, 8, 9]\n",
      "[1, 2, 3, 4, 5, 6, 7, 8, 9]\n",
      "[1, 2, 3, 4, 5, 6, 7, 8, 9]\n",
      "[1, 2, 3, 4, 5, 6, 7, 8, 9]\n",
      "None\n"
     ]
    }
   ],
   "metadata": {}
  }
 ],
 "metadata": {
  "orig_nbformat": 4,
  "language_info": {
   "name": "python",
   "version": "3.9.6",
   "mimetype": "text/x-python",
   "codemirror_mode": {
    "name": "ipython",
    "version": 3
   },
   "pygments_lexer": "ipython3",
   "nbconvert_exporter": "python",
   "file_extension": ".py"
  },
  "kernelspec": {
   "name": "python3",
   "display_name": "Python 3.9.6 64-bit"
  },
  "interpreter": {
   "hash": "aee8b7b246df8f9039afb4144a1f6fd8d2ca17a180786b69acc140d282b71a49"
  }
 },
 "nbformat": 4,
 "nbformat_minor": 2
}