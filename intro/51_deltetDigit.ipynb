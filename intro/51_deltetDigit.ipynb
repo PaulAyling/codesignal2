{
 "metadata": {
  "language_info": {
   "codemirror_mode": {
    "name": "ipython",
    "version": 3
   },
   "file_extension": ".py",
   "mimetype": "text/x-python",
   "name": "python",
   "nbconvert_exporter": "python",
   "pygments_lexer": "ipython3",
   "version": "3.8.3"
  },
  "orig_nbformat": 4,
  "kernelspec": {
   "name": "python3",
   "display_name": "Python 3.8.3 64-bit ('base': conda)"
  },
  "interpreter": {
   "hash": "a8ed6b6aaa83e0c75564d8643a7111be6f47b679c5d32737ff20a5a7a3944855"
  }
 },
 "nbformat": 4,
 "nbformat_minor": 2,
 "cells": [
  {
   "cell_type": "code",
   "execution_count": null,
   "metadata": {},
   "outputs": [],
   "source": [
    "def deleteDigit(n):\n",
    "    str_n = str(n)\n",
    "    if str_n[0] > str_n[1]:\n",
    "        if str_n[1] > str_n[2]:\n",
    "            return str_n[0:2]+str_n[3:]\n",
    "        else: \n",
    "            return str_n[0:3]+str_n[4:]\n",
    "\n",
    "\n",
    "ans = 655\n",
    "n = 6535\n",
    "print('res',deleteDigit(n))\n",
    "print('ans', ans)\n",
    "\n",
    "# loop str_n\n",
    "if n[x+1] > n[x]:\n",
    "    return del n[x]\n",
    "6535\n",
    "\n",
    "5 > 6 = F\n",
    "3> 5 = F\n",
    "5> 3 T => 655\n",
    "\n",
    "6794\n",
    "\n",
    "\n"
   ]
  },
  {
   "cell_type": "code",
   "execution_count": 8,
   "metadata": {},
   "outputs": [
    {
     "output_type": "stream",
     "name": "stdout",
     "text": [
      "635\n655\n653\n"
     ]
    }
   ],
   "source": [
    "str_n = str(6535)           #6535    \n",
    "print(str_n[0]+str_n[2:])   #6 35\n",
    "print(str_n[0:2]+str_n[3:]) #65 5\n",
    "print(str_n[0:3]+str_n[4:]) #653"
   ]
  },
  {
   "cell_type": "code",
   "execution_count": null,
   "metadata": {},
   "outputs": [],
   "source": [
    "def deleteDigit(n):\n",
    "    str_n = str(n)\n",
    "    print(str_n)\n",
    "    for n in range(1,len(str_n)):\n",
    "        if str_n[n-1] > str_n[n]:\n",
    "            pass\n",
    "         \n",
    "\n",
    "\n",
    "\n",
    "             if str_n[1] > str_n[2]:\n",
    "            return str_n[0:2]+str_n[3:]\n",
    "        else: \n",
    "            return str_n[0:3]+str_n[4:]\n",
    "\n"
   ]
  },
  {
   "cell_type": "code",
   "execution_count": 20,
   "metadata": {},
   "outputs": [
    {
     "output_type": "stream",
     "name": "stdout",
     "text": [
      "2222250\npass\nres: None\n"
     ]
    }
   ],
   "source": [
    "def deleteDigit(n):\n",
    "    str_n = str(n)\n",
    "    print(str_n)\n",
    "    # min = a if a < b else b\n",
    "    return n if len(str_n) ==1 else print('pass')\n",
    "\n",
    "\n",
    "    if len(str_n) ==2:\n",
    "        if str_n[0]  > str_n[1]:\n",
    "            return int(str_n[0])\n",
    "        else:\n",
    "            return int(str_n[1])\n",
    "\n",
    "\n",
    "            \n",
    "    for n in range(1,len(str_n)):\n",
    "        if str_n[n-1] < str_n[n]:                \n",
    "            return int(str_n[0:n-1]+str_n[n:])\n",
    "\n",
    "\n",
    "n =  2222250\n",
    "print('res:',deleteDigit(n))\n"
   ]
  },
  {
   "cell_type": "code",
   "execution_count": 10,
   "metadata": {},
   "outputs": [
    {
     "output_type": "stream",
     "name": "stdout",
     "text": [
      "10\n"
     ]
    }
   ],
   "source": [
    "# Program to demonstrate conditional operator\n",
    "a, b = 10, 20\n",
    "\n",
    "# Copy value of a in min if a < b else copy b\n",
    "min = a if a < b else b\n",
    "\n",
    "print(min)\n"
   ]
  },
  {
   "cell_type": "code",
   "execution_count": null,
   "metadata": {},
   "outputs": [],
   "source": [
    "def deleteDigit(n):\n",
    "    str_n = str(n)\n",
    "    print(str_n)\n",
    "    if len(str_n) ==1:\n",
    "        return n\n",
    "    if len(str_n) ==2:\n",
    "        if str_n[0]  > str_n[1]:\n",
    "            return int(str_n[0])\n",
    "        else:\n",
    "            return int(str_n[1])\n",
    "            \n",
    "    for n in range(1,len(str_n)):\n",
    "        if str_n[n-1] < str_n[n]:                \n",
    "            return int(str_n[0:n-1]+str_n[n:])\n"
   ]
  }
 ]
}