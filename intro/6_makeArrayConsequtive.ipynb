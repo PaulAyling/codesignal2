{
 "cells": [
  {
   "cell_type": "code",
   "execution_count": 11,
   "metadata": {},
   "outputs": [
    {
     "name": "stdout",
     "output_type": "stream",
     "text": [
      "[2, 3, 6, 8]\n",
      "0 2\n",
      "1 3\n",
      "2 6\n",
      "3\n"
     ]
    }
   ],
   "source": [
    "def solution(statues):\n",
    "    # how many statues do we need to but to make them consequtive\n",
    "    statues.sort()    \n",
    "    print(statues)\n",
    "    res = 0\n",
    "    for n in range(len(statues)-1):\n",
    "        print(n,statues[n])\n",
    "        cur_stat = statues[n]\n",
    "        next_stat = statues[n+1]\n",
    "        while next_stat - cur_stat != 1:\n",
    "            res += 1\n",
    "            cur_stat +=1 \n",
    "    return res\n",
    "        \n",
    "statues = [6, 2, 3, 8]\n",
    "print(solution(statues))"
   ]
  },
  {
   "cell_type": "code",
   "execution_count": null,
   "metadata": {},
   "outputs": [],
   "source": []
  }
 ],
 "metadata": {
  "interpreter": {
   "hash": "31f2aee4e71d21fbe5cf8b01ff0e069b9275f58929596ceb00d14d90e3e16cd6"
  },
  "kernelspec": {
   "display_name": "Python 3.8.9 64-bit",
   "language": "python",
   "name": "python3"
  },
  "language_info": {
   "codemirror_mode": {
    "name": "ipython",
    "version": 3
   },
   "file_extension": ".py",
   "mimetype": "text/x-python",
   "name": "python",
   "nbconvert_exporter": "python",
   "pygments_lexer": "ipython3",
   "version": "3.8.9"
  },
  "orig_nbformat": 4
 },
 "nbformat": 4,
 "nbformat_minor": 2
}
