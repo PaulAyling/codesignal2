{
 "cells": [
  {
   "cell_type": "code",
   "execution_count": 7,
   "source": [
    "def spiralNumbers(n):\n",
    "    def createEmptyMatrix(n):\n",
    "        return [ [0] * n for _ in range(n) ]\n",
    "    \n",
    "    #program\n",
    "    def horizontal(x,y,right,matrix):\n",
    "        counter = 1\n",
    "        n = 1\n",
    "        while len(matrix[0]) > n:\n",
    "            matrix[0][n] = counter\n",
    "            counter +=1\n",
    "            n +=1\n",
    "        print(matrix)\n",
    "\n",
    "    def veritical(x,y,right,matrix):\n",
    "        counter = 1\n",
    "        n = 1\n",
    "        while len(matrix[0]) > n:\n",
    "            matrix[0][n] = counter\n",
    "            counter +=1\n",
    "            n +=1\n",
    "        print(matrix)\n",
    "    #Program\n",
    "    matrix = createEmptyMatrix(n)\n",
    "    # horizontal(0,0,True,matrix)\n",
    "    veritical(5,0,True,matrix)\n",
    "    \n",
    "\n",
    "\n",
    "\n",
    "n = 6\n",
    "print(spiralNumbers(n))\n"
   ],
   "outputs": [
    {
     "output_type": "stream",
     "name": "stdout",
     "text": [
      "[[0, 1, 2, 3, 4, 5], [0, 0, 0, 0, 0, 0], [0, 0, 0, 0, 0, 0], [0, 0, 0, 0, 0, 0], [0, 0, 0, 0, 0, 0], [0, 0, 0, 0, 0, 0]]\n",
      "None\n"
     ]
    }
   ],
   "metadata": {}
  },
  {
   "cell_type": "code",
   "execution_count": null,
   "source": [],
   "outputs": [],
   "metadata": {}
  }
 ],
 "metadata": {
  "orig_nbformat": 4,
  "language_info": {
   "name": "python",
   "version": "3.9.6",
   "mimetype": "text/x-python",
   "codemirror_mode": {
    "name": "ipython",
    "version": 3
   },
   "pygments_lexer": "ipython3",
   "nbconvert_exporter": "python",
   "file_extension": ".py"
  },
  "kernelspec": {
   "name": "python3",
   "display_name": "Python 3.9.6 64-bit"
  },
  "interpreter": {
   "hash": "aee8b7b246df8f9039afb4144a1f6fd8d2ca17a180786b69acc140d282b71a49"
  }
 },
 "nbformat": 4,
 "nbformat_minor": 2
}