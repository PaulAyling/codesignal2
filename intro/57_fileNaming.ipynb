{
 "cells": [
  {
   "cell_type": "code",
   "execution_count": 1,
   "source": [
    "import copy\n",
    "def fileNaming(names):\n",
    "    def update_manager(nameList):\n",
    "        work_list = copy.deepcopy(nameList) \n",
    "        work_list.sort()\n",
    "        min_nbr = min(nameList) \n",
    "        max_nbr = max(nameList) \n",
    "        filled_length = len(nameList)\n",
    "        n = 0\n",
    "        if filled_length != max_nbr+1:\n",
    "            for n in range(len(nameList)):\n",
    "                if work_list[n] != n:\n",
    "                    nameList.append(n)\n",
    "                    return nameList\n",
    "        return nameList\n",
    "\n",
    "    def split_parts(name):\n",
    "        def label_Part_fn(string):\n",
    "            return string[-3:]\n",
    "        def name_Part_fn(string):\n",
    "            return string[:-3]\n",
    "        labelPart = label_Part_fn(name)\n",
    "        namePart = name_Part_fn(name)\n",
    "        numbers = ['1','2','3','4','5','6','7','8','9']\n",
    "        if labelPart[0] == '(' and labelPart[1] in numbers and labelPart[2] == ')':\n",
    "            return (True,namePart,int(labelPart[1]))\n",
    "        else:\n",
    "            return (False,name,'')\n",
    "    def append_label(name_part,nbr):\n",
    "        return name_part+'('+str(nbr)+')'\n",
    "    #Program\n",
    "    result = list()\n",
    "    names_manager = dict() \n",
    "    for name in names:\n",
    "        (name_has_label, name_part, labelNumber) = split_parts(name)\n",
    "        print('Iteration:    ',name,'       Meta:',name_has_label, name_part, labelNumber)\n",
    "        if name_has_label == True:\n",
    "            if name in result:\n",
    "                print('name in result')\n",
    "                new_name = name+'(1)'\n",
    "                names_manager[new_name]=[0]\n",
    "                result.append(new_name)\n",
    "            else:\n",
    "                names_manager[name]=1\n",
    "                result.append(name)\n",
    "        else:\n",
    "            if name in result:\n",
    "                \n",
    "                new_name = append_label(name_part,names_manager[name])\n",
    "                result.append(new_name)\n",
    "            else:\n",
    "                names_manager[name]=[0]\n",
    "                result.append(name)\n",
    "\n",
    "    return result\n",
    "    \n",
    "# Original\n",
    "# names = [\"doc\", \"doc\", \"image\", \"doc(1)\", \"doc\"]\n",
    "# ans =   [\"doc\", \"doc(1)\", \"image\", \"doc(1)(1)\", \"doc(2)\"]\n",
    "\n",
    "# names = [\"doc\", \"doc\", \"doc(1)\", \"doc\"]\n",
    "# ans =   [\"doc\", \"doc(1)\", \"doc(1)(1)\", \"doc(2)\"]\n",
    "\n",
    "\n",
    "names = [\"a(1)\", \"a(6)\", \"a\", \"a\", \"a\", \"a\", \"a\", \"a\", \"a\", \"a\", \"a\", \"a\"]\n",
    "ans =   [\"a(1)\", \"a(6)\", \"a\", \"a(2)\", \"a(3)\", \"a(4)\", \"a(5)\", \"a(7)\", \"a(8)\", \"a(9)\", \"a(10)\", \"a(11)\"]\n",
    "\n",
    "print('MINE   :',fileNaming(names))\n",
    "print('CORRECT:',ans)"
   ],
   "outputs": [
    {
     "output_type": "stream",
     "name": "stdout",
     "text": [
      "Iteration:     a(1)        Meta: True a 1\n",
      "Iteration:     a(6)        Meta: True a 6\n",
      "Iteration:     a        Meta: False a \n",
      "Iteration:     a        Meta: False a \n",
      "Iteration:     a        Meta: False a \n",
      "Iteration:     a        Meta: False a \n",
      "Iteration:     a        Meta: False a \n",
      "Iteration:     a        Meta: False a \n",
      "Iteration:     a        Meta: False a \n",
      "Iteration:     a        Meta: False a \n",
      "Iteration:     a        Meta: False a \n",
      "Iteration:     a        Meta: False a \n",
      "MINE   : ['a(1)', 'a(6)', 'a', 'a([0])', 'a([0])', 'a([0])', 'a([0])', 'a([0])', 'a([0])', 'a([0])', 'a([0])', 'a([0])']\n",
      "CORRECT: ['a(1)', 'a(6)', 'a', 'a(2)', 'a(3)', 'a(4)', 'a(5)', 'a(7)', 'a(8)', 'a(9)', 'a(10)', 'a(11)']\n"
     ]
    }
   ],
   "metadata": {}
  },
  {
   "cell_type": "code",
   "execution_count": 43,
   "source": [
    "mgr={'name':[0]}\n",
    "mgr['name'].append(1)\n",
    "print(mgr)"
   ],
   "outputs": [
    {
     "output_type": "stream",
     "name": "stdout",
     "text": [
      "{'name': [0, 1]}\n"
     ]
    }
   ],
   "metadata": {}
  },
  {
   "cell_type": "code",
   "execution_count": 23,
   "source": [
    "[0,4]\n",
    "\n",
    "[2,4]\n",
    "[2,4,0]\n",
    "[2,4,0,1]\n",
    "[2,4,0,1]\n",
    "import copy\n",
    "def update_manager(nameList):\n",
    "    work_list = copy.deepcopy(nameList) \n",
    "    work_list.sort()\n",
    "    min_nbr = min(nameList) \n",
    "    max_nbr = max(nameList) \n",
    "    filled_length = len(nameList)\n",
    "    n = 0\n",
    "    if filled_length != max_nbr+1:\n",
    "        for n in range(len(nameList)):\n",
    "            if work_list[n] != n:\n",
    "                nameList.append(n)\n",
    "                return nameList\n",
    "    return nameList\n",
    "\n",
    "nameList = [0,1,5,2]\n",
    "new_number = 7\n",
    "print(update_manager(nameList))\n"
   ],
   "outputs": [
    {
     "output_type": "stream",
     "name": "stdout",
     "text": [
      "[0, 1, 5, 2, 3]\n"
     ]
    }
   ],
   "metadata": {}
  },
  {
   "cell_type": "code",
   "execution_count": null,
   "source": [],
   "outputs": [],
   "metadata": {}
  }
 ],
 "metadata": {
  "interpreter": {
   "hash": "a8ed6b6aaa83e0c75564d8643a7111be6f47b679c5d32737ff20a5a7a3944855"
  },
  "kernelspec": {
   "name": "python3",
   "display_name": "Python 3.8.5 64-bit ('base': conda)"
  },
  "language_info": {
   "codemirror_mode": {
    "name": "ipython",
    "version": 3
   },
   "file_extension": ".py",
   "mimetype": "text/x-python",
   "name": "python",
   "nbconvert_exporter": "python",
   "pygments_lexer": "ipython3",
   "version": "3.8.5"
  },
  "orig_nbformat": 4
 },
 "nbformat": 4,
 "nbformat_minor": 2
}