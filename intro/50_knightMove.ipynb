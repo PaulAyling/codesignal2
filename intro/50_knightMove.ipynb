{
 "metadata": {
  "language_info": {
   "codemirror_mode": {
    "name": "ipython",
    "version": 3
   },
   "file_extension": ".py",
   "mimetype": "text/x-python",
   "name": "python",
   "nbconvert_exporter": "python",
   "pygments_lexer": "ipython3",
   "version": "3.8.3"
  },
  "orig_nbformat": 4,
  "kernelspec": {
   "name": "python3",
   "display_name": "Python 3.8.3 64-bit ('base': conda)"
  },
  "interpreter": {
   "hash": "a8ed6b6aaa83e0c75564d8643a7111be6f47b679c5d32737ff20a5a7a3944855"
  }
 },
 "nbformat": 4,
 "nbformat_minor": 2,
 "cells": [
  {
   "cell_type": "code",
   "execution_count": null,
   "metadata": {},
   "outputs": [],
   "source": [
    "def chessKnight(cell):\n",
    "# cell = \"a1\"   ans =2\n",
    "    board = [\"a\",\"b\",\"c\",\"d\",\"e\",\"f\",\"g\",\"h\"]\n",
    "    x =  int(board.index(cell[0])) +1\n",
    "    y = int(cell[1])\n",
    "    print('pos:',x,y)    \n",
    "    # 8 - (1) (1) 1 + 1 = 2\n",
    "    # A2  (2) (1) 2 + 1 = 3\n",
    "    # B2.  2.  2. 2 + 2 = 4\n",
    "    \n",
    "    if x < 5 and y < 5:\n",
    "        return x + y\n",
    "    elif x > 4 and y > 4:\n",
    "        return 9-x + 9-y\n",
    "    else:\n",
    "        return 9999   \n",
    "\n",
    "\n",
    "cell = \"c2\"   \n",
    "ans =6\n",
    "print('res',chessKnight(cell))\n",
    "print('ans',ans)"
   ]
  },
  {
   "cell_type": "code",
   "execution_count": null,
   "metadata": {},
   "outputs": [],
   "source": []
  }
 ]
}