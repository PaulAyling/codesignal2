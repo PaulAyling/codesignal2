{
 "cells": [
  {
   "cell_type": "code",
   "execution_count": 112,
   "source": [
    "import copy\n",
    "# Ver 2\n",
    "def createSpiral(n):\n",
    "    def createEmptyMatrix(n):\n",
    "        return [ [0] * n for _ in range(n) ]\n",
    "    def printMatrix(matrix):\n",
    "        # print('RUN:',coord)\n",
    "        for n in range(len(matrix)):\n",
    "            print(matrix[n])\n",
    "    def endSpiral(matrix):\n",
    "        def findMax(matrix):\n",
    "            result = list()\n",
    "            for n in range(len(matrix)):\n",
    "                max_r = max(map(lambda x: x[n], matrix))\n",
    "                result.append(max_r)\n",
    "            return max(result)\n",
    "        len_matrix = len(matrix[0])\n",
    "        _max = len_matrix ** 2\n",
    "        cur_max = findMax(matrix)\n",
    "        print(cur_max,_max)\n",
    "        if cur_max == _max:\n",
    "            return True\n",
    "        else:\n",
    "            return False\n",
    "    \n",
    "    def createLine(coord,matrix):\n",
    "        # THIS IS THE PROBLEM\n",
    "        def next_direction(direction):\n",
    "            directions = ['right','down','left','up']\n",
    "            pos = directions.index(direction)\n",
    "            return 'right' if pos == 3 else directions[pos + 1]\n",
    "        def outBounds(x,y,n):\n",
    "            if (x < n and x > -1) and (y < n and y > -1):\n",
    "                return False\n",
    "            else:\n",
    "                return True\n",
    "        def incrementLoop(direction, x,y):\n",
    "            if direction == 'right':\n",
    "                return (x+1,y)\n",
    "            if direction == 'down':\n",
    "                return (x,y+1)\n",
    "            if direction == 'left':\n",
    "                return (x-1,y)\n",
    "            if direction == 'up':\n",
    "                return (x,y-1)\n",
    "        #FUNC PROGRAM\n",
    "        (x,y,counter,direction,runs) = coord\n",
    "        runs +=1\n",
    "        first_run = True\n",
    "        carryOn = True\n",
    "        # while matrix[y][x] == 0 and outOfBounds == False:\n",
    "        while carryOn == True:\n",
    "            if first_run == True:\n",
    "                print(x,y,':first run')\n",
    "                matrix[y][x] = counter\n",
    "                counter+=1\n",
    "                (x,y) = incrementLoop(direction, x,y) \n",
    "                first_run = False\n",
    "            else:\n",
    "                print(x,y,':subsequent_runs',x,y,outBounds(x,y,n))\n",
    "                if matrix[y][x] == 0 and  outBounds(x,y,n) == False:\n",
    "                    matrix[y][x] = counter\n",
    "                    counter+=1\n",
    "                    (new_x,new_y) = incrementLoop(direction, x,y) \n",
    "                    if outBounds(new_x,new_y,n)== True:\n",
    "                        print(new_x,new_y,'new coords are out of bounds')\n",
    "                        carryOn = False\n",
    "                    else: # increment x an y\n",
    "                        (x,y) = (new_x,new_y)\n",
    "                else:\n",
    "                    print(x,y,':square is occupied')\n",
    "                    carryOn = False\n",
    "        print((x, y ,counter-1,next_direction(direction),runs),matrix)\n",
    "        print('')\n",
    "        return (x, y ,counter-1,next_direction(direction),runs)\n",
    "\n",
    "    # INITIALIZATION\n",
    "    row = 0 \n",
    "    col = 0\n",
    "    coord=(0,0,1,'right',1)\n",
    "    matrix = createEmptyMatrix(n) \n",
    "    # MAIN PROGRAM     \n",
    "    end = False\n",
    "    while end == False:\n",
    "        end = endSpiral(matrix) \n",
    "        if coord[4] ==9:\n",
    "            end = True \n",
    "        coord = createLine(coord,matrix)\n",
    "    return matrix\n",
    "       \n",
    "# RUN PROGRAM\n",
    "n = 4\n",
    "\n",
    "valid_starts =[(0,0),(4,1),(3,4),(0,3),(1,1),(3,2),(2,3),(1,2),(2,2)]\n",
    "# print(valid_starts)\n",
    "createSpiral(n)\n",
    "\n",
    "# [(0, 0), (4, 1), (3, 4), (0, 3), (1, 1), (3, 2), (2, 3), (2, 1)]\n"
   ],
   "outputs": [
    {
     "output_type": "stream",
     "name": "stdout",
     "text": [
      "0 0 :first run\n",
      "1 0 :subsequent_runs 1 0 False\n",
      "2 0 :subsequent_runs 2 0 False\n",
      "3 0 :subsequent_runs 3 0 False\n",
      "4 0 new coords are out of bounds\n",
      "(3, 0, 4, 'down', 2) [[1, 2, 3, 4], [0, 0, 0, 0], [0, 0, 0, 0], [0, 0, 0, 0]]\n",
      "\n",
      "3 0 :first run\n",
      "3 1 :subsequent_runs 3 1 False\n",
      "3 2 :subsequent_runs 3 2 False\n",
      "3 3 :subsequent_runs 3 3 False\n",
      "3 4 new coords are out of bounds\n",
      "(3, 3, 7, 'left', 3) [[1, 2, 3, 4], [0, 0, 0, 5], [0, 0, 0, 6], [0, 0, 0, 7]]\n",
      "\n",
      "3 3 :first run\n",
      "2 3 :subsequent_runs 2 3 False\n",
      "1 3 :subsequent_runs 1 3 False\n",
      "0 3 :subsequent_runs 0 3 False\n",
      "-1 3 new coords are out of bounds\n",
      "(0, 3, 10, 'up', 4) [[1, 2, 3, 4], [0, 0, 0, 5], [0, 0, 0, 6], [10, 9, 8, 7]]\n",
      "\n",
      "0 3 :first run\n",
      "0 2 :subsequent_runs 0 2 False\n",
      "0 1 :subsequent_runs 0 1 False\n",
      "0 0 :subsequent_runs 0 0 False\n",
      "0 0 :square is occupied\n",
      "(0, 0, 12, 'right', 5) [[1, 2, 3, 4], [12, 0, 0, 5], [11, 0, 0, 6], [10, 9, 8, 7]]\n",
      "\n",
      "0 0 :first run\n",
      "1 0 :subsequent_runs 1 0 False\n",
      "1 0 :square is occupied\n",
      "(1, 0, 12, 'down', 6) [[12, 2, 3, 4], [12, 0, 0, 5], [11, 0, 0, 6], [10, 9, 8, 7]]\n",
      "\n",
      "1 0 :first run\n",
      "1 1 :subsequent_runs 1 1 False\n",
      "1 2 :subsequent_runs 1 2 False\n",
      "1 3 :subsequent_runs 1 3 False\n",
      "1 3 :square is occupied\n",
      "(1, 3, 14, 'left', 7) [[12, 12, 3, 4], [12, 13, 0, 5], [11, 14, 0, 6], [10, 9, 8, 7]]\n",
      "\n",
      "1 3 :first run\n",
      "0 3 :subsequent_runs 0 3 False\n",
      "0 3 :square is occupied\n",
      "(0, 3, 14, 'up', 8) [[12, 12, 3, 4], [12, 13, 0, 5], [11, 14, 0, 6], [10, 14, 8, 7]]\n",
      "\n",
      "0 3 :first run\n",
      "0 2 :subsequent_runs 0 2 False\n",
      "0 2 :square is occupied\n",
      "(0, 2, 14, 'right', 9) [[12, 12, 3, 4], [12, 13, 0, 5], [11, 14, 0, 6], [14, 14, 8, 7]]\n",
      "\n",
      "0 2 :first run\n",
      "1 2 :subsequent_runs 1 2 False\n",
      "1 2 :square is occupied\n",
      "(1, 2, 14, 'down', 10) [[12, 12, 3, 4], [12, 13, 0, 5], [14, 14, 0, 6], [14, 14, 8, 7]]\n",
      "\n"
     ]
    },
    {
     "output_type": "execute_result",
     "data": {
      "text/plain": [
       "[[12, 12, 3, 4], [12, 13, 0, 5], [14, 14, 0, 6], [14, 14, 8, 7]]"
      ]
     },
     "metadata": {},
     "execution_count": 112
    }
   ],
   "metadata": {}
  },
  {
   "cell_type": "code",
   "execution_count": 131,
   "source": [
    "def createEmptyMatrix(n):\n",
    "    return [ [1] * n for _ in range(n) ]\n",
    "# def endSpiral(matrix):\n",
    "#     def max_val(matrix):\n",
    "#         for x in \n",
    "#     matrix_len = len(matrix[0])\n",
    "#     max_val = matrix_len * matrix_len\n",
    "#     cur_max_val =  max(map(lambda x: x[n], matrix))\n",
    "#     print(cur_max_val,max_val)\n",
    "#     if cur_max_val == max_val:\n",
    "#         return True\n",
    "#     else:\n",
    "#         return False\n",
    "\n",
    "matrix = [[12, 12, 3, 4], [12, 17, 0, 5], [14, 14, 0, 6], [14, 14, 8, 7]]\n",
    "print(max(map(lambda x: x[3], matrix)))\n"
   ],
   "outputs": [
    {
     "output_type": "stream",
     "name": "stdout",
     "text": [
      "7\n"
     ]
    }
   ],
   "metadata": {}
  },
  {
   "cell_type": "code",
   "execution_count": 133,
   "source": [
    "resultlist = [[\"1\", \"1\", \"a\", 8.3931], [\"1\", \"2\", 1000, 6.3231], [\"2\", \"1\", \"c\", 56], [\"2\", \"1\", \"c\", 15]]\n",
    "\n",
    "print(max(map(lambda x: x[3], resultlist)))"
   ],
   "outputs": [
    {
     "output_type": "stream",
     "name": "stdout",
     "text": [
      "56\n"
     ]
    }
   ],
   "metadata": {}
  },
  {
   "cell_type": "code",
   "execution_count": 136,
   "source": [
    "matrix = [[12, 12, 3, 4], [12, 40, 0, 5], [14, 14, 0, 6], [14, 14, 8, 7]]\n",
    "def findMax(listOfLists):\n",
    "    result = list()\n",
    "    for n in range(len(matrix)):\n",
    "        max_r = max(map(lambda x: x[n], matrix))\n",
    "        result.append(max_r)\n",
    "    return max(result)\n",
    "\n",
    "print(findMax(matrix))"
   ],
   "outputs": [
    {
     "output_type": "stream",
     "name": "stdout",
     "text": [
      "40\n"
     ]
    }
   ],
   "metadata": {}
  },
  {
   "cell_type": "code",
   "execution_count": null,
   "source": [],
   "outputs": [],
   "metadata": {}
  },
  {
   "cell_type": "code",
   "execution_count": null,
   "source": [],
   "outputs": [],
   "metadata": {}
  }
 ],
 "metadata": {
  "orig_nbformat": 4,
  "language_info": {
   "name": "python",
   "version": "3.9.6",
   "mimetype": "text/x-python",
   "codemirror_mode": {
    "name": "ipython",
    "version": 3
   },
   "pygments_lexer": "ipython3",
   "nbconvert_exporter": "python",
   "file_extension": ".py"
  },
  "kernelspec": {
   "name": "python3",
   "display_name": "Python 3.9.6 64-bit"
  },
  "interpreter": {
   "hash": "aee8b7b246df8f9039afb4144a1f6fd8d2ca17a180786b69acc140d282b71a49"
  }
 },
 "nbformat": 4,
 "nbformat_minor": 2
}