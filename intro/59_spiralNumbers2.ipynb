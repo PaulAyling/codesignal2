{
 "cells": [
  {
   "cell_type": "code",
   "execution_count": 189,
   "source": [
    "# Ver 2\n",
    "def createSpiral(n):\n",
    "    def createEmptyMatrix(n):\n",
    "        return [ [0] * n for _ in range(n) ]\n",
    "    def printMatrix(matrix):\n",
    "        # print('RUN:',coord)\n",
    "        for n in range(len(matrix)):\n",
    "            print(matrix[n])\n",
    "\n",
    "    def endSpiral(matrix):\n",
    "        n = len(matrix)\n",
    "        def sumOfSeries(n):\n",
    "            records = n **2\n",
    "            result = 0\n",
    "            for nbr in range(1,records+1):\n",
    "                result += nbr\n",
    "            return result\n",
    "        def sumMatrix(matrix):\n",
    "            res =  map(sum, matrix)\n",
    "            return sum(list(res))\n",
    "        fullMatrix =  sumOfSeries(n)\n",
    "        curMatrix =    sumMatrix(matrix)\n",
    "        return True if fullMatrix == curMatrix else False\n",
    "    \n",
    "    def createLine(coord,matrix):\n",
    "        # THIS IS THE PROBLEM\n",
    "        def offset(direction):\n",
    "            if counter == 1:\n",
    "                return (0,1)\n",
    "            if direction =='right':\n",
    "                return (-1,1) \n",
    "            elif direction == 'down':\n",
    "                return (-1,0)\n",
    "            elif direction == 'left':\n",
    "                return (0,-1)\n",
    "            elif direction == 'up':\n",
    "                return (1,1)\n",
    "        def outOfBounds_fn(direction, x,y):\n",
    "            if direction == 'right':\n",
    "                return True if x > n-2 else False\n",
    "            elif direction == 'down':\n",
    "                return True if y > n-2 else False\n",
    "            elif direction == 'left':\n",
    "                return True if x < 1 else False\n",
    "            elif direction == 'up':\n",
    "                return True if y < 1 else False\n",
    "        def incrementLoop(direction, x,y):\n",
    "            if direction == 'right':\n",
    "                return (x+1,y)\n",
    "            if direction == 'down':\n",
    "                return (x,y+1)\n",
    "            if direction == 'left':\n",
    "                return (x-1,y)\n",
    "            if direction == 'up':\n",
    "                return (x,y-1)\n",
    "        def next_direction(direction):\n",
    "            directions = ['right','down','left','up']\n",
    "            pos = directions.index(direction)\n",
    "            return 'right' if pos == 3 else directions[pos + 1]\n",
    "        #FUNC PROGRAM\n",
    "        (x,y,counter,direction,runs) = coord\n",
    "        outOfBounds = False\n",
    "        (offset_x,offset_y) = offset(direction)\n",
    "        runs +=1\n",
    "        while matrix[y][x] == 0 and outOfBounds == False:\n",
    "            matrix[y][x] = counter\n",
    "            # print(counter)\n",
    "            counter+=1\n",
    "            outOfBounds = outOfBounds_fn(direction, x,y)\n",
    "            if outOfBounds == False:\n",
    "                (x,y) = incrementLoop(direction, x,y)\n",
    "        # print('max_counter', counter)\n",
    "        return (x+ offset_x, y + offset_y ,counter,next_direction(direction),runs)\n",
    "\n",
    "        \n",
    "    # INITIALIZATION\n",
    "    row = 0 \n",
    "    col = 0\n",
    "    coord=(0,0,1,'right',1)\n",
    "    matrix = createEmptyMatrix(n) \n",
    "    # MAIN PROGRAM     \n",
    "    end = False\n",
    "    while endSpiral(matrix) == False:\n",
    "        coord = createLine(coord,matrix)\n",
    "        # print('latest val:',coord[2],coord )\n",
    "        myRun = coord[4] \n",
    "        if myRun == 6:\n",
    "            print(coord)\n",
    "            # printMatrix(matrix)\n",
    "        if myRun == 7:\n",
    "            print(coord)\n",
    "            printMatrix(matrix)\n",
    "    # printMatrix(matrix)\n",
    "\n",
    "# RUN PROGRAM\n",
    "n = 5\n",
    "valid_starts =[(0,0),(4,1),(3,4),(0,3),(1,1),(3,2),(2,3),(2,1)]\n",
    "print(valid_starts)\n",
    "createSpiral(n)\n",
    "\n",
    "# [(0, 0), (4, 1), (3, 4), (0, 3), (1, 1), (3, 2), (2, 3), (2, 1)]\n",
    "# latest val: 6 (4, 1, 6, 'down', 2)\n",
    "# latest val: 10 (3, 4, 10, 'left', 3)\n",
    "# latest val: 14 (0, 3, 14, 'up', 4)\n",
    "# latest val: 17 (1, 1, 17, 'right', 5)\n",
    "# latest val: 20 (3, 2, 20, 'down', 6)\n",
    "# latest val: 22 (2, 4, 22, 'left', 7)  ** FUCK UP  sholud be 2,3 and ans is 2,4\n",
    "# latest val: 22 (2, 3, 22, 'up', 8)\n",
    "# latest val: 24 (3, 2, 24, 'right', 9)"
   ],
   "outputs": [
    {
     "output_type": "stream",
     "name": "stdout",
     "text": [
      "[(0, 0), (4, 1), (3, 4), (0, 3), (1, 1), (3, 2), (2, 3), (2, 1)]\n",
      "(0, 1, 17, 'down', 6)\n",
      "(-1, 1, 17, 'left', 7)\n",
      "[1, 2, 3, 4, 5]\n",
      "[16, 0, 0, 0, 6]\n",
      "[15, 0, 0, 0, 7]\n",
      "[14, 0, 0, 0, 8]\n",
      "[13, 12, 11, 10, 9]\n"
     ]
    },
    {
     "output_type": "error",
     "ename": "IndexError",
     "evalue": "list index out of range",
     "traceback": [
      "\u001b[0;31m---------------------------------------------------------------------------\u001b[0m",
      "\u001b[0;31mIndexError\u001b[0m                                Traceback (most recent call last)",
      "\u001b[0;32m/var/folders/33/39mbtrs93d3_jzg917g754rm0000gn/T/ipykernel_9102/3882178589.py\u001b[0m in \u001b[0;36m<module>\u001b[0;34m\u001b[0m\n\u001b[1;32m     96\u001b[0m \u001b[0mvalid_starts\u001b[0m \u001b[0;34m=\u001b[0m\u001b[0;34m[\u001b[0m\u001b[0;34m(\u001b[0m\u001b[0;36m0\u001b[0m\u001b[0;34m,\u001b[0m\u001b[0;36m0\u001b[0m\u001b[0;34m)\u001b[0m\u001b[0;34m,\u001b[0m\u001b[0;34m(\u001b[0m\u001b[0;36m4\u001b[0m\u001b[0;34m,\u001b[0m\u001b[0;36m1\u001b[0m\u001b[0;34m)\u001b[0m\u001b[0;34m,\u001b[0m\u001b[0;34m(\u001b[0m\u001b[0;36m3\u001b[0m\u001b[0;34m,\u001b[0m\u001b[0;36m4\u001b[0m\u001b[0;34m)\u001b[0m\u001b[0;34m,\u001b[0m\u001b[0;34m(\u001b[0m\u001b[0;36m0\u001b[0m\u001b[0;34m,\u001b[0m\u001b[0;36m3\u001b[0m\u001b[0;34m)\u001b[0m\u001b[0;34m,\u001b[0m\u001b[0;34m(\u001b[0m\u001b[0;36m1\u001b[0m\u001b[0;34m,\u001b[0m\u001b[0;36m1\u001b[0m\u001b[0;34m)\u001b[0m\u001b[0;34m,\u001b[0m\u001b[0;34m(\u001b[0m\u001b[0;36m3\u001b[0m\u001b[0;34m,\u001b[0m\u001b[0;36m2\u001b[0m\u001b[0;34m)\u001b[0m\u001b[0;34m,\u001b[0m\u001b[0;34m(\u001b[0m\u001b[0;36m2\u001b[0m\u001b[0;34m,\u001b[0m\u001b[0;36m3\u001b[0m\u001b[0;34m)\u001b[0m\u001b[0;34m,\u001b[0m\u001b[0;34m(\u001b[0m\u001b[0;36m2\u001b[0m\u001b[0;34m,\u001b[0m\u001b[0;36m1\u001b[0m\u001b[0;34m)\u001b[0m\u001b[0;34m]\u001b[0m\u001b[0;34m\u001b[0m\u001b[0;34m\u001b[0m\u001b[0m\n\u001b[1;32m     97\u001b[0m \u001b[0mprint\u001b[0m\u001b[0;34m(\u001b[0m\u001b[0mvalid_starts\u001b[0m\u001b[0;34m)\u001b[0m\u001b[0;34m\u001b[0m\u001b[0;34m\u001b[0m\u001b[0m\n\u001b[0;32m---> 98\u001b[0;31m \u001b[0mcreateSpiral\u001b[0m\u001b[0;34m(\u001b[0m\u001b[0mn\u001b[0m\u001b[0;34m)\u001b[0m\u001b[0;34m\u001b[0m\u001b[0;34m\u001b[0m\u001b[0m\n\u001b[0m\u001b[1;32m     99\u001b[0m \u001b[0;34m\u001b[0m\u001b[0m\n\u001b[1;32m    100\u001b[0m \u001b[0;31m# [(0, 0), (4, 1), (3, 4), (0, 3), (1, 1), (3, 2), (2, 3), (2, 1)]\u001b[0m\u001b[0;34m\u001b[0m\u001b[0;34m\u001b[0m\u001b[0;34m\u001b[0m\u001b[0m\n",
      "\u001b[0;32m/var/folders/33/39mbtrs93d3_jzg917g754rm0000gn/T/ipykernel_9102/3882178589.py\u001b[0m in \u001b[0;36mcreateSpiral\u001b[0;34m(n)\u001b[0m\n\u001b[1;32m     81\u001b[0m     \u001b[0mend\u001b[0m \u001b[0;34m=\u001b[0m \u001b[0;32mFalse\u001b[0m\u001b[0;34m\u001b[0m\u001b[0;34m\u001b[0m\u001b[0m\n\u001b[1;32m     82\u001b[0m     \u001b[0;32mwhile\u001b[0m \u001b[0mendSpiral\u001b[0m\u001b[0;34m(\u001b[0m\u001b[0mmatrix\u001b[0m\u001b[0;34m)\u001b[0m \u001b[0;34m==\u001b[0m \u001b[0;32mFalse\u001b[0m\u001b[0;34m:\u001b[0m\u001b[0;34m\u001b[0m\u001b[0;34m\u001b[0m\u001b[0m\n\u001b[0;32m---> 83\u001b[0;31m         \u001b[0mcoord\u001b[0m \u001b[0;34m=\u001b[0m \u001b[0mcreateLine\u001b[0m\u001b[0;34m(\u001b[0m\u001b[0mcoord\u001b[0m\u001b[0;34m,\u001b[0m\u001b[0mmatrix\u001b[0m\u001b[0;34m)\u001b[0m\u001b[0;34m\u001b[0m\u001b[0;34m\u001b[0m\u001b[0m\n\u001b[0m\u001b[1;32m     84\u001b[0m         \u001b[0;31m# print('latest val:',coord[2],coord )\u001b[0m\u001b[0;34m\u001b[0m\u001b[0;34m\u001b[0m\u001b[0;34m\u001b[0m\u001b[0m\n\u001b[1;32m     85\u001b[0m         \u001b[0mmyRun\u001b[0m \u001b[0;34m=\u001b[0m \u001b[0mcoord\u001b[0m\u001b[0;34m[\u001b[0m\u001b[0;36m4\u001b[0m\u001b[0;34m]\u001b[0m\u001b[0;34m\u001b[0m\u001b[0;34m\u001b[0m\u001b[0m\n",
      "\u001b[0;32m/var/folders/33/39mbtrs93d3_jzg917g754rm0000gn/T/ipykernel_9102/3882178589.py\u001b[0m in \u001b[0;36mcreateLine\u001b[0;34m(coord, matrix)\u001b[0m\n\u001b[1;32m     62\u001b[0m         \u001b[0;34m(\u001b[0m\u001b[0moffset_x\u001b[0m\u001b[0;34m,\u001b[0m\u001b[0moffset_y\u001b[0m\u001b[0;34m)\u001b[0m \u001b[0;34m=\u001b[0m \u001b[0moffset\u001b[0m\u001b[0;34m(\u001b[0m\u001b[0mdirection\u001b[0m\u001b[0;34m)\u001b[0m\u001b[0;34m\u001b[0m\u001b[0;34m\u001b[0m\u001b[0m\n\u001b[1;32m     63\u001b[0m         \u001b[0mruns\u001b[0m \u001b[0;34m+=\u001b[0m\u001b[0;36m1\u001b[0m\u001b[0;34m\u001b[0m\u001b[0;34m\u001b[0m\u001b[0m\n\u001b[0;32m---> 64\u001b[0;31m         \u001b[0;32mwhile\u001b[0m \u001b[0mmatrix\u001b[0m\u001b[0;34m[\u001b[0m\u001b[0my\u001b[0m\u001b[0;34m]\u001b[0m\u001b[0;34m[\u001b[0m\u001b[0mx\u001b[0m\u001b[0;34m]\u001b[0m \u001b[0;34m==\u001b[0m \u001b[0;36m0\u001b[0m \u001b[0;32mand\u001b[0m \u001b[0moutOfBounds\u001b[0m \u001b[0;34m==\u001b[0m \u001b[0;32mFalse\u001b[0m\u001b[0;34m:\u001b[0m\u001b[0;34m\u001b[0m\u001b[0;34m\u001b[0m\u001b[0m\n\u001b[0m\u001b[1;32m     65\u001b[0m             \u001b[0mmatrix\u001b[0m\u001b[0;34m[\u001b[0m\u001b[0my\u001b[0m\u001b[0;34m]\u001b[0m\u001b[0;34m[\u001b[0m\u001b[0mx\u001b[0m\u001b[0;34m]\u001b[0m \u001b[0;34m=\u001b[0m \u001b[0mcounter\u001b[0m\u001b[0;34m\u001b[0m\u001b[0;34m\u001b[0m\u001b[0m\n\u001b[1;32m     66\u001b[0m             \u001b[0;31m# print(counter)\u001b[0m\u001b[0;34m\u001b[0m\u001b[0;34m\u001b[0m\u001b[0;34m\u001b[0m\u001b[0m\n",
      "\u001b[0;31mIndexError\u001b[0m: list index out of range"
     ]
    }
   ],
   "metadata": {}
  },
  {
   "cell_type": "code",
   "execution_count": 108,
   "source": [
    "def next_direction(direction):\n",
    "    directions = ['right','down','left','up']\n",
    "    pos = directions.index(direction)\n",
    "    return 'right' if pos == 3 else directions[pos + 1]\n",
    "direction = 'up'\n",
    "print(next_direction(direction))"
   ],
   "outputs": [
    {
     "output_type": "stream",
     "name": "stdout",
     "text": [
      "right\n"
     ]
    }
   ],
   "metadata": {}
  },
  {
   "cell_type": "code",
   "execution_count": null,
   "source": [],
   "outputs": [],
   "metadata": {}
  }
 ],
 "metadata": {
  "orig_nbformat": 4,
  "language_info": {
   "name": "python",
   "version": "3.9.6"
  },
  "kernelspec": {
   "name": "python3",
   "display_name": "Python 3.9.6 64-bit"
  },
  "interpreter": {
   "hash": "aee8b7b246df8f9039afb4144a1f6fd8d2ca17a180786b69acc140d282b71a49"
  }
 },
 "nbformat": 4,
 "nbformat_minor": 2
}