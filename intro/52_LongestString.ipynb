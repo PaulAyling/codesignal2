{
 "metadata": {
  "language_info": {
   "codemirror_mode": {
    "name": "ipython",
    "version": 3
   },
   "file_extension": ".py",
   "mimetype": "text/x-python",
   "name": "python",
   "nbconvert_exporter": "python",
   "pygments_lexer": "ipython3",
   "version": "3.8.3"
  },
  "orig_nbformat": 4,
  "kernelspec": {
   "name": "python3",
   "display_name": "Python 3.8.3 64-bit ('base': conda)"
  },
  "interpreter": {
   "hash": "a8ed6b6aaa83e0c75564d8643a7111be6f47b679c5d32737ff20a5a7a3944855"
  }
 },
 "nbformat": 4,
 "nbformat_minor": 2,
 "cells": [
  {
   "cell_type": "code",
   "execution_count": 5,
   "metadata": {},
   "outputs": [
    {
     "output_type": "stream",
     "name": "stdout",
     "text": [
      "True\n"
     ]
    }
   ],
   "source": [
    "def isLetter(char):\n",
    "    if ord(char) in range(97, 123) or  ord(char) in range(65, 91):\n",
    "        return True\n",
    "    else:\n",
    "        return False\n",
    "char = 'A'\n",
    "print(isLetter(char))"
   ]
  },
  {
   "cell_type": "code",
   "execution_count": 9,
   "metadata": {},
   "outputs": [
    {
     "output_type": "stream",
     "name": "stdout",
     "text": [
      "item f\nitem r\nitem o\nitem m\nitem ,\nitem t\nitem o\nitem ,\nitem a\nour ans: from\nans from\n"
     ]
    }
   ],
   "source": [
    "def longestWord(text):\n",
    "    def isLetter(char):\n",
    "        if ord(char) in range(97, 123) or  ord(char) in range(65, 91):\n",
    "            return True\n",
    "        else:\n",
    "            return False\n",
    "    lengest_length = 0\n",
    "    longest_word = ''\n",
    "\n",
    "    current_word = ''\n",
    "    current_length = 0\n",
    "    for item in text:\n",
    "        if isLetter(item):\n",
    "            current_word += item\n",
    "            current_length += 1\n",
    "            if current_length > lengest_length:\n",
    "                lengest_length = current_length\n",
    "                longest_word = current_word\n",
    "        else:\n",
    "            current_word = ''\n",
    "            current_length = 0\n",
    "    return longest_word\n",
    "       \n",
    "ans = 'from'\n",
    "text = 'from,to,a'\n",
    "print('our ans:',longestWord(text))\n",
    "print('ans',ans)"
   ]
  },
  {
   "cell_type": "code",
   "execution_count": null,
   "metadata": {},
   "outputs": [],
   "source": []
  }
 ]
}