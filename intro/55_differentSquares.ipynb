{
 "cells": [
  {
   "cell_type": "code",
   "execution_count": 12,
   "source": [
    "def differentSquares(matrix):\n",
    "  def createSquare(row,char,matrix):\n",
    "    res = list()\n",
    "    res.append(matrix[row][char]) \n",
    "    res.append(matrix[row][char+1]) \n",
    "    res.append(matrix[row+1][char])\n",
    "    res.append(matrix[row+1][char+1])\n",
    "    return res\n",
    "  def createSquares(matrix):\n",
    "    res = list()\n",
    "    for row in range(len(matrix)-1):\n",
    "      for char in range(len(matrix[0])-1):\n",
    "        res.append(createSquare(row,char,matrix))\n",
    "    return res\n",
    "\n",
    "  \n",
    "  res_with_dupes = createSquares(matrix) \n",
    "  res = set(res_with_dupes)\n",
    "  return res\n",
    "\n",
    "        \n",
    "matrix = [[1, 2, 1],\n",
    "          [2, 2, 2],\n",
    "          [2, 2, 2],\n",
    "          [1, 2, 3],\n",
    "          [2, 2, 1]]\n",
    "ans = 6\n",
    "print('our:',  differentSquares(matrix),'ans:',ans)"
   ],
   "outputs": [
    {
     "output_type": "error",
     "ename": "TypeError",
     "evalue": "unhashable type: 'list'",
     "traceback": [
      "\u001b[0;31m---------------------------------------------------------------------------\u001b[0m",
      "\u001b[0;31mTypeError\u001b[0m                                 Traceback (most recent call last)",
      "\u001b[0;32m<ipython-input-12-a557d7ab58e4>\u001b[0m in \u001b[0;36m<module>\u001b[0;34m\u001b[0m\n\u001b[1;32m     26\u001b[0m           [2, 2, 1]]\n\u001b[1;32m     27\u001b[0m \u001b[0mans\u001b[0m \u001b[0;34m=\u001b[0m \u001b[0;36m6\u001b[0m\u001b[0;34m\u001b[0m\u001b[0;34m\u001b[0m\u001b[0m\n\u001b[0;32m---> 28\u001b[0;31m \u001b[0mprint\u001b[0m\u001b[0;34m(\u001b[0m\u001b[0;34m'our:'\u001b[0m\u001b[0;34m,\u001b[0m  \u001b[0mdifferentSquares\u001b[0m\u001b[0;34m(\u001b[0m\u001b[0mmatrix\u001b[0m\u001b[0;34m)\u001b[0m\u001b[0;34m,\u001b[0m\u001b[0;34m'ans:'\u001b[0m\u001b[0;34m,\u001b[0m\u001b[0mans\u001b[0m\u001b[0;34m)\u001b[0m\u001b[0;34m\u001b[0m\u001b[0;34m\u001b[0m\u001b[0m\n\u001b[0m",
      "\u001b[0;32m<ipython-input-12-a557d7ab58e4>\u001b[0m in \u001b[0;36mdifferentSquares\u001b[0;34m(matrix)\u001b[0m\n\u001b[1;32m     16\u001b[0m \u001b[0;34m\u001b[0m\u001b[0m\n\u001b[1;32m     17\u001b[0m   \u001b[0mres_with_dupes\u001b[0m \u001b[0;34m=\u001b[0m \u001b[0mcreateSquares\u001b[0m\u001b[0;34m(\u001b[0m\u001b[0mmatrix\u001b[0m\u001b[0;34m)\u001b[0m\u001b[0;34m\u001b[0m\u001b[0;34m\u001b[0m\u001b[0m\n\u001b[0;32m---> 18\u001b[0;31m   \u001b[0mres\u001b[0m \u001b[0;34m=\u001b[0m \u001b[0mset\u001b[0m\u001b[0;34m(\u001b[0m\u001b[0mres_with_dupes\u001b[0m\u001b[0;34m)\u001b[0m\u001b[0;34m\u001b[0m\u001b[0;34m\u001b[0m\u001b[0m\n\u001b[0m\u001b[1;32m     19\u001b[0m   \u001b[0;32mreturn\u001b[0m \u001b[0mres\u001b[0m\u001b[0;34m\u001b[0m\u001b[0;34m\u001b[0m\u001b[0m\n\u001b[1;32m     20\u001b[0m \u001b[0;34m\u001b[0m\u001b[0m\n",
      "\u001b[0;31mTypeError\u001b[0m: unhashable type: 'list'"
     ]
    }
   ],
   "metadata": {}
  },
  {
   "cell_type": "code",
   "execution_count": null,
   "source": [],
   "outputs": [],
   "metadata": {}
  }
 ],
 "metadata": {
  "orig_nbformat": 4,
  "language_info": {
   "name": "python"
  }
 },
 "nbformat": 4,
 "nbformat_minor": 2
}