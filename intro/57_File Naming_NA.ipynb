{
 "cells": [
  {
   "cell_type": "code",
   "execution_count": null,
   "metadata": {},
   "outputs": [],
   "source": [
    "def fileNaming(names):\n",
    "    \n",
    "    def get_unique_name(name,str_dict):\n",
    "        unique_name = False\n",
    "        while unique_name == False:\n",
    "            if name in str_dict:\n",
    "                ind = str_dict[name]\n",
    "                ind += 1\n",
    "                str_dict[name] = ind\n",
    "                new_name = name + \"(\"+str(ind)+\")\"\n",
    "\n",
    "                while new_name in str_dict:\n",
    "                    ind += 1\n",
    "                    str_dict[name] = ind\n",
    "                    new_name = name + \"(\"+str(ind)+\")\"\n",
    "                #----\n",
    "                str_dict[new_name] = 0\n",
    "                #----\n",
    "                return new_name\n",
    "            else:\n",
    "                str_dict[name] = 0\n",
    "                new_name = name\n",
    "                unique_name = True\n",
    "                \n",
    "        return new_name\n",
    "    \n",
    "\n",
    "    \n",
    "    result_names = []\n",
    "    str_dict = {}\n",
    "    for name in names:\n",
    "        new_name = get_unique_name(name,str_dict)\n",
    "        result_names.append(new_name)\n",
    "    print(str_dict)\n",
    "    print()\n",
    "    return result_names"
   ]
  },
  {
   "cell_type": "code",
   "execution_count": null,
   "metadata": {},
   "outputs": [],
   "source": [
    "#names = [\"doc\", \"doc\",\"image\",\"doc(1)\",\"doc\"]\n",
    "#names = [\"a(1)\",\"a(6)\",\"a\",\"a\",\"a\",\"a\",\"a\",\"a\",\"a\",\"a\",\"a\",\"a\"]\n",
    "names = [\"dd\",\"dd(1)\",\"dd(2)\",\"dd\",\"dd(1)\",\"dd(1)(2)\",\"dd(1)(1)\",\"dd\",\"dd(1)\"]\n",
    "#names = [\"name\",\"name\",\"name(1)\",\"name(3)\",\"name(2)\",\"name(2)\"]\n",
    "\n",
    "#names = [\"doc(1)\", \"doc\", \"image\", \"doc\", \"doc\"]\n",
    "#names = [\"doc\",\"doc(1)\", \"doc\", \"doc(1)(1)\", \"image\", \"doc(1)\", \"doc\",\"image\",\"doc(1)(1)\"]\n",
    "new_list = fileNaming(names)\n",
    "print(names)\n",
    "print(new_list)"
   ]
  },
  {
   "cell_type": "code",
   "execution_count": null,
   "metadata": {},
   "outputs": [],
   "source": [
    "names = [\"doc\", \"doc\",\"image\",\"doc(1)\",\"doc\"]\n",
    "[\"doc\",\"doc(1)\",\"image\",\"doc(1)(1)\",\"doc(2)\"]\n",
    "\n",
    "names = [\"a(1)\",\"a(6)\",\"a\",\"a\",\"a\",\"a\",\"a\",\"a\",\"a\",\"a\",\"a\",\"a\"]\n",
    "[\"a(1)\",\"a(6)\",\"a\",\"a(2)\",\"a(3)\",\"a(4)\",\"a(5)\",\"a(7)\",\"a(8)\",\"a(9)\",\"a(10)\",\"a(11)\"]\n",
    "\n",
    "names = [\"dd\",\"dd(1)\",\"dd(2)\",\"dd\",\"dd(1)\",\"dd(1)(2)\",\"dd(1)(1)\",\"dd\",\"dd(1)\"]\n",
    "[\"dd\",\"dd(1)\",\"dd(2)\",\"dd(3)\",\"dd(1)(1)\",\"dd(1)(2)\",\"dd(1)(1)(1)\",\"dd(4)\",\"dd(1)(3)\"]\n",
    "\n",
    "names = [\"name\",\"name\",\"name(1)\",\"name(3)\",\"name(2)\",\"name(2)\"]\n",
    "[\"name\",\"name(1)\",\"name(1)(1)\",\"name(3)\",\"name(2)\",\"name(2)(1)\"]"
   ]
  }
 ],
 "metadata": {
  "kernelspec": {
   "display_name": "Python 3.8.5 64-bit ('pyth38': conda)",
   "language": "python",
   "name": "python385jvsc74a57bd00ae9ce34f95aa7ffe7d0192fc75bd73f5200ea3bfa70732736bbadebf6ffd6eb"
  },
  "language_info": {
   "codemirror_mode": {
    "name": "ipython",
    "version": 3
   },
   "file_extension": ".py",
   "mimetype": "text/x-python",
   "name": "python",
   "nbconvert_exporter": "python",
   "pygments_lexer": "ipython3",
   "version": "3.8.5"
  }
 },
 "nbformat": 4,
 "nbformat_minor": 2
}
