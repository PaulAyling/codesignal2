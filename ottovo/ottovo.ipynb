{
 "cells": [
  {
   "cell_type": "code",
   "execution_count": 1,
   "metadata": {},
   "outputs": [
    {
     "name": "stdout",
     "output_type": "stream",
     "text": [
      "hello\n"
     ]
    }
   ],
   "source": [
    "print(\"hello\")"
   ]
  },
  {
   "cell_type": "code",
   "execution_count": 27,
   "metadata": {},
   "outputs": [
    {
     "name": "stdout",
     "output_type": "stream",
     "text": [
      "trimmedMyString radar\n",
      "T1:Blank space: True\n"
     ]
    }
   ],
   "source": [
    "def checkPalindrome(myString):\n",
    "\n",
    "\n",
    "    # print('reversed',reversed)\n",
    "    trimmedMyString = myString.replace(\" \",\"\")\n",
    "    reversed = trimmedMyString[::-1]\n",
    " \n",
    "    print('trimmedMyString',trimmedMyString)\n",
    "\n",
    "\n",
    "    if len(myString) < 1:\n",
    "        # print('less than 1')\n",
    "        return False\n",
    "\n",
    "    if reversed == trimmedMyString:\n",
    "        return True\n",
    "    else:\n",
    "        return False\n",
    "\n",
    "\n",
    "# Test 1\n",
    "myString = 'r  adar'\n",
    "print('T1:Blank space:', checkPalindrome(myString))\n",
    "\n",
    "\n",
    "\n",
    "\n",
    "\n",
    "# memory\n",
    "# kayak\n",
    "# level\n",
    "# an na  \n",
    "# motor\n",
    "# r  adar\n",
    "\n"
   ]
  },
  {
   "cell_type": "code",
   "execution_count": null,
   "metadata": {},
   "outputs": [],
   "source": []
  },
  {
   "cell_type": "code",
   "execution_count": null,
   "metadata": {},
   "outputs": [],
   "source": []
  }
 ],
 "metadata": {
  "interpreter": {
   "hash": "31f2aee4e71d21fbe5cf8b01ff0e069b9275f58929596ceb00d14d90e3e16cd6"
  },
  "kernelspec": {
   "display_name": "Python 3.8.9 64-bit",
   "language": "python",
   "name": "python3"
  },
  "language_info": {
   "codemirror_mode": {
    "name": "ipython",
    "version": 3
   },
   "file_extension": ".py",
   "mimetype": "text/x-python",
   "name": "python",
   "nbconvert_exporter": "python",
   "pygments_lexer": "ipython3",
   "version": "3.8.9"
  },
  "orig_nbformat": 4
 },
 "nbformat": 4,
 "nbformat_minor": 2
}
