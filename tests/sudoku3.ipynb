{
 "cells": [
  {
   "cell_type": "code",
   "execution_count": 2,
   "metadata": {},
   "outputs": [],
   "source": [
    "import copy\n",
    "import numpy as np\n",
    "puzzle1= [[0, 4, 0, 0, 0, 0, 1, 7, 9], \n",
    "[0, 0, 2, 0, 0, 8, 0, 5, 4], \n",
    "[0, 0, 6, 0, 0, 5, 0, 0, 8], \n",
    "[0, 8, 0, 0, 7, 0, 9, 1, 0], \n",
    "[0, 5, 0, 0, 9, 0, 0, 3, 0], \n",
    "[0, 1, 9, 0, 6, 0, 0, 4, 0], \n",
    "[3, 0, 0, 4, 0, 0, 7, 0, 0], \n",
    "[5, 7, 0, 1, 0, 0, 2, 0, 0], \n",
    "[9, 2, 8, 0, 0, 0, 0, 6, 0]] \n",
    "\n",
    "puzzle2 =    [[5,3,0,0,7,0,0,0,0],\n",
    "     [6,0,0,1,9,5,0,0,0],\n",
    "     [0,9,8,0,0,0,0,6,0],\n",
    "     [8,0,0,0,6,0,0,0,3],\n",
    "     [4,0,0,8,0,3,0,0,1],\n",
    "     [7,0,0,0,2,0,0,0,6],\n",
    "     [0,6,0,0,0,0,2,8,0],\n",
    "     [0,0,0,4,1,9,0,0,5],\n",
    "     [0,0,0,0,8,0,0,7,9]]\n",
    "puzzle = puzzle2\n"
   ]
  },
  {
   "cell_type": "code",
   "execution_count": 3,
   "metadata": {},
   "outputs": [],
   "source": [
    "def isPossible(row,char, n):\n",
    "    global puzzle\n",
    "\n",
    "     #Get Lists\n",
    "    def get_row(row,puzzle):\n",
    "      l = puzzle[row]\n",
    "      return l\n",
    "    def get_col(char,puzzle):\n",
    "      l = list()\n",
    "      for row in range(len(puzzle)):\n",
    "        l.append(puzzle[row][char])\n",
    "      return l\n",
    "    def get_square(row,char,puzzle):\n",
    "      #The suduko is divided into 9 sub squares (3 sub x and 3 y)\n",
    "      sub_x = int(char/3)\n",
    "      sub_y = int(row / 3)\n",
    "      subs = {0:[0,1,2],1:[3,4,5],2:[6,7,8]}\n",
    "      res = list()\n",
    "      for row in subs[sub_y]:\n",
    "        for char in subs[sub_x]:\n",
    "          # print(row,char)\n",
    "          res.append(puzzle[row][char])\n",
    "      return res\n",
    "\n",
    "    def findCandidates(l):\n",
    "      full = [1,2,3,4,5,6,7,8,9]\n",
    "      return  list(filter(lambda x: x not in l, full))\n",
    "      r1 = puzzle[quad_row][quad_char:quad_char+3]\n",
    "      r2 = puzzle[quad_row+1][quad_char:quad_char+3] + r1\n",
    "      l = puzzle[quad_row+2][quad_char:quad_char+3] + r2\n",
    "      return l\n",
    "    def consolidateLists(get_row,get_col,get_square):\n",
    "      get_row.extend(get_col)\n",
    "      get_row.extend(get_square)\n",
    "      res = set(get_row)\n",
    "      return res\n",
    "\n",
    "    row_nbrs = list(set(get_row(row,puzzle)))\n",
    "    col_nbrs = list(set(get_col(char,puzzle)))\n",
    "    square_nbrs = list(set(get_square(row,char,puzzle)))\n",
    "    all_nbrs = consolidateLists(row_nbrs,col_nbrs,square_nbrs)\n",
    "    items_outstanding = findCandidates(all_nbrs)\n",
    "    # print(items_outstanding)\n",
    "    return True if n in items_outstanding else False"
   ]
  },
  {
   "cell_type": "code",
   "execution_count": 31,
   "metadata": {},
   "outputs": [
    {
     "name": "stdout",
     "output_type": "stream",
     "text": [
      "False\n"
     ]
    }
   ],
   "source": [
    "row = 0\n",
    "char = 0\n",
    "print(isPossible(row,char,7))"
   ]
  },
  {
   "cell_type": "code",
   "execution_count": 32,
   "metadata": {},
   "outputs": [],
   "source": [
    "def solver():\n",
    "    global puzzle\n",
    "    for row in range(9):\n",
    "        for char in range(9):\n",
    "            if puzzle[row][char] == 0:\n",
    "                for n in range(1,10):\n",
    "                    if isPossible(row,char,n):\n",
    "                        puzzle[row][char] = n\n",
    "                        solver()\n",
    "                        # if solver cannot keep going\n",
    "                        puzzle[row][char] = 0\n",
    "                return \n",
    "    print(np.matrix(puzzle))\n",
    " "
   ]
  },
  {
   "cell_type": "code",
   "execution_count": 34,
   "metadata": {
    "tags": []
   },
   "outputs": [
    {
     "name": "stdout",
     "output_type": "stream",
     "text": [
      "[[5 3 4 6 7 8 9 1 2]\n",
      " [6 7 2 1 9 5 3 4 8]\n",
      " [1 9 8 3 4 2 5 6 7]\n",
      " [8 5 9 7 6 1 4 2 3]\n",
      " [4 2 6 8 5 3 7 9 1]\n",
      " [7 1 3 9 2 4 8 5 6]\n",
      " [9 6 1 5 3 7 2 8 4]\n",
      " [2 8 7 4 1 9 6 3 5]\n",
      " [3 4 5 2 8 6 1 7 9]]\n"
     ]
    }
   ],
   "source": [
    "solver()"
   ]
  },
  {
   "cell_type": "code",
   "execution_count": null,
   "metadata": {},
   "outputs": [],
   "source": [
    "print('hi')"
   ]
  },
  {
   "cell_type": "code",
   "execution_count": 1,
   "metadata": {},
   "outputs": [
    {
     "name": "stdout",
     "output_type": "stream",
     "text": [
      "hi\n"
     ]
    }
   ],
   "source": [
    "print(\"hi\")"
   ]
  },
  {
   "cell_type": "code",
   "execution_count": null,
   "metadata": {},
   "outputs": [],
   "source": []
  }
 ],
 "metadata": {
  "interpreter": {
   "hash": "a8ed6b6aaa83e0c75564d8643a7111be6f47b679c5d32737ff20a5a7a3944855"
  },
  "kernelspec": {
   "display_name": "Python 3.8.3 64-bit ('base': conda)",
   "name": "python3"
  },
  "language_info": {
   "codemirror_mode": {
    "name": "ipython",
    "version": 3
   },
   "file_extension": ".py",
   "mimetype": "text/x-python",
   "name": "python",
   "nbconvert_exporter": "python",
   "pygments_lexer": "ipython3",
   "version": "3.8.3"
  },
  "orig_nbformat": 4
 },
 "nbformat": 4,
 "nbformat_minor": 2
}