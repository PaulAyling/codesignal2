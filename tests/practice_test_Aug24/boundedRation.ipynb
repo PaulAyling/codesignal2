{
 "cells": [
  {
   "cell_type": "code",
   "execution_count": 2,
   "source": [
    "def boundedRatio(a, l, r):\n",
    "    result = list()\n",
    "    for item in a:\n",
    "        exit = False\n",
    "        n = 1\n",
    "        while exit == False:\n",
    "            if item * n > l and item * n > r:\n",
    "                print('1')\n",
    "                result.append(False)\n",
    "                exit = True\n",
    "            elif  item * n < l and item * n< r:\n",
    "                print('2')\n",
    "                result.append(True)\n",
    "                exit = True\n",
    "            else:\n",
    "                print('3')\n",
    "                n +=1\n",
    "    return result\n",
    "\n",
    "\n",
    "\n",
    "\n",
    "a = [8, 5, 6, 16, 5] \n",
    "l = 1\n",
    "r = 3 \n",
    "ans =  [False, False, True, False, True]\n",
    "print(boundedRatio(a, l, r))"
   ],
   "outputs": [
    {
     "output_type": "stream",
     "name": "stdout",
     "text": [
      "1\n",
      "1\n",
      "1\n",
      "1\n",
      "1\n",
      "[False, False, False, False, False]\n"
     ]
    }
   ],
   "metadata": {}
  },
  {
   "cell_type": "code",
   "execution_count": null,
   "source": [],
   "outputs": [],
   "metadata": {}
  }
 ],
 "metadata": {
  "orig_nbformat": 4,
  "language_info": {
   "name": "python",
   "version": "3.9.6",
   "mimetype": "text/x-python",
   "codemirror_mode": {
    "name": "ipython",
    "version": 3
   },
   "pygments_lexer": "ipython3",
   "nbconvert_exporter": "python",
   "file_extension": ".py"
  },
  "kernelspec": {
   "name": "python3",
   "display_name": "Python 3.9.6 64-bit"
  },
  "interpreter": {
   "hash": "aee8b7b246df8f9039afb4144a1f6fd8d2ca17a180786b69acc140d282b71a49"
  }
 },
 "nbformat": 4,
 "nbformat_minor": 2
}