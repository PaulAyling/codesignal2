{
 "cells": [
  {
   "cell_type": "code",
   "execution_count": null,
   "source": [
    "matrix= [\n",
    "[0, 4, 0, 0, 0, 0, 1, 7, 9], \n",
    "[0, 0, 2, 0, 0, 8, 0, 5, 4], \n",
    "[0, 0, 6, 0, 0, 5, 0, 0, 8], \n",
    "[0, 8, 0, 0, 7, 0, 9, 1, 0], \n",
    "[0, 5, 0, 0, 9, 0, 0, 3, 0], \n",
    "[0, 1, 9, 0, 6, 0, 0, 4, 0], \n",
    "[3, 0, 0, 4, 0, 0, 7, 0, 0], \n",
    "[5, 7, 0, 1, 0, 0, 2, 0, 0],  \n",
    "[9, 2, 8, 0, 0, 0, 0, 6, 0]] "
   ],
   "outputs": [],
   "metadata": {}
  },
  {
   "cell_type": "code",
   "execution_count": null,
   "source": [
    "#1 populate the matrix score with number of outstanding numbers\n",
    "#2"
   ],
   "outputs": [],
   "metadata": {}
  },
  {
   "cell_type": "code",
   "execution_count": null,
   "source": [
    "def trySolution(matrix):\n",
    "  "
   ],
   "outputs": [],
   "metadata": {}
  }
 ],
 "metadata": {
  "orig_nbformat": 4,
  "language_info": {
   "name": "python"
  }
 },
 "nbformat": 4,
 "nbformat_minor": 2
}