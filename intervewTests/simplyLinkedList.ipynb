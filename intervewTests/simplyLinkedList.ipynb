{
 "cells": [
  {
   "cell_type": "code",
   "execution_count": 1,
   "metadata": {},
   "outputs": [
    {
     "name": "stdout",
     "output_type": "stream",
     "text": [
      "3\n"
     ]
    }
   ],
   "source": [
    "# A single node of a singly linked list\n",
    "class Node:\n",
    "  # constructor\n",
    "  def __init__(self, data, next=None): \n",
    "    self.data = data\n",
    "    self.next = next\n",
    "\n",
    "# Creating a single node\n",
    "first = Node(3)\n",
    "print(first.data)"
   ]
  },
  {
   "cell_type": "code",
   "execution_count": null,
   "metadata": {},
   "outputs": [],
   "source": [
    "# A Linked List class with a single head node\n",
    "class LinkedList:\n",
    "  def __init__(self):  \n",
    "    self.head = None\n",
    "\n",
    "# Linked List with a single node\n",
    "LL = LinkedList()\n",
    "LL.head = Node(3)\n",
    "print(LL.head.data)"
   ]
  }
 ],
 "metadata": {
  "interpreter": {
   "hash": "31f2aee4e71d21fbe5cf8b01ff0e069b9275f58929596ceb00d14d90e3e16cd6"
  },
  "kernelspec": {
   "display_name": "Python 3.8.9 64-bit",
   "language": "python",
   "name": "python3"
  },
  "language_info": {
   "codemirror_mode": {
    "name": "ipython",
    "version": 3
   },
   "file_extension": ".py",
   "mimetype": "text/x-python",
   "name": "python",
   "nbconvert_exporter": "python",
   "pygments_lexer": "ipython3",
   "version": "3.8.9"
  },
  "orig_nbformat": 4
 },
 "nbformat": 4,
 "nbformat_minor": 2
}
