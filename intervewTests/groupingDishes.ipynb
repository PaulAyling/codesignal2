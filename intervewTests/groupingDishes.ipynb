{
 "cells": [
  {
   "cell_type": "code",
   "execution_count": 37,
   "metadata": {},
   "outputs": [
    {
     "name": "stdout",
     "output_type": "stream",
     "text": [
      "NEW ARR: ['bob', 1, 2, 3]\n",
      "NEW ARR: ['jane', 5, 6, 7]\n"
     ]
    }
   ],
   "source": [
    "d = {\"bob\":[1,2,3],\"jane\":[5,6,7]}\n",
    "\n",
    "for key in d:\n",
    "#     print(key)  \n",
    "#     print(d[key])\n",
    "\n",
    "    res_arr = []\n",
    "    res_arr.append(key)\n",
    "    for n in d[key]:\n",
    "         res_arr.append(n)\n",
    "\n",
    "    print('NEW ARR:',res_arr)\n",
    "\n",
    "\n",
    "\n"
   ]
  },
  {
   "cell_type": "code",
   "execution_count": 60,
   "metadata": {},
   "outputs": [],
   "source": [
    "def solution(dishes):\n",
    "    # 1. create dictionary\n",
    "    final_result = []\n",
    "    our_dict = {}\n",
    "    for row in range(len(dishes)):\n",
    "        for x in range(1,len(dishes[row])):\n",
    "            ingredient = dishes[row][x]\n",
    "            meal = dishes[row][0]\n",
    "            if ingredient in our_dict:\n",
    "                our_dict[ingredient].append(meal)\n",
    "            else:\n",
    "                our_dict[ingredient] = [meal]  # tomato:pasta\n",
    "    # print('ourDict',our_dict)\n",
    "    # print('----------------------------')\n",
    "    # 2. ransform dictionary into array\n",
    "    for key in our_dict:\n",
    "        res_arr = []\n",
    "        res_arr.append(key)\n",
    "        for n in our_dict[key]:\n",
    "            res_arr.append(n)\n",
    "        # print('res_arr',res_arr)\n",
    "        if len(res_arr) > 2:\n",
    "            final_result.append(res_arr)\n",
    "    # 3. remove lists with less than 3 items\n",
    "    print('---------------')\n",
    "    # print('final_result',final_result)\n",
    "    # Reorder final_result\n",
    "    # order based on position 0\n",
    "    print('final_result',final_result)\n",
    "    print('final_result[0]',final_result[0])\n",
    "    sorted(final_result[0]) \n",
    "    print('final_result[0]',final_result[0])\n",
    "    \n",
    "\n"
   ]
  },
  {
   "cell_type": "code",
   "execution_count": 61,
   "metadata": {},
   "outputs": [
    {
     "name": "stdout",
     "output_type": "stream",
     "text": [
      "---------------\n",
      "final_result [['Tomato', 'Salad', 'Pizza', 'Sandwich'], ['Salad', 'Salad', 'Sandwich'], ['Sauce', 'Salad', 'Pizza', 'Quesadilla'], ['Cheese', 'Quesadilla', 'Sandwich']]\n",
      "final_result[0] ['Tomato', 'Salad', 'Pizza', 'Sandwich']\n",
      "final_result[0] ['Tomato', 'Salad', 'Pizza', 'Sandwich']\n"
     ]
    }
   ],
   "source": [
    "dishes = [[\"Salad\", \"Tomato\", \"Cucumber\", \"Salad\", \"Sauce\"],\n",
    "            [\"Pizza\", \"Tomato\", \"Sausage\", \"Sauce\", \"Dough\"],\n",
    "            [\"Quesadilla\", \"Chicken\", \"Cheese\", \"Sauce\"],\n",
    "            [\"Sandwich\", \"Salad\", \"Bread\", \"Tomato\", \"Cheese\"]]\n",
    "solution(dishes)\n"
   ]
  },
  {
   "cell_type": "code",
   "execution_count": null,
   "metadata": {},
   "outputs": [],
   "source": []
  }
 ],
 "metadata": {
  "interpreter": {
   "hash": "31f2aee4e71d21fbe5cf8b01ff0e069b9275f58929596ceb00d14d90e3e16cd6"
  },
  "kernelspec": {
   "display_name": "Python 3.8.9 64-bit",
   "language": "python",
   "name": "python3"
  },
  "language_info": {
   "codemirror_mode": {
    "name": "ipython",
    "version": 3
   },
   "file_extension": ".py",
   "mimetype": "text/x-python",
   "name": "python",
   "nbconvert_exporter": "python",
   "pygments_lexer": "ipython3",
   "version": "3.8.9"
  },
  "orig_nbformat": 4
 },
 "nbformat": 4,
 "nbformat_minor": 2
}
