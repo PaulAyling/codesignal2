{
 "cells": [
  {
   "cell_type": "code",
   "execution_count": 1,
   "metadata": {},
   "outputs": [],
   "source": [
    "def solution(dishes):\n",
    "    # 1. create dictionary\n",
    "    final_result = []\n",
    "    our_dict = {}\n",
    "    for row in range(len(dishes)):\n",
    "        for x in range(1,len(dishes[row])):\n",
    "            ingredient = dishes[row][x]\n",
    "            meal = dishes[row][0]\n",
    "            if ingredient in our_dict:\n",
    "                our_dict[ingredient].append(meal)\n",
    "            else:\n",
    "                our_dict[ingredient] = [meal]  # tomato:pasta\n",
    "    # print('ourDict',our_dict)\n",
    "    # print('----------------------------')\n",
    "    # 2. ransform dictionary into array\n",
    "    for key in our_dict:\n",
    "        res_arr = []\n",
    "        res_arr.append(key)\n",
    "        for n in our_dict[key]:\n",
    "            res_arr.append(n)\n",
    "        # print('res_arr',res_arr)\n",
    "        if len(res_arr) > 2:\n",
    "            final_result.append(res_arr)\n",
    "    # 3. remove lists with less than 3 items\n",
    "    print('---------------')\n",
    "    # print('final_result',final_result)\n",
    "    # Reorder final_result\n",
    "    # order based on position 0\n",
    "    print('final_result',final_result)\n",
    "    print('final_result[0]',final_result[0])\n",
    "    sorted(final_result[0]) \n",
    "    print('final_result[0]',final_result[0])\n",
    "    return final_result\n",
    "    \n",
    "\n"
   ]
  },
  {
   "cell_type": "code",
   "execution_count": 2,
   "metadata": {},
   "outputs": [
    {
     "name": "stdout",
     "output_type": "stream",
     "text": [
      "---------------\n",
      "final_result [['Tomato', 'Salad', 'Pizza', 'Sandwich'], ['Salad', 'Salad', 'Sandwich'], ['Sauce', 'Salad', 'Pizza', 'Quesadilla'], ['Cheese', 'Quesadilla', 'Sandwich']]\n",
      "final_result[0] ['Tomato', 'Salad', 'Pizza', 'Sandwich']\n",
      "final_result[0] ['Tomato', 'Salad', 'Pizza', 'Sandwich']\n"
     ]
    },
    {
     "data": {
      "text/plain": [
       "[['Tomato', 'Salad', 'Pizza', 'Sandwich'],\n",
       " ['Salad', 'Salad', 'Sandwich'],\n",
       " ['Sauce', 'Salad', 'Pizza', 'Quesadilla'],\n",
       " ['Cheese', 'Quesadilla', 'Sandwich']]"
      ]
     },
     "execution_count": 2,
     "metadata": {},
     "output_type": "execute_result"
    }
   ],
   "source": [
    "dishes = [[\"Salad\", \"Tomato\", \"Cucumber\", \"Salad\", \"Sauce\"],\n",
    "            [\"Pizza\", \"Tomato\", \"Sausage\", \"Sauce\", \"Dough\"],\n",
    "            [\"Quesadilla\", \"Chicken\", \"Cheese\", \"Sauce\"],\n",
    "            [\"Sandwich\", \"Salad\", \"Bread\", \"Tomato\", \"Cheese\"]]\n",
    "solution(dishes)\n"
   ]
  },
  {
   "cell_type": "code",
   "execution_count": 3,
   "metadata": {},
   "outputs": [],
   "source": [
    "def solution(dishes):\n",
    "    # 1. create dictionary\n",
    "    our_dict = {}\n",
    "    correct_groupings = []\n",
    "    final_result = []\n",
    "    for row in range(len(dishes)):\n",
    "        for x in range(1,len(dishes[row])):\n",
    "            ingredient = dishes[row][x]\n",
    "            meal = dishes[row][0]\n",
    "            if ingredient in our_dict:\n",
    "                our_dict[ingredient].append(meal)\n",
    "            else:\n",
    "                our_dict[ingredient] = [meal]  # tomato:pasta\n",
    "    # print('ourDict',our_dict)\n",
    "    # print('----------------------------')\n",
    "    # 2. ransform dictionary into array\n",
    "    for key in our_dict:\n",
    "        res_arr = []\n",
    "        res_arr.append(key)\n",
    "        for n in our_dict[key]:\n",
    "            res_arr.append(n)\n",
    "        if len(res_arr) > 2:\n",
    "            correct_groupings.append(res_arr)\n",
    "\n",
    "    # Reorder the 2 arrays \n",
    "    print('correct_groupings',correct_groupings)\n",
    "    correct_groupings.sort()\n",
    "    print('correct_groupings',correct_groupings)\n",
    "    final_result = []\n",
    "    for n in range(len(correct_groupings)):\n",
    "        row = []\n",
    "        meals =  correct_groupings[n][1:]\n",
    "        meals.sort()\n",
    "        row = correct_groupings[n][0]\n",
    "        row.extend(meals)\n",
    "        final_result.append(row)\n",
    "        \n",
    "    print('final_result',final_result)"
   ]
  },
  {
   "cell_type": "code",
   "execution_count": 6,
   "metadata": {},
   "outputs": [
    {
     "name": "stdout",
     "output_type": "stream",
     "text": [
      "**********************************************\n",
      "correct_groupings [['Tomato', 'Salad', 'Pizza', 'Sandwich'], ['Salad', 'Salad', 'Sandwich'], ['Sauce', 'Salad', 'Pizza', 'Quesadilla'], ['Cheese', 'Quesadilla', 'Sandwich']]\n",
      "correct_groupings [['Cheese', 'Quesadilla', 'Sandwich'], ['Salad', 'Salad', 'Sandwich'], ['Sauce', 'Salad', 'Pizza', 'Quesadilla'], ['Tomato', 'Salad', 'Pizza', 'Sandwich']]\n"
     ]
    },
    {
     "ename": "AttributeError",
     "evalue": "'str' object has no attribute 'extend'",
     "output_type": "error",
     "traceback": [
      "\u001b[0;31m---------------------------------------------------------------------------\u001b[0m",
      "\u001b[0;31mAttributeError\u001b[0m                            Traceback (most recent call last)",
      "\u001b[0;32m/var/folders/nm/shtyg_kn4212sq5h994kn3qw0000gn/T/ipykernel_40351/2664879078.py\u001b[0m in \u001b[0;36m<module>\u001b[0;34m\u001b[0m\n\u001b[1;32m      5\u001b[0m \u001b[0mprint\u001b[0m\u001b[0;34m(\u001b[0m\u001b[0;34m'**********************************************'\u001b[0m\u001b[0;34m)\u001b[0m\u001b[0;34m\u001b[0m\u001b[0;34m\u001b[0m\u001b[0m\n\u001b[1;32m      6\u001b[0m \u001b[0;31m# print('OUR ANS:',solution(dishes))\u001b[0m\u001b[0;34m\u001b[0m\u001b[0;34m\u001b[0m\u001b[0;34m\u001b[0m\u001b[0m\n\u001b[0;32m----> 7\u001b[0;31m \u001b[0msolution\u001b[0m\u001b[0;34m(\u001b[0m\u001b[0mdishes\u001b[0m\u001b[0;34m)\u001b[0m\u001b[0;34m\u001b[0m\u001b[0;34m\u001b[0m\u001b[0m\n\u001b[0m\u001b[1;32m      8\u001b[0m \u001b[0mprint\u001b[0m\u001b[0;34m(\u001b[0m\u001b[0;34m'---------------------------------------------------'\u001b[0m\u001b[0;34m)\u001b[0m\u001b[0;34m\u001b[0m\u001b[0;34m\u001b[0m\u001b[0m\n\u001b[1;32m      9\u001b[0m print('correct Ans:',[[\"Cheese\",\"Quesadilla\",\"Sandwich\"], \n",
      "\u001b[0;32m/var/folders/nm/shtyg_kn4212sq5h994kn3qw0000gn/T/ipykernel_40351/2308652415.py\u001b[0m in \u001b[0;36msolution\u001b[0;34m(dishes)\u001b[0m\n\u001b[1;32m     33\u001b[0m         \u001b[0mmeals\u001b[0m\u001b[0;34m.\u001b[0m\u001b[0msort\u001b[0m\u001b[0;34m(\u001b[0m\u001b[0;34m)\u001b[0m\u001b[0;34m\u001b[0m\u001b[0;34m\u001b[0m\u001b[0m\n\u001b[1;32m     34\u001b[0m         \u001b[0mrow\u001b[0m \u001b[0;34m=\u001b[0m \u001b[0mcorrect_groupings\u001b[0m\u001b[0;34m[\u001b[0m\u001b[0mn\u001b[0m\u001b[0;34m]\u001b[0m\u001b[0;34m[\u001b[0m\u001b[0;36m0\u001b[0m\u001b[0;34m]\u001b[0m\u001b[0;34m\u001b[0m\u001b[0;34m\u001b[0m\u001b[0m\n\u001b[0;32m---> 35\u001b[0;31m         \u001b[0mrow\u001b[0m\u001b[0;34m.\u001b[0m\u001b[0mextend\u001b[0m\u001b[0;34m(\u001b[0m\u001b[0mmeals\u001b[0m\u001b[0;34m)\u001b[0m\u001b[0;34m\u001b[0m\u001b[0;34m\u001b[0m\u001b[0m\n\u001b[0m\u001b[1;32m     36\u001b[0m         \u001b[0mfinal_result\u001b[0m\u001b[0;34m.\u001b[0m\u001b[0mappend\u001b[0m\u001b[0;34m(\u001b[0m\u001b[0mrow\u001b[0m\u001b[0;34m)\u001b[0m\u001b[0;34m\u001b[0m\u001b[0;34m\u001b[0m\u001b[0m\n\u001b[1;32m     37\u001b[0m \u001b[0;34m\u001b[0m\u001b[0m\n",
      "\u001b[0;31mAttributeError\u001b[0m: 'str' object has no attribute 'extend'"
     ]
    }
   ],
   "source": [
    "dishes = [[\"Salad\", \"Tomato\", \"Cucumber\", \"Salad\", \"Sauce\"],\n",
    "            [\"Pizza\", \"Tomato\", \"Sausage\", \"Sauce\", \"Dough\"],\n",
    "            [\"Quesadilla\", \"Chicken\", \"Cheese\", \"Sauce\"],\n",
    "            [\"Sandwich\", \"Salad\", \"Bread\", \"Tomato\", \"Cheese\"]]\n",
    "print('**********************************************')\n",
    "print('OUR ANS:',solution(dishes))\n",
    "print('---------------------------------------------------')\n",
    "print('correct Ans:',[[\"Cheese\",\"Quesadilla\",\"Sandwich\"], \n",
    " [\"Salad\",\"Salad\",\"Sandwich\"], \n",
    " [\"Sauce\",\"Pizza\",\"Quesadilla\",\"Salad\"], \n",
    " [\"Tomato\",\"Pizza\",\"Salad\",\"Sandwich\"]])"
   ]
  }
 ],
 "metadata": {
  "interpreter": {
   "hash": "31f2aee4e71d21fbe5cf8b01ff0e069b9275f58929596ceb00d14d90e3e16cd6"
  },
  "kernelspec": {
   "display_name": "Python 3.8.9 64-bit",
   "language": "python",
   "name": "python3"
  },
  "language_info": {
   "codemirror_mode": {
    "name": "ipython",
    "version": 3
   },
   "file_extension": ".py",
   "mimetype": "text/x-python",
   "name": "python",
   "nbconvert_exporter": "python",
   "pygments_lexer": "ipython3",
   "version": "3.8.9"
  },
  "orig_nbformat": 4
 },
 "nbformat": 4,
 "nbformat_minor": 2
}
