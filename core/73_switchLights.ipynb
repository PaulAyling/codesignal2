{
 "metadata": {
  "language_info": {
   "codemirror_mode": {
    "name": "ipython",
    "version": 3
   },
   "file_extension": ".py",
   "mimetype": "text/x-python",
   "name": "python",
   "nbconvert_exporter": "python",
   "pygments_lexer": "ipython3",
   "version": "3.8.3"
  },
  "orig_nbformat": 4,
  "kernelspec": {
   "name": "python3",
   "display_name": "Python 3.8.3 64-bit ('base': conda)"
  },
  "interpreter": {
   "hash": "a8ed6b6aaa83e0c75564d8643a7111be6f47b679c5d32737ff20a5a7a3944855"
  }
 },
 "nbformat": 4,
 "nbformat_minor": 2,
 "cells": [
  {
   "cell_type": "code",
   "execution_count": null,
   "metadata": {},
   "outputs": [],
   "source": [
    "#78 Switch lights\n",
    "import copy\n",
    "def switchLights(a):\n",
    "    current_candles =  copy.deepcopy(a)\n",
    "    extra_digit = 0\n",
    "    if a == [0,0]:\n",
    "        return a\n",
    "    for n in range(len(a)+1):\n",
    "        if extra_digit == 0:\n",
    "            print(extra_digit,\"= 0\")\n",
    "            extra_digit = 1\n",
    "        else:   \n",
    "            print(extra_digit,\"!= 0\")\n",
    "            extra_digit = 0\n",
    "        # modify current_candles\n",
    "        current_candles.insert(0,extra_digit)\n",
    "        del current_candles[-1]\n",
    "        print('current_candles',current_candles)\n",
    "    print(current_candles)\n",
    "    return current_candles\n",
    "    \n",
    "    #   [1, 1, 0, 0, 1]     [0, 1, 1, 1, 0]\n",
    "    #   [1, 1, 0, 0, 1]     0   [0,1,0,0,1]"
   ]
  },
  {
   "cell_type": "code",
   "execution_count": null,
   "metadata": {},
   "outputs": [],
   "source": [
    "\n",
    "def reverseList(l):\n",
    "    def reverseDigit(d):\n",
    "    if d == 1:\n",
    "        return 0\n",
    "    else:\n",
    "        return 1\n",
    "\n",
    "    return list(map(reverseDigit, l))\n",
    "\n",
    "mylist = [1, 0, 0, 1, 0, 1, 0, 1]\n",
    "print('ans:')\n",
    "reverseList(mylist)\n",
    "\n"
   ]
  },
  {
   "cell_type": "code",
   "execution_count": 86,
   "metadata": {},
   "outputs": [
    {
     "output_type": "stream",
     "name": "stdout",
     "text": [
      "a: [1, 0, 0, 1, 0, 1, 0, 1]\nlen(a) 8\nn= 0  val= candles to reverse [0]\nn= 1:current candles [0, 0, 0, 1, 0, 1, 0, 1]\nn= 3 current candles [0, 0, 0, 1, 0, 1, 0, 1] | candles_to_reverse [0, 0, 0, 1]\nn= 5 current candles [1, 1, 1, 0, 0, 1, 0, 1] | candles_to_reverse [1, 1, 1, 0, 0, 1]\nn= 7 current candles [0, 0, 0, 1, 1, 0, 0, 1] | candles_to_reverse [0, 0, 0, 1, 1, 0, 0, 1]\nTHE ANSWER IS...     [1, 1, 1, 0, 0, 1, 1, 0]\nans:::::::::::::     [1, 1, 1, 0, 0, 1, 1, 0]\n"
     ]
    }
   ],
   "source": [
    "import copy\n",
    "def switchLights(a):\n",
    "    def reverseList(l):\n",
    "        def reverseDigit(d):\n",
    "            if d == 1:\n",
    "                return 0\n",
    "            else:\n",
    "                return 1\n",
    "            \n",
    "        return list(map(reverseDigit, l))\n",
    "    \n",
    "    current_candles = copy.deepcopy(a)\n",
    "    for n in range(len(a)):\n",
    "        if n == 0:\n",
    "            if a[n] == 1:\n",
    "                current_candles[0] = 0\n",
    "                print('a:',a)\n",
    "                print('len(a)',len(a))\n",
    "                print('n=',n,' val=','candles to reverse',[current_candles[0]])\n",
    "                print('n= 1:current candles', current_candles)\n",
    "        else:\n",
    "            if a[n] == 1:\n",
    "                candles_to_reverse = current_candles[:n+1]\n",
    "                candles_reversed = reverseList(candles_to_reverse)\n",
    "                print('n=',n ,'current candles', current_candles,'|','candles_to_reverse', candles_to_reverse)\n",
    "                if n == len(a)-1:\n",
    "                    return candles_reversed\n",
    "                else:\n",
    "                    del current_candles[:n+1]\n",
    "                    current_candles[0:0] = candles_reversed\n",
    "    return current_candles\n",
    "        \n",
    "\n",
    "\n",
    "\n",
    "a = [1, 0, 0, 1, 0, 1, 0, 1]\n",
    "\n",
    "print('THE ANSWER IS...    ',switchLights(a))\n",
    "print('ans:::::::::::::    ',[1, 1, 1, 0, 0, 1, 1, 0])"
   ]
  },
  {
   "cell_type": "code",
   "execution_count": null,
   "metadata": {},
   "outputs": [],
   "source": []
  }
 ]
}