{
 "cells": [
  {
   "cell_type": "code",
   "execution_count": 7,
   "metadata": {},
   "outputs": [],
   "source": [
    "def nbrParents(data,myId):\n",
    "    counter=0\n",
    "    currentId = myId\n",
    "    while data[currentId]['parent'] !='':\n",
    "        counter +=1\n",
    "        print('id',currentId)\n",
    "        print('currentParent',data[currentId]['parent'])\n",
    "        print('counter',counter)\n",
    "        currentId = data[currentId]['parent']\n",
    "    return counter\n",
    "\n",
    "\n"
   ]
  },
  {
   "cell_type": "code",
   "execution_count": 14,
   "metadata": {},
   "outputs": [
    {
     "name": "stdout",
     "output_type": "stream",
     "text": [
      "id 5\n",
      "currentParent 3\n",
      "counter 1\n",
      "id 3\n",
      "currentParent 2\n",
      "counter 2\n"
     ]
    },
    {
     "data": {
      "text/plain": [
       "2"
      ]
     },
     "execution_count": 14,
     "metadata": {},
     "output_type": "execute_result"
    }
   ],
   "source": [
    "myId = 5\n",
    "data = {2:{'parent':''},3:{'parent':2},4:{'parent':2},5:{'parent':3}}\n",
    "nbrParents(data,myId)"
   ]
  },
  {
   "cell_type": "code",
   "execution_count": null,
   "metadata": {},
   "outputs": [],
   "source": [
    "myId = 3\n",
    "myParent = data[myId]"
   ]
  },
  {
   "cell_type": "code",
   "execution_count": null,
   "metadata": {},
   "outputs": [],
   "source": [
    "\n",
    "parentCount = 0\n",
    "print(data[myId])\n",
    "    "
   ]
  }
 ],
 "metadata": {
  "interpreter": {
   "hash": "31f2aee4e71d21fbe5cf8b01ff0e069b9275f58929596ceb00d14d90e3e16cd6"
  },
  "kernelspec": {
   "display_name": "Python 3.8.9 64-bit",
   "language": "python",
   "name": "python3"
  },
  "language_info": {
   "codemirror_mode": {
    "name": "ipython",
    "version": 3
   },
   "file_extension": ".py",
   "mimetype": "text/x-python",
   "name": "python",
   "nbconvert_exporter": "python",
   "pygments_lexer": "ipython3",
   "version": "3.8.9"
  },
  "orig_nbformat": 4
 },
 "nbformat": 4,
 "nbformat_minor": 2
}
