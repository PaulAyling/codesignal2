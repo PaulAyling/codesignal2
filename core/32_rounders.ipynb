{
 "cells": [
  {
   "cell_type": "code",
   "execution_count": 39,
   "metadata": {},
   "outputs": [
    {
     "name": "stdout",
     "output_type": "stream",
     "text": [
      "1\n",
      "n: 3 5 [None, None, 5, 0] ['1', '4', '4', '5']\n",
      "2\n",
      "n: 2 4 [None, None, 0, 0] ['1', '4', '4', '5']\n",
      "2\n",
      "n: 1 4 [None, 0, 0, 0] ['1', '4', '4', '5']\n",
      "n: 0 1 [1, 0, 0, 0] ['1', '4', '4', '5']\n",
      "l_res [1, 0, 0, 0]\n",
      "myAns None\n",
      "ans: 2000\n"
     ]
    }
   ],
   "source": [
    "def rounders(n):\n",
    "    # put into list\n",
    "    # use reduce on list\n",
    "    l_n = list(str(n))\n",
    "    l_res = [None] * len(str(n))\n",
    "    for i in range(len(l_n)-1,-1,-1):\n",
    "        if i == 0:\n",
    "            if int(l_n[i]) >= 5:\n",
    "                l_res[0] = int(l_n[i]) +1\n",
    "            else:\n",
    "                l_res[0] = int(l_n[i])   \n",
    "        else:\n",
    "            if int(l_n[i]) >= 5:\n",
    "                print('1')\n",
    "                l_res[i-1] = int(l_n[i-1]) + 1\n",
    "                l_res[i] = 0\n",
    "            else:\n",
    "                print('2')\n",
    "                l_res[i] = 0\n",
    "        print('n:',i,l_n[i],l_res,l_n)\n",
    "    print('l_res',l_res)    \n",
    "        \n",
    "n= 1445\n",
    "ans = 2000\n",
    "print('myAns',rounders(n))\n",
    "print('ans:', ans)"
   ]
  },
  {
   "cell_type": "code",
   "execution_count": 48,
   "metadata": {},
   "outputs": [
    {
     "name": "stdout",
     "output_type": "stream",
     "text": [
      "1\n",
      "1\n",
      "1\n",
      "myAns 2000\n",
      "ans: 2000\n"
     ]
    }
   ],
   "source": [
    "def rounders(n):\n",
    "    # put into list\n",
    "    # use reduce on list\n",
    "    l_n = list(str(n))\n",
    "    l_res = [None] * len(str(n))\n",
    "    for i in range(len(l_n)-1,-1,-1):\n",
    "        if i == 0:\n",
    "            if int(l_n[i]) >= 5:\n",
    "                l_n[0] = int(l_n[i]) +1\n",
    "            else:\n",
    "                l_n[0] = int(l_n[i])   \n",
    "        else:\n",
    "            if int(l_n[i]) >= 5:\n",
    "                print('1')\n",
    "                l_n[i-1] = int(l_n[i-1]) + 1\n",
    "                l_n[i] = 0\n",
    "            else:\n",
    "                print('2')\n",
    "                l_n[i] = 0\n",
    "    st_n = str(l_n)\n",
    "    st_n = ''.join([str(elem) for elem in l_n]) \n",
    "    return int(st_n)\n",
    "     \n",
    "        \n",
    "n= 1445\n",
    "ans = 2000\n",
    "print('myAns',rounders(n))\n",
    "print('ans:', ans)"
   ]
  },
  {
   "cell_type": "code",
   "execution_count": 44,
   "metadata": {},
   "outputs": [
    {
     "name": "stdout",
     "output_type": "stream",
     "text": [
      "listToStr I want 4 apples and 18 bananas\n"
     ]
    }
   ],
   "source": [
    "s = ['I', 'want', 4, 'apples', 'and', 18, 'bananas']\n",
    "  \n",
    "# using list comprehension\n",
    "listToStr = ' '.join([str(elem) for elem in s])\n",
    "print('listToStr',listToStr)"
   ]
  },
  {
   "cell_type": "code",
   "execution_count": null,
   "metadata": {},
   "outputs": [],
   "source": []
  }
 ],
 "metadata": {
  "interpreter": {
   "hash": "a8ed6b6aaa83e0c75564d8643a7111be6f47b679c5d32737ff20a5a7a3944855"
  },
  "kernelspec": {
   "display_name": "Python 3.8.3 64-bit ('base': conda)",
   "name": "python3"
  },
  "language_info": {
   "codemirror_mode": {
    "name": "ipython",
    "version": 3
   },
   "file_extension": ".py",
   "mimetype": "text/x-python",
   "name": "python",
   "nbconvert_exporter": "python",
   "pygments_lexer": "ipython3",
   "version": "3.8.3"
  },
  "orig_nbformat": 4
 },
 "nbformat": 4,
 "nbformat_minor": 2
}