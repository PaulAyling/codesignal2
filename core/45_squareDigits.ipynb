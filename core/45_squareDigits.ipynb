{
 "metadata": {
  "language_info": {
   "codemirror_mode": {
    "name": "ipython",
    "version": 3
   },
   "file_extension": ".py",
   "mimetype": "text/x-python",
   "name": "python",
   "nbconvert_exporter": "python",
   "pygments_lexer": "ipython3",
   "version": "3.8.3"
  },
  "orig_nbformat": 4,
  "kernelspec": {
   "name": "python3",
   "display_name": "Python 3.8.3 64-bit ('base': conda)"
  },
  "interpreter": {
   "hash": "a8ed6b6aaa83e0c75564d8643a7111be6f47b679c5d32737ff20a5a7a3944855"
  }
 },
 "nbformat": 4,
 "nbformat_minor": 2,
 "cells": [
  {
   "cell_type": "code",
   "execution_count": 27,
   "metadata": {},
   "outputs": [
    {
     "output_type": "stream",
     "name": "stdout",
     "text": [
      "16 [1, 6] [1, 36] 37 [16]\n37 [3, 7] [9, 49] 58 [16, 37]\n58 [5, 8] [25, 64] 89 [16, 37, 58]\n89 [8, 9] [64, 81] 145 [16, 37, 58, 89]\n145 [1, 4, 5] [1, 16, 25] 42 [16, 37, 58, 89, 145]\n42 [4, 2] [16, 4] 20 [16, 37, 58, 89, 145, 42]\n20 [2, 0] [4, 0] 4 [16, 37, 58, 89, 145, 42, 20]\n4 [4] [16] 16 [16, 37, 58, 89, 145, 42, 20, 4]\nres 9\nans: 4\n"
     ]
    },
    {
     "output_type": "execute_result",
     "data": {
      "text/plain": [
       "(1, 36)"
      ]
     },
     "metadata": {},
     "execution_count": 27
    }
   ],
   "source": [
    "def squareDigitsSequence(a0):\n",
    "    def createlist(n):\n",
    "        digit_string = str(n)\n",
    "        digit_map = map(int, digit_string)\n",
    "        digit_list = list(digit_map)\n",
    "        return digit_list\n",
    "    seen_digits = [a0]\n",
    "    nbr = a0\n",
    "    while True:\n",
    "        digit_list = createlist(nbr)\n",
    "        digitsSquared = list(map(lambda x : x*x,  digit_list))\n",
    "        print(nbr, digit_list,digitsSquared,sum(digitsSquared),seen_digits)\n",
    "        nbr = sum(digitsSquared)\n",
    "        if nbr in seen_digits:\n",
    "            return len(seen_digits)+1\n",
    "        seen_digits.append(nbr)\n",
    "            \n",
    "        \n",
    "\n",
    "a0 = 16      \n",
    "ans = 4\n",
    "print('res',squareDigitsSequence(a0))\n",
    "print(\"ans:\", ans)\n",
    "\n",
    "\n",
    "16\n",
    "1,6\n",
    "1,36\n",
    "\n"
   ]
  },
  {
   "cell_type": "code",
   "execution_count": null,
   "metadata": {},
   "outputs": [],
   "source": [
    "\n",
    "\n",
    "# 16\n",
    "# 16 = (1*1) + (6*6) = 37\n",
    "# 37 = (3*3) + (7*7) = 58\n",
    "\n",
    "\n",
    "# a = 103\n",
    "# 103 = 1 + 0 + 9 = 10\n",
    "# 10 = 1 + 0  = 1\n",
    "# 1 = 1\n"
   ]
  },
  {
   "cell_type": "code",
   "execution_count": 11,
   "metadata": {},
   "outputs": [
    {
     "output_type": "stream",
     "name": "stdout",
     "text": [
      "[1, 4, 9, 16]\n"
     ]
    }
   ],
   "source": [
    "\n",
    "l = [1,2,3,4]\n",
    "res = map(lambda x : x*x,  l) # Output: [100, 80]\n",
    "print(list(res))"
   ]
  },
  {
   "cell_type": "code",
   "execution_count": null,
   "metadata": {},
   "outputs": [],
   "source": []
  }
 ]
}