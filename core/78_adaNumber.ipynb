{
 "metadata": {
  "language_info": {
   "codemirror_mode": {
    "name": "ipython",
    "version": 3
   },
   "file_extension": ".py",
   "mimetype": "text/x-python",
   "name": "python",
   "nbconvert_exporter": "python",
   "pygments_lexer": "ipython3",
   "version": "3.8.5"
  },
  "orig_nbformat": 4,
  "kernelspec": {
   "name": "python3",
   "display_name": "Python 3",
   "language": "python"
  },
  "interpreter": {
   "hash": "a8ed6b6aaa83e0c75564d8643a7111be6f47b679c5d32737ff20a5a7a3944855"
  }
 },
 "nbformat": 4,
 "nbformat_minor": 2,
 "cells": [
  {
   "cell_type": "code",
   "execution_count": 69,
   "metadata": {},
   "outputs": [
    {
     "output_type": "stream",
     "name": "stdout",
     "text": [
      "True\nMy Answer.  : False\ncorrect ans : False\n"
     ]
    }
   ],
   "source": [
    "def adaNumber(line):\n",
    "\n",
    "    def isBaseValid(base,char):\n",
    "        if base == char:\n",
    "            if cleaned[n] not in 'base_'+'3' :\n",
    "                return False\n",
    "\n",
    "    base_2 = ['1','0']\n",
    "    base_3 = ['1','0','2']\n",
    "    base_4 = ['1','2','3','0']\n",
    "    base_5 = ['0','1','2','3','4',]\n",
    "    base_6 = ['0','1','2','3','4','6']\n",
    "    base_7 = ['0','1','2','3','4','6','7']\n",
    "    base_8 = ['0','1','2','3','4','6','7','8']\n",
    "    base_10 = ['1','2','3','4','5','6','7','8','9','0']\n",
    "    base_16 = ['1','2','3','4','5','6','7','8','9','0','a','b','c','d','e','f','A','B','C','D','E','F']\n",
    "    cleaned = str(line.replace('_', ''))\n",
    "    print(bool(cleaned.isdigit))\n",
    "    # if bool(cleaned.isdigit) == True and :\n",
    "    #     return True\n",
    "    base_build = \"\"\n",
    "    cur_base = \"10\"\n",
    "    # PRE LOOP FILTERS\n",
    "    if cleaned.count('#') % 2 > 0 :\n",
    "        return False\n",
    "    if cleaned[0] == \"#\":\n",
    "        return False\n",
    "    for n in range(len(cleaned)):\n",
    "       \n",
    "        # print(\"n:\",n,\"val:\",cleaned[n],'BASE:',cur_base, 'Base_build',base_build)\n",
    "        if cleaned[n] == \"#\":\n",
    "            if n != 0 and cleaned[n-1] == \"#\":\n",
    "                return False\n",
    "            if cur_base in [\"0\",\"1\"] :\n",
    "                return False\n",
    "            if int(cur_base) > 16 :\n",
    "                return False\n",
    "            else:\n",
    "                cur_base = base_build\n",
    "                base_build = \"\"\n",
    "            continue\n",
    "\n",
    "        if cur_base == \"2\":\n",
    "            if cleaned[n] not in base_2 :\n",
    "                print('trggered')\n",
    "                return False\n",
    "        if cur_base == \"3\":\n",
    "            if cleaned[n] not in base_3 :\n",
    "                print('trggered')\n",
    "                return False\n",
    "        if cur_base == \"4\":\n",
    "            if cleaned[n] not in base_4 :\n",
    "                print('trggered')\n",
    "                return False\n",
    "        if cur_base == \"7\":\n",
    "            if cleaned[n] not in base_7 :\n",
    "                print('trggered')\n",
    "                return False\n",
    "        if cur_base == \"8\":\n",
    "            if cleaned[n] not in base_8 :\n",
    "                print('trggered')\n",
    "                return False\n",
    "        if cur_base == \"10\":\n",
    "            if cleaned[n] not in base_10 :\n",
    "                print('trggered')\n",
    "                return False\n",
    "        if cur_base == \"16\":\n",
    "            if cleaned[n] not in base_16:\n",
    "                return False\n",
    "        base_build += cleaned[n]\n",
    "        # print('pos:',n,\"val\",cleaned[n])\n",
    "    return True\n",
    "            \n",
    "line = \"2#10110\"\n",
    "print('My Answer.  :',adaNumber(line))\n",
    "print('correct ans :', False)"
   ]
  },
  {
   "cell_type": "code",
   "execution_count": null,
   "metadata": {},
   "outputs": [],
   "source": [
    "def adaNumber(line):\n",
    "\n",
    "#line = \"123_456_789\"       ans = True\n",
    "#line = \"16#123abc#\"        ans = True\n",
    "\n",
    "#   16#     {base 16}\n",
    "#   123abc  {Valid Hex numbers}\n",
    "\n",
    "\n",
    "#line = \"10#123abc#         ans = False\n",
    "\n",
    "#   10      {base 10}\n",
    "#   123abc  {invalid base10 numbers}\n",
    "\n",
    "#line = \"10#10#123ABC#\"     ans = False\n",
    "#line = \"10#0#\"             ans = True\n",
    "#line = \"10##\"              ans = False\n",
    "\n",
    "#line = \"16#123abc#\"        ans = True\n",
    "\n",
    "\n"
   ]
  },
  {
   "cell_type": "code",
   "execution_count": 4,
   "metadata": {},
   "outputs": [
    {
     "output_type": "stream",
     "name": "stdout",
     "text": [
      "heo\n"
     ]
    }
   ],
   "source": [
    "bob = \"hello\"\n",
    "print(bob.replace('l', ''))"
   ]
  },
  {
   "cell_type": "code",
   "execution_count": 71,
   "metadata": {},
   "outputs": [
    {
     "output_type": "error",
     "ename": "TypeError",
     "evalue": "can only concatenate str (not \"int\") to str",
     "traceback": [
      "\u001b[0;31m---------------------------------------------------------------------------\u001b[0m",
      "\u001b[0;31mTypeError\u001b[0m                                 Traceback (most recent call last)",
      "\u001b[0;32m<ipython-input-71-e3363f9cc755>\u001b[0m in \u001b[0;36m<module>\u001b[0;34m\u001b[0m\n\u001b[1;32m     12\u001b[0m     \u001b[0;32mif\u001b[0m \u001b[0mchar\u001b[0m \u001b[0;32mnot\u001b[0m \u001b[0;32min\u001b[0m \u001b[0;34m'base_'\u001b[0m\u001b[0;34m+\u001b[0m\u001b[0mbase\u001b[0m \u001b[0;34m:\u001b[0m\u001b[0;34m\u001b[0m\u001b[0;34m\u001b[0m\u001b[0m\n\u001b[1;32m     13\u001b[0m                 \u001b[0;32mreturn\u001b[0m \u001b[0;32mFalse\u001b[0m\u001b[0;34m\u001b[0m\u001b[0;34m\u001b[0m\u001b[0m\n\u001b[0;32m---> 14\u001b[0;31m \u001b[0mprint\u001b[0m\u001b[0;34m(\u001b[0m\u001b[0misBaseValid\u001b[0m\u001b[0;34m(\u001b[0m\u001b[0;36m2\u001b[0m\u001b[0;34m,\u001b[0m\u001b[0;36m1\u001b[0m\u001b[0;34m)\u001b[0m\u001b[0;34m)\u001b[0m\u001b[0;34m\u001b[0m\u001b[0;34m\u001b[0m\u001b[0m\n\u001b[0m",
      "\u001b[0;32m<ipython-input-71-e3363f9cc755>\u001b[0m in \u001b[0;36misBaseValid\u001b[0;34m(base, char)\u001b[0m\n\u001b[1;32m     10\u001b[0m \u001b[0mbase_16\u001b[0m \u001b[0;34m=\u001b[0m \u001b[0;34m[\u001b[0m\u001b[0;34m'1'\u001b[0m\u001b[0;34m,\u001b[0m\u001b[0;34m'2'\u001b[0m\u001b[0;34m,\u001b[0m\u001b[0;34m'3'\u001b[0m\u001b[0;34m,\u001b[0m\u001b[0;34m'4'\u001b[0m\u001b[0;34m,\u001b[0m\u001b[0;34m'5'\u001b[0m\u001b[0;34m,\u001b[0m\u001b[0;34m'6'\u001b[0m\u001b[0;34m,\u001b[0m\u001b[0;34m'7'\u001b[0m\u001b[0;34m,\u001b[0m\u001b[0;34m'8'\u001b[0m\u001b[0;34m,\u001b[0m\u001b[0;34m'9'\u001b[0m\u001b[0;34m,\u001b[0m\u001b[0;34m'0'\u001b[0m\u001b[0;34m,\u001b[0m\u001b[0;34m'a'\u001b[0m\u001b[0;34m,\u001b[0m\u001b[0;34m'b'\u001b[0m\u001b[0;34m,\u001b[0m\u001b[0;34m'c'\u001b[0m\u001b[0;34m,\u001b[0m\u001b[0;34m'd'\u001b[0m\u001b[0;34m,\u001b[0m\u001b[0;34m'e'\u001b[0m\u001b[0;34m,\u001b[0m\u001b[0;34m'f'\u001b[0m\u001b[0;34m,\u001b[0m\u001b[0;34m'A'\u001b[0m\u001b[0;34m,\u001b[0m\u001b[0;34m'B'\u001b[0m\u001b[0;34m,\u001b[0m\u001b[0;34m'C'\u001b[0m\u001b[0;34m,\u001b[0m\u001b[0;34m'D'\u001b[0m\u001b[0;34m,\u001b[0m\u001b[0;34m'E'\u001b[0m\u001b[0;34m,\u001b[0m\u001b[0;34m'F'\u001b[0m\u001b[0;34m]\u001b[0m\u001b[0;34m\u001b[0m\u001b[0;34m\u001b[0m\u001b[0m\n\u001b[1;32m     11\u001b[0m \u001b[0;32mdef\u001b[0m \u001b[0misBaseValid\u001b[0m\u001b[0;34m(\u001b[0m\u001b[0mbase\u001b[0m\u001b[0;34m,\u001b[0m\u001b[0mchar\u001b[0m\u001b[0;34m)\u001b[0m\u001b[0;34m:\u001b[0m\u001b[0;34m\u001b[0m\u001b[0;34m\u001b[0m\u001b[0m\n\u001b[0;32m---> 12\u001b[0;31m     \u001b[0;32mif\u001b[0m \u001b[0mchar\u001b[0m \u001b[0;32mnot\u001b[0m \u001b[0;32min\u001b[0m \u001b[0;34m'base_'\u001b[0m\u001b[0;34m+\u001b[0m\u001b[0mbase\u001b[0m \u001b[0;34m:\u001b[0m\u001b[0;34m\u001b[0m\u001b[0;34m\u001b[0m\u001b[0m\n\u001b[0m\u001b[1;32m     13\u001b[0m                 \u001b[0;32mreturn\u001b[0m \u001b[0;32mFalse\u001b[0m\u001b[0;34m\u001b[0m\u001b[0;34m\u001b[0m\u001b[0m\n\u001b[1;32m     14\u001b[0m \u001b[0mprint\u001b[0m\u001b[0;34m(\u001b[0m\u001b[0misBaseValid\u001b[0m\u001b[0;34m(\u001b[0m\u001b[0;36m2\u001b[0m\u001b[0;34m,\u001b[0m\u001b[0;36m1\u001b[0m\u001b[0;34m)\u001b[0m\u001b[0;34m)\u001b[0m\u001b[0;34m\u001b[0m\u001b[0;34m\u001b[0m\u001b[0m\n",
      "\u001b[0;31mTypeError\u001b[0m: can only concatenate str (not \"int\") to str"
     ]
    }
   ],
   "source": [
    "# REFACTOR THIS\n",
    "base_2 = ['1','0']\n",
    "base_3 = ['1','0','2']\n",
    "base_4 = ['1','2','3','0']\n",
    "base_5 = ['0','1','2','3','4',]\n",
    "base_6 = ['0','1','2','3','4','6']\n",
    "base_7 = ['0','1','2','3','4','6','7']\n",
    "base_8 = ['0','1','2','3','4','6','7','8']\n",
    "base_10 = ['1','2','3','4','5','6','7','8','9','0']\n",
    "base_16 = ['1','2','3','4','5','6','7','8','9','0','a','b','c','d','e','f','A','B','C','D','E','F']\n",
    "def isBaseValid(base,char):\n",
    "    if char not in 'base_'+base :\n",
    "                return False\n",
    "print(isBaseValid(2,1))"
   ]
  },
  {
   "cell_type": "code",
   "execution_count": 42,
   "metadata": {},
   "outputs": [
    {
     "output_type": "stream",
     "name": "stdout",
     "text": [
      "line: 0123456789abcdefghijklmnopqrstuvwxyzABCDEFGHIJKLMNOPQRSTUVWXYZ!\"#$%&'()*+,-./:;<=>?@[\\]^_`{|}~ \t\n\u000b\f0123456789abcdefghijklmnopqrstuvwxyzABCDEFGHIJKLMNOPQRSTUVWXYZ!\"#$%&'()*+,-./:;<=>?@[\\]^_`{|}~ \t\n\u000b\f0123456789abcdefghijklmnopqrstuvwxyzABCDEFGHIJKLMNOPQRSTUVWXYZ!\"#$%&'()*+,-./:;<=>?@[\\]^_`{|}~ \t\n\u000b\f\ndddd\nFalse\n"
     ]
    }
   ],
   "source": [
    "def adaNumber(line):\n",
    "    #Tests passed: 29/38. Execution error on test 30: Your program had a runtime error.\n",
    "    if type(line).__name__ != 'str':\n",
    "        return False\n",
    "    if len(line) == 0:\n",
    "        return False\n",
    "\n",
    "    cleaned = str(line.replace('_', ''))\n",
    "    base_build = \"\"\n",
    "    cur_base = \"10\"\n",
    "\n",
    "    def charInBase(char,base):\n",
    "        def generateSequence(num):\n",
    "            if num <11:\n",
    "                mylist = []\n",
    "                for i in range(num):\n",
    "                    mylist.append(str(i))\n",
    "                return mylist\n",
    "            else:\n",
    "                extras = ['a','A','b','B','c','C','d','D','e','E','f','F']\n",
    "                mylist = []\n",
    "                for i in range(10):\n",
    "                    mylist.append(str(i))\n",
    "                for n in range(num-10+1):\n",
    "                    rightSide = extras[:2*n]\n",
    "                    mylist.extend(rightSide)\n",
    "                return mylist\n",
    "\n",
    "        base_list = generateSequence(int(base))\n",
    "        if str(char) in base_list:\n",
    "            return True\n",
    "        else:\n",
    "            return False\n",
    "    # PROGRAM\n",
    "    # REMOVE INVALID #\n",
    "    if cleaned.count('#') % 2 > 0 :\n",
    "        print('dddd')\n",
    "        return False\n",
    "    if cleaned[0] == \"#\":\n",
    "        return False\n",
    "    for n in range(len(cleaned)):  \n",
    "        print(\"n:\",n,\"val:\",cleaned[n],'BASE:',cur_base, 'Base_build',base_build)\n",
    "        if cleaned[n] == \"#\":\n",
    "            if n != 0 and cleaned[n-1] == \"#\":\n",
    "                return False\n",
    "            if cur_base in [\"0\",\"1\"] :\n",
    "                return False\n",
    "            else:\n",
    "                cur_base = base_build\n",
    "                base_build = \"\"\n",
    "            continue\n",
    "        if int(cur_base) > 16:\n",
    "            return False    \n",
    "        if charInBase(cleaned[n],cur_base) == False:\n",
    "            return False\n",
    "\n",
    "        base_build += cleaned[n]\n",
    "    return True\n",
    "\n",
    "\n",
    "import string\n",
    "line = string.printable + string.printable + string.printable\n",
    "print('line:',line)\n",
    "# line='  #76787#'\n",
    "print(adaNumber(line))"
   ]
  },
  {
   "cell_type": "code",
   "execution_count": 38,
   "metadata": {},
   "outputs": [
    {
     "output_type": "stream",
     "name": "stdout",
     "text": [
      "0123456789abcdefghijklmnopqrstuvwxyzABCDEFGHIJKLMNOPQRSTUVWXYZ!\"#$%&'()*+,-./:;<=>?@[\\]^_`{|}~ \t\n\u000b\f\n"
     ]
    }
   ],
   "source": [
    "import string\n",
    "print(string.printable)\n"
   ]
  },
  {
   "cell_type": "code",
   "execution_count": null,
   "metadata": {},
   "outputs": [],
   "source": [
    "# another one\n",
    "def adaNumber(line):\n",
    "    line = line.replace(\"_\",\"\")\n",
    "    \n",
    "    if \"#\" not in line:\n",
    "        return line.isdigit()\n",
    "    elif line.count(\"#\")!=2:\n",
    "        return False\n",
    "    \n",
    "    line = line.split(\"#\")\n",
    "    if not line[0].isdigit():\n",
    "        return False\n",
    "    elif int(line[0])<2 or int(line[0])>16:\n",
    "        return False\n",
    "    \n",
    "    if line[1]=='':\n",
    "        return False\n",
    "    \n",
    "    for i in range(2,11):\n",
    "        if int(line[0])==i:\n",
    "            for j in range(0,len(line[1])):\n",
    "                if not '0'<=line[1][j]<=str(i-1):\n",
    "                    return False\n",
    "                \n",
    "    for i in range(11,17):\n",
    "        if int(line[0])==i:\n",
    "            for j in range(0,len(line[1])):\n",
    "                if not ('0'<=line[1][j]<='9' or 'a'<=line[1][j]<=chr(i-11+ord('a')) or 'A'<=line[1][j]<=chr(i-11+ord('A'))):\n",
    "                    return False \n",
    "\n",
    "    return True"
   ]
  }
 ]
}