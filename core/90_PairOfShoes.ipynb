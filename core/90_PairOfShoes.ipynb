{
 "metadata": {
  "language_info": {
   "codemirror_mode": {
    "name": "ipython",
    "version": 3
   },
   "file_extension": ".py",
   "mimetype": "text/x-python",
   "name": "python",
   "nbconvert_exporter": "python",
   "pygments_lexer": "ipython3",
   "version": "3.8.3"
  },
  "orig_nbformat": 4,
  "kernelspec": {
   "name": "python3",
   "display_name": "Python 3.8.3 64-bit ('base': conda)"
  },
  "interpreter": {
   "hash": "a8ed6b6aaa83e0c75564d8643a7111be6f47b679c5d32737ff20a5a7a3944855"
  }
 },
 "nbformat": 4,
 "nbformat_minor": 2,
 "cells": [
  {
   "cell_type": "code",
   "execution_count": 12,
   "metadata": {},
   "outputs": [],
   "source": [
    "import json\n",
    "f = open('90_PShoes_Test.json',)\n",
    "test_data = json.load(f)\n",
    "shoeTest = test_data['input']['shoes']\n",
    "\n"
   ]
  },
  {
   "cell_type": "code",
   "execution_count": 14,
   "metadata": {
    "tags": []
   },
   "outputs": [
    {
     "output_type": "stream",
     "name": "stdout",
     "text": [
      "last bit [3, 3]\nlast bit [4, 4]\nlast bit [1, 1]\nlast bit [3, 3]\nlast bit [2, 2]\nlast bit [2, 2]\nlast bit [2, 2]\nlast bit [1, 1]\nlast bit [1, 1]\nlast bit [1, 1]\nlast bit [3, 3]\nlast bit [4, 4]\nlast bit [2, 2]\nlast bit [3, 3]\nlast bit [1, 1]\nlast bit [3, 3]\nlast bit [2, 2]\nlast bit [2, 2]\nlast bit [2, 2]\nlast bit [2, 2]\nlast bit [3, 3]\nlast bit [1, 1]\nlast bit [2, 2]\nlast bit [4, 4]\nlast bit [2, 2]\nlast bit [1, 1]\nlast bit [3, 3]\nlast bit [1, 1]\nlast bit [1, 1]\nlast bit [2, 2]\nlast bit [1, 1]\nlast bit [1, 1]\nlast bit [1, 1]\nlast bit [1, 1]\nlast bit [1, 1]\nlast bit [1, 1]\nlast bit [1, 1]\nlast bit [3, 3]\nlast bit [1, 1]\nlast bit [2, 2]\nlast bit [2, 2]\nlast bit [1, 1]\nlast bit [1, 1]\nlast bit [1, 1]\nlast bit [1, 1]\nlast bit [1, 1]\nlast bit [1, 1]\nlast bit [1, 1]\nlast bit [2, 2]\nlast bit [2, 2]\nlast bit [1, 1]\nlast bit [1, 1]\nlast bit [1, 1]\nlast bit [2, 2]\nlast bit [2, 2]\nlast bit [1, 1]\nlast bit [1, 1]\nlast bit [1, 1]\nres True\nans True\n"
     ]
    }
   ],
   "source": [
    "def pairOfShoes(shoes):\n",
    "    def updatePair(newShoe,existingShoes):\n",
    "        updatedSide = existingShoes[newShoe]+1\n",
    "        existingShoes[newShoe] = updatedSide\n",
    "        return existingShoes\n",
    "\n",
    "    def evaluateAllPairs(shoeSize):\n",
    "        if shoeSize[0] == shoeSize[1]:\n",
    "            return True \n",
    "        else:\n",
    "            return False\n",
    "    pairs = dict()\n",
    "    for n in range(len(shoes)):\n",
    "        shoesSize = shoes[n][1]\n",
    "        shoeSide = shoes[n][0]\n",
    "        if shoesSize in pairs:\n",
    "            pairs[shoesSize][shoeSide] += 1\n",
    "        else:\n",
    "            pairs[shoesSize] = [0,0]\n",
    "            pairs[shoesSize][shoeSide] += 1\n",
    "    for item in pairs:\n",
    "        print('last bit',pairs[item])\n",
    "        if pairs[item][0] != pairs[item][1]:\n",
    "\n",
    "            return False\n",
    "    return True\n",
    "\n",
    "ans = True\n",
    "shoes  = shoeTest\n",
    "print('res',pairOfShoes(shoes))\n",
    "print('ans', ans)"
   ]
  },
  {
   "cell_type": "code",
   "execution_count": null,
   "metadata": {},
   "outputs": [],
   "source": []
  }
 ]
}