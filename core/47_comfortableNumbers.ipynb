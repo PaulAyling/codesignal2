{
 "metadata": {
  "language_info": {
   "codemirror_mode": {
    "name": "ipython",
    "version": 3
   },
   "file_extension": ".py",
   "mimetype": "text/x-python",
   "name": "python",
   "nbconvert_exporter": "python",
   "pygments_lexer": "ipython3",
   "version": "3.9.6"
  },
  "orig_nbformat": 4,
  "kernelspec": {
   "name": "python3",
   "display_name": "Python 3.9.6 64-bit"
  },
  "interpreter": {
   "hash": "aee8b7b246df8f9039afb4144a1f6fd8d2ca17a180786b69acc140d282b71a49"
  }
 },
 "nbformat": 4,
 "nbformat_minor": 2,
 "cells": [
  {
   "cell_type": "code",
   "execution_count": 14,
   "source": [
    "def comfortableNumbers(l, r):\n",
    "    def createPair(nbr):\n",
    "        def createVal(n):\n",
    "            str_ = str(n)\n",
    "            cnt = 0\n",
    "            result = 0\n",
    "            while cnt < len(str_):\n",
    "                print(cnt,str_[cnt])\n",
    "                result += int(str_[cnt])\n",
    "                cnt +=1\n",
    "            return result\n",
    "        nbr_sum = createVal(nbr)\n",
    "        lower = nbr- nbr_sum\n",
    "        upper = nbr+ nbr_sum\n",
    "        return (lower,upper)\n",
    "    #PROGRAM  \n",
    "    if l==r:\n",
    "        return 0 \n",
    "    result = 1\n",
    "    exit_loop = False\n",
    "    while exit_loop == False:\n",
    "        pair = createPair(l)\n",
    "        if pair[0]<=r and pair[1]>=r:\n",
    "            print('value TRUE',pair,'Nbr of loops',result)\n",
    "            return result\n",
    "        else:\n",
    "            print('value false',pair,'Nbr of loops', result)\n",
    "            result +=1\n",
    "            l =  pair[0] if pair[0]>=r else pair[1]\n",
    "    return result\n",
    "\n",
    "    \n",
    "\n",
    "l = 1\n",
    "r = 9\n",
    "ans = 2\n",
    "print('Result:',comfortableNumbers(l, r))"
   ],
   "outputs": [
    {
     "output_type": "stream",
     "name": "stdout",
     "text": [
      "0 1\n",
      "value false (0, 2) Nbr of loops 1\n",
      "0 2\n",
      "value false (0, 4) Nbr of loops 2\n",
      "0 4\n",
      "value false (0, 8) Nbr of loops 3\n",
      "0 8\n",
      "value TRUE (0, 16) Nbr of loops 4\n",
      "Result: 4\n"
     ]
    }
   ],
   "metadata": {}
  },
  {
   "cell_type": "code",
   "execution_count": null,
   "source": [],
   "outputs": [],
   "metadata": {}
  },
  {
   "cell_type": "code",
   "execution_count": null,
   "source": [
    "def createVal(n):\n",
    "    str_ = str(n)\n",
    "    cnt = 0\n",
    "    result = 0\n",
    "    while cnt < len(str_):\n",
    "        print(cnt,str_[cnt])\n",
    "        result += int(str_[cnt])\n",
    "        cnt +=1\n",
    "    return result\n",
    "\n",
    "n= 34\n",
    "createVal(n)"
   ],
   "outputs": [],
   "metadata": {}
  },
  {
   "cell_type": "code",
   "execution_count": null,
   "source": [
    "def createPair(nbr):\n",
    "    def createVal(n):\n",
    "        str_ = str(n)\n",
    "        cnt = 0\n",
    "        result = 0\n",
    "        while cnt < len(str_):\n",
    "            print(cnt,str_[cnt])\n",
    "            result += int(str_[cnt])\n",
    "            cnt +=1\n",
    "        return result\n",
    "    nbr_sum = createVal(nbr)\n",
    "    lower = nbr- nbr_sum\n",
    "    upper = nbr+ nbr_sum\n",
    "    return (lower,upper)\n",
    "nbr = 11  \n",
    "print(createPair(nbr))\n"
   ],
   "outputs": [],
   "metadata": {}
  },
  {
   "cell_type": "code",
   "execution_count": null,
   "source": [],
   "outputs": [],
   "metadata": {}
  },
  {
   "cell_type": "code",
   "execution_count": null,
   "source": [],
   "outputs": [],
   "metadata": {}
  },
  {
   "cell_type": "code",
   "execution_count": null,
   "source": [
    "def comfortableNumbers(l, r):\n",
    "# l = 10       r = 12   ams = 2\n",
    "# sum 10 = 1      (9 and 11)\n",
    "# sum 11 = 2      (1 and 3)\n",
    "\n",
    "    createlist()\n",
    "\n"
   ],
   "outputs": [],
   "metadata": {}
  },
  {
   "cell_type": "code",
   "execution_count": null,
   "source": [
    "def comfortableNumbers(l, r):\n",
    "    #l #lower\n",
    "    #r #reach for the stars (top) \n",
    "    def comfortableVals(n):\n",
    "        def createlist(n):\n",
    "            digit_string = str(n)\n",
    "            digit_map = map(int, digit_string)\n",
    "            digit_list = list(digit_map)\n",
    "            return digit_list\n",
    "        n_l = createlist(n)\n",
    "        sumInts_n = sum(n_l)\n",
    "        lowerVal = n - sumInts_n\n",
    "        upperVal = n + sumInts_n\n",
    "        num_range = range(lowerVal,upperVal+1)\n",
    "        num_list = list(num_range)\n",
    "        num_list.remove(n)\n",
    "        return num_list\n",
    "    friendlyDict = dict()\n",
    "\n",
    "    for n in range(l,r+1):\n",
    "        n_comfortVals = comfortableVals(n)\n",
    "        # print(n,n_comfortVals)\n",
    "        friendlyDict[n] = n_comfortVals\n",
    "        # print('friendlyDict',friendlyDict)\n",
    "    counter = 0\n",
    "    for n in range(l,r+1):\n",
    "        for x in range(l,r+1):\n",
    "            print('#############', n,friendlyDict[x])\n",
    "            if n in friendlyDict[x]:\n",
    "                print('n is in list!!!')\n",
    "                counter += 1\n",
    "                break\n",
    "    return counter\n",
    "    \n",
    "l=10\n",
    "r=12\n",
    "print('res',comfortableNumbers(l, r))\n",
    "# Thus, there are 2 pairs of numbers comfortable with each other within the segment [10; 12]: (10, 11) and (11, 12).\n",
    "\n",
    "# 10     9,11\n",
    "# 11     9,10,12,13\n",
    "# 12     9,10,11,13,14,15  "
   ],
   "outputs": [],
   "metadata": {}
  },
  {
   "cell_type": "code",
   "execution_count": null,
   "source": [],
   "outputs": [],
   "metadata": {}
  }
 ]
}