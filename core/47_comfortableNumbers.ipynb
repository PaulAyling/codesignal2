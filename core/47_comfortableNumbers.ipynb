{
 "metadata": {
  "language_info": {
   "codemirror_mode": {
    "name": "ipython",
    "version": 3
   },
   "file_extension": ".py",
   "mimetype": "text/x-python",
   "name": "python",
   "nbconvert_exporter": "python",
   "pygments_lexer": "ipython3",
   "version": "3.8.3"
  },
  "orig_nbformat": 4,
  "kernelspec": {
   "name": "python3",
   "display_name": "Python 3.8.3 64-bit ('base': conda)"
  },
  "interpreter": {
   "hash": "a8ed6b6aaa83e0c75564d8643a7111be6f47b679c5d32737ff20a5a7a3944855"
  }
 },
 "nbformat": 4,
 "nbformat_minor": 2,
 "cells": [
  {
   "cell_type": "code",
   "execution_count": null,
   "metadata": {},
   "outputs": [],
   "source": [
    "def comfortableNumbers(l, r):\n",
    "# l = 10       r = 12   ams = 2\n",
    "# sum 10 = 1      (9 and 11)\n",
    "# sum 11 = 2      (1 and 3)\n",
    "\n",
    "    createlist()\n",
    "\n"
   ]
  },
  {
   "cell_type": "code",
   "execution_count": 37,
   "metadata": {},
   "outputs": [
    {
     "output_type": "stream",
     "name": "stdout",
     "text": [
      "############# 10 [9, 11]\n############# 10 [9, 10, 12, 13]\nn is in list!!!\n############# 11 [9, 11]\nn is in list!!!\n############# 12 [9, 11]\n############# 12 [9, 10, 12, 13]\nn is in list!!!\nres 3\n"
     ]
    }
   ],
   "source": [
    "def comfortableNumbers(l, r):\n",
    "    #l #lower\n",
    "    #r #reach for the stars (top) \n",
    "    def comfortableVals(n):\n",
    "        def createlist(n):\n",
    "            digit_string = str(n)\n",
    "            digit_map = map(int, digit_string)\n",
    "            digit_list = list(digit_map)\n",
    "            return digit_list\n",
    "        n_l = createlist(n)\n",
    "        sumInts_n = sum(n_l)\n",
    "        lowerVal = n - sumInts_n\n",
    "        upperVal = n + sumInts_n\n",
    "        num_range = range(lowerVal,upperVal+1)\n",
    "        num_list = list(num_range)\n",
    "        num_list.remove(n)\n",
    "        return num_list\n",
    "    friendlyDict = dict()\n",
    "\n",
    "    for n in range(l,r+1):\n",
    "        n_comfortVals = comfortableVals(n)\n",
    "        # print(n,n_comfortVals)\n",
    "        friendlyDict[n] = n_comfortVals\n",
    "        # print('friendlyDict',friendlyDict)\n",
    "    counter = 0\n",
    "    for n in range(l,r+1):\n",
    "        for x in range(l,r+1):\n",
    "            print('#############', n,friendlyDict[x])\n",
    "            if n in friendlyDict[x]:\n",
    "                print('n is in list!!!')\n",
    "                counter += 1\n",
    "                break\n",
    "    return counter\n",
    "    \n",
    "l=10\n",
    "r=12\n",
    "print('res',comfortableNumbers(l, r))\n",
    "# Thus, there are 2 pairs of numbers comfortable with each other within the segment [10; 12]: (10, 11) and (11, 12).\n",
    "\n",
    "# 10     9,11\n",
    "# 11     9,10,12,13\n",
    "# 12     9,10,11,13,14,15  "
   ]
  },
  {
   "cell_type": "code",
   "execution_count": null,
   "metadata": {},
   "outputs": [],
   "source": []
  }
 ]
}