{
 "metadata": {
  "language_info": {
   "codemirror_mode": {
    "name": "ipython",
    "version": 3
   },
   "file_extension": ".py",
   "mimetype": "text/x-python",
   "name": "python",
   "nbconvert_exporter": "python",
   "pygments_lexer": "ipython3",
   "version": "3.8.3"
  },
  "orig_nbformat": 2,
  "kernelspec": {
   "name": "python3",
   "display_name": "Python 3.8.3 64-bit ('base': conda)"
  },
  "interpreter": {
   "hash": "a8ed6b6aaa83e0c75564d8643a7111be6f47b679c5d32737ff20a5a7a3944855"
  }
 },
 "nbformat": 4,
 "nbformat_minor": 2,
 "cells": [
  {
   "cell_type": "code",
   "execution_count": 13,
   "metadata": {
    "tags": []
   },
   "outputs": [
    {
     "output_type": "stream",
     "name": "stdout",
     "text": [
      "n: 0\nMy res: False\nans: True\n"
     ]
    }
   ],
   "source": [
    "import math\n",
    "def isPower (n):\n",
    "    if n == 1:\n",
    "        return True\n",
    "    # if n = 125 then is a power of 5, e.g 5 * 5 * 5 = 125\n",
    "    print('n:', n)\n",
    "    total = 0\n",
    "    for base in range(2,n):\n",
    "        for ex in range(2,n):\n",
    "            total = pow(base,ex)\n",
    "            print(base, ex, total)\n",
    "\n",
    "            if total == n:\n",
    "                print('n is the result of a base with exponent! ')\n",
    "                return True\n",
    "            if total > n:\n",
    "                print('this base & exponent doesnt match')\n",
    "                break\n",
    "    return False\n",
    "\n",
    "# n = 125       ans = True\n",
    "# n = 72        ans = False\n",
    "n = 0    \n",
    "ans = True\n",
    "print('My res:',isPower(n))\n",
    "print('ans:',ans)"
   ]
  },
  {
   "cell_type": "code",
   "execution_count": null,
   "metadata": {},
   "outputs": [],
   "source": [
    "import math \n",
    "powd = 125       \n",
    "ans = True\n",
    "\n",
    "print(math.sqrt(powd))\n",
    "\n",
    "5 * 5   = 25\n",
    "5 * 25  = 125\n",
    "5 * 125 = 625\n",
    "\n",
    "# loop outer\n",
    "# loop inner\n",
    "    2....\n",
    "    outer = 2....\n",
    "    n = 3 ....\n",
    "    sum = n*n\n",
    "    if n >\n",
    "    \n",
    "\n"
   ]
  },
  {
   "cell_type": "code",
   "execution_count": 4,
   "metadata": {},
   "outputs": [
    {
     "output_type": "stream",
     "name": "stdout",
     "text": [
      "16\n"
     ]
    }
   ],
   "source": [
    "print(pow(2,4))\n"
   ]
  },
  {
   "cell_type": "code",
   "execution_count": null,
   "metadata": {},
   "outputs": [],
   "source": []
  }
 ]
}