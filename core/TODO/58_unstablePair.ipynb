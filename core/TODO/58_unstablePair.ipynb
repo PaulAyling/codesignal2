{
 "metadata": {
  "language_info": {
   "codemirror_mode": {
    "name": "ipython",
    "version": 3
   },
   "file_extension": ".py",
   "mimetype": "text/x-python",
   "name": "python",
   "nbconvert_exporter": "python",
   "pygments_lexer": "ipython3",
   "version": "3.8.3"
  },
  "orig_nbformat": 4,
  "kernelspec": {
   "name": "python3",
   "display_name": "Python 3.8.3 64-bit ('base': conda)"
  },
  "interpreter": {
   "hash": "a8ed6b6aaa83e0c75564d8643a7111be6f47b679c5d32737ff20a5a7a3944855"
  }
 },
 "nbformat": 4,
 "nbformat_minor": 2,
 "cells": [
  {
   "cell_type": "code",
   "execution_count": 1,
   "metadata": {},
   "outputs": [
    {
     "output_type": "stream",
     "name": "stdout",
     "text": [
      "got it\nMy Res: False\nanswer: False\n"
     ]
    }
   ],
   "source": [
    "def isUnstablePair(filename1, filename2):\n",
    "    upperfilename1 = filename1.upper()\n",
    "    lowerfilename1 = filename1.lower() \n",
    "\n",
    "    if  upperfilename1  < filename2 and lowerfilename1 < filename2:\n",
    "        print('got it')\n",
    "\n",
    "     \n",
    "    if upperfilename1<filename2 and lowerfilename1>filename2:\n",
    "        return True\n",
    "    else:\n",
    "        return False\n",
    "\n",
    "\n",
    "filename1 = \"A\"      \n",
    "filename2 = \"z\"       \n",
    "ans = False\n",
    "print('My Res:',isUnstablePair(filename1, filename2))\n",
    "print('answer:',ans)"
   ]
  },
  {
   "cell_type": "code",
   "execution_count": null,
   "metadata": {},
   "outputs": [],
   "source": [
    "# Order depend on the case/\n",
    "\n",
    "example filename1 = \"abc\"      \n",
    "filename2 = \"abc\" \n",
    "ans = false (ordering is not dependent on case for either)\n",
    "\n",
    "example filename1 = \"aBc\"      \n",
    "filename2 = \"abc\" \n",
    "\n",
    "\n",
    "\n",
    "# filename1 = \"aa\"      filename2 = \"AAB\"       ans = True\n",
    "# filename1 = \"A\"       filename2 = \"z\"         ans = False"
   ]
  }
 ]
}