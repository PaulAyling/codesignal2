{
 "metadata": {
  "language_info": {
   "codemirror_mode": {
    "name": "ipython",
    "version": 3
   },
   "file_extension": ".py",
   "mimetype": "text/x-python",
   "name": "python",
   "nbconvert_exporter": "python",
   "pygments_lexer": "ipython3",
   "version": "3.8.3"
  },
  "orig_nbformat": 4,
  "kernelspec": {
   "name": "python3",
   "display_name": "Python 3.8.3 64-bit ('base': conda)"
  },
  "interpreter": {
   "hash": "a8ed6b6aaa83e0c75564d8643a7111be6f47b679c5d32737ff20a5a7a3944855"
  }
 },
 "nbformat": 4,
 "nbformat_minor": 2,
 "cells": [
  {
   "cell_type": "code",
   "execution_count": null,
   "metadata": {},
   "outputs": [],
   "source": [
    "def arrayPreviousLess(items):\n",
    "    print('jo')\n",
    "# items = [3,5,2,4,5]                   ans = [-1, 3, -1, 2, 4]\n",
    "# items = [2, 2, 1, 3, 4, 5, 5, 3]      ans = [-1, -1, -1, 1, 3, 4, 4, 1]\n",
    "\n",
    "Given array of integers, for each position i, search among the previous positions for the last (from the left) position that contains a smaller value. Store this value at position i in the answer. If no such value can be found, store -1 instead.\n"
   ]
  },
  {
   "cell_type": "code",
   "execution_count": 4,
   "metadata": {},
   "outputs": [
    {
     "output_type": "stream",
     "name": "stdout",
     "text": [
      "3 -1\n3\n5 3\n3\n5\n3\n2 -1\n5\n3\n2\n4 2\n2\n4\n5 4\n4\nres [-1, 3, -1, 2, 4]\nans [-1, 3, -1, 2, 4]\n"
     ]
    }
   ],
   "source": [
    "def arrayPreviousLess(items):\n",
    "    result = list()\n",
    "    def getSmallest(pos):\n",
    "        if pos == 0:\n",
    "            return -1\n",
    "        for x in reversed(range(len(items[:pos]))):\n",
    "            print(items[x])\n",
    "            if items[x] < items[pos]:\n",
    "                return items[x]\n",
    "            if x == 0:\n",
    "                return -1\n",
    "\n",
    "    for n in range(len(items)):\n",
    "        print(items[n], getSmallest(n))\n",
    "        result.append(getSmallest(n))\n",
    "    return result\n",
    "            \n",
    "\n",
    "\n",
    "\n",
    "\n",
    "items = [3,5,2,4,5]                   \n",
    "ans = [-1, 3, -1, 2, 4]\n",
    "print('res',arrayPreviousLess(items))\n",
    "print('ans',ans)"
   ]
  },
  {
   "cell_type": "code",
   "execution_count": 1,
   "metadata": {},
   "outputs": [
    {
     "output_type": "stream",
     "name": "stdout",
     "text": [
      "[3, 5]\n"
     ]
    }
   ],
   "source": [
    "items = [3,5,2,4,5]  \n",
    "print(items[:2])"
   ]
  },
  {
   "cell_type": "code",
   "execution_count": 15,
   "metadata": {},
   "outputs": [],
   "source": [
    "def getSmallest(pos):\n",
    "    if pos == 0\n",
    "        return -1\n",
    "    for x in reversed(range(len(items[:pos]))):\n",
    "        print(items[x])\n",
    "        if items[x] < items[pos]:\n",
    "            return items[x]\n",
    "        if x == 0:\n",
    "            return -1\n",
    "\n",
    "\n",
    "items = [3,5,2,4,5]  \n",
    "pos = 0\n",
    "getSmallest(pos)  \n"
   ]
  },
  {
   "cell_type": "code",
   "execution_count": null,
   "metadata": {},
   "outputs": [],
   "source": []
  }
 ]
}