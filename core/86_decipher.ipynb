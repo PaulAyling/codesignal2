{
 "cells": [
  {
   "cell_type": "code",
   "execution_count": 29,
   "source": [
    "def decipher(cipher):\n",
    "    cipher_st = str(cipher)\n",
    "    buffer = 0\n",
    "    ans = ''\n",
    "    for n in range(len(cipher_st)):\n",
    "        print(n,cipher_st[n],buffer, chr(buffer))\n",
    "        if buffer > 96:\n",
    "            ans += chr(buffer)\n",
    "            buffer = int(cipher_st[n])\n",
    "        else:\n",
    "            st_buffer = str(buffer) + str(cipher_st[n])\n",
    "            buffer = int(st_buffer)\n",
    "        \n",
    "    ans += chr(buffer)\n",
    "    return ans\n",
    "\n",
    "\n",
    "\n",
    "\n",
    "cipher = 10197115121\n",
    "ans =  'easy'   \n",
    "print('myAns:',decipher(cipher))\n",
    "print('Ans:',ans)"
   ],
   "outputs": [
    {
     "output_type": "stream",
     "name": "stdout",
     "text": [
      "0 1 0 \u0000\n",
      "1 0 1 \u0001\n",
      "2 1 10 \n",
      "\n",
      "3 9 101 e\n",
      "4 7 9 \t\n",
      "5 1 97 a\n",
      "6 1 1 \u0001\n",
      "7 5 11 \u000b\n",
      "8 1 115 s\n",
      "9 2 1 \u0001\n",
      "10 1 12 \f\n",
      "remaining buf 121\n",
      "myAns: easy\n",
      "Ans: easy\n"
     ]
    }
   ],
   "metadata": {}
  },
  {
   "cell_type": "code",
   "execution_count": 5,
   "source": [
    "cipher = '10197115121'\n",
    "n = 3\n",
    "chars = [cipher[i:i+n] for i in range(0, len(cipher), n)]\n",
    "print(chars)"
   ],
   "outputs": [
    {
     "output_type": "stream",
     "name": "stdout",
     "text": [
      "['101', '971', '151', '21']\n"
     ]
    }
   ],
   "metadata": {}
  },
  {
   "cell_type": "code",
   "execution_count": 1,
   "source": [
    "print('hi')"
   ],
   "outputs": [
    {
     "output_type": "stream",
     "name": "stdout",
     "text": [
      "hi\n"
     ]
    }
   ],
   "metadata": {}
  },
  {
   "cell_type": "code",
   "execution_count": 15,
   "source": [
    "print(chr(67))"
   ],
   "outputs": [
    {
     "output_type": "stream",
     "name": "stdout",
     "text": [
      "C\n"
     ]
    }
   ],
   "metadata": {}
  },
  {
   "cell_type": "code",
   "execution_count": null,
   "source": [],
   "outputs": [],
   "metadata": {}
  }
 ],
 "metadata": {
  "orig_nbformat": 4,
  "language_info": {
   "name": "python"
  }
 },
 "nbformat": 4,
 "nbformat_minor": 2
}