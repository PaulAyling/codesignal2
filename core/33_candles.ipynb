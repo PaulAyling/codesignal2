{
 "cells": [
  {
   "cell_type": "code",
   "execution_count": null,
   "metadata": {},
   "outputs": [],
   "source": [
    "# burn 5 candles, obtain 5 leftovers;\n",
    "# create 2 more candles, using 4 leftovers (1 leftover remains);\n",
    "# burn 2 candles, end up with 3 leftovers;\n",
    "# create another candle using 2 leftovers (1 leftover remains);\n",
    "# burn the created candle, which gives another leftover (2 leftovers in total);\n",
    "# create a candle from the remaining leftovers;\n",
    "# burn the last candle."
   ]
  },
  {
   "cell_type": "code",
   "execution_count": 31,
   "metadata": {},
   "outputs": [
    {
     "name": "stdout",
     "output_type": "stream",
     "text": [
      "-----------------------------\n",
      "unusedLeftovers 1\n",
      "candlesToBurn 2\n",
      "burningLeftovers 2\n",
      "run1 {'leftovers': 3, 'candlesBurnt': 2}\n",
      "total_burnt_candles 7\n",
      "total_leftovers 3\n",
      "-----------------------------\n",
      "unusedLeftovers 1\n",
      "candlesToBurn 1\n",
      "burningLeftovers 1\n",
      "run1 {'leftovers': 2, 'candlesBurnt': 1}\n",
      "total_burnt_candles 8\n",
      "total_leftovers 2\n",
      "-----------------------------\n",
      "unusedLeftovers 0\n",
      "candlesToBurn 1\n",
      "burningLeftovers 1\n",
      "run1 {'leftovers': 1, 'candlesBurnt': 1}\n",
      "total_burnt_candles 9\n",
      "total_leftovers 1\n",
      "total_burnt_candles 9\n",
      "myAns: 9\n",
      "ans 9\n"
     ]
    }
   ],
   "source": [
    "def candles(candlesNumber, makeNew):\n",
    "  #burn all Candles first time\n",
    "  candlesPerLeftOver = makeNew / candlesNumber\n",
    "  total_burnt_candles = candlesNumber\n",
    "  total_leftovers = candlesNumber\n",
    "  def burnCandles(leftovers, makeNew):\n",
    "    candlesToBurn = int(leftovers / makeNew)\n",
    "    unusedLeftovers = leftovers % makeNew\n",
    "    print('-----------------------------')\n",
    "    print('unusedLeftovers',unusedLeftovers)\n",
    "    print('candlesToBurn',candlesToBurn)\n",
    "    burningLeftovers = candlesToBurn \n",
    "    \n",
    "    print('burningLeftovers',burningLeftovers)\n",
    "    # printInfo(leftovers,candlesToBurn,burningLeftovers)\n",
    "    return {'leftovers':burningLeftovers + unusedLeftovers,'candlesBurnt':candlesToBurn}\n",
    "    \n",
    "  while total_leftovers >= makeNew:\n",
    "    run = burnCandles(total_leftovers,makeNew)\n",
    "    total_burnt_candles += run['candlesBurnt']\n",
    "    total_leftovers = run['leftovers']\n",
    "    print('run1',run)\n",
    "    print('total_burnt_candles',total_burnt_candles)\n",
    "    print('total_leftovers',total_leftovers)\n",
    "  print('total_burnt_candles',total_burnt_candles)\n",
    "  return total_burnt_candles\n",
    "candlesNumber = 5\n",
    "makeNew =2\n",
    "ans = 9   \n",
    "print('myAns:',candles(candlesNumber, makeNew) )\n",
    "print('ans',ans)"
   ]
  },
  {
   "cell_type": "code",
   "execution_count": null,
   "metadata": {},
   "outputs": [],
   "source": []
  }
 ],
 "metadata": {
  "interpreter": {
   "hash": "a8ed6b6aaa83e0c75564d8643a7111be6f47b679c5d32737ff20a5a7a3944855"
  },
  "kernelspec": {
   "display_name": "Python 3.8.5 64-bit ('base': conda)",
   "name": "python3"
  },
  "language_info": {
   "codemirror_mode": {
    "name": "ipython",
    "version": 3
   },
   "file_extension": ".py",
   "mimetype": "text/x-python",
   "name": "python",
   "nbconvert_exporter": "python",
   "pygments_lexer": "ipython3",
   "version": "3.8.5"
  },
  "orig_nbformat": 4
 },
 "nbformat": 4,
 "nbformat_minor": 2
}