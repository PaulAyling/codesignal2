{
 "cells": [
  {
   "cell_type": "code",
   "execution_count": 2,
   "metadata": {},
   "outputs": [],
   "source": [
    "# 26 \n",
    "#n = target value\n",
    "#l = left value (lowest)\n",
    "#r = right val (highest)\n",
    "\n",
    "# create func that returns n\n",
    "# n = number of two int can be used to create a sum that results in n \n",
    "\n",
    "def countSumOfTwoRepresentations2(n, l, r):\n",
    "    combo_count = 0\n",
    "    a = n-r         # 35\n",
    "    for x in range(n):\n",
    "        a = a + x   #35\n",
    "        b = n - a   # b= 93 - 35 = 58\n",
    "        if (b >= a)and(b <= r):\n",
    "        #   58 >=35 and 58 <=93  =>TRUE\n",
    "            print(a,b)\n",
    "            combo_count = combo_count + 1\n",
    "        else:\n",
    "            print('broke!')\n",
    "            break\n",
    "    return combo_count\n",
    "\n"
   ]
  },
  {
   "cell_type": "code",
   "execution_count": 3,
   "metadata": {},
   "outputs": [
    {
     "name": "stdout",
     "output_type": "stream",
     "text": [
      "hi\n"
     ]
    }
   ],
   "source": [
    "print('hi')"
   ]
  },
  {
   "cell_type": "code",
   "execution_count": null,
   "metadata": {},
   "outputs": [],
   "source": []
  }
 ],
 "metadata": {
  "interpreter": {
   "hash": "a8ed6b6aaa83e0c75564d8643a7111be6f47b679c5d32737ff20a5a7a3944855"
  },
  "kernelspec": {
   "display_name": "Python 3.8.5 64-bit ('base': conda)",
   "name": "python3"
  },
  "language_info": {
   "codemirror_mode": {
    "name": "ipython",
    "version": 3
   },
   "file_extension": ".py",
   "mimetype": "text/x-python",
   "name": "python",
   "nbconvert_exporter": "python",
   "pygments_lexer": "ipython3",
   "version": "3.8.5"
  },
  "orig_nbformat": 2
 },
 "nbformat": 4,
 "nbformat_minor": 2
}