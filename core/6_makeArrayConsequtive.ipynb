{
 "cells": [
  {
   "cell_type": "code",
   "execution_count": 1,
   "source": [
    "def makeArrayConsecutive2(statues):\n",
    "    mmin = min(statues)\n",
    "    mmax = max(statues)\n",
    "    print(statues,mmin,mmax)\n",
    "    len_statues = len(statues)\n",
    "    mrange = mmax - mmin\n",
    "    return  mrange - len_statues\n",
    "\n",
    "\n",
    "statues = [6, 2, 3, 8]\n",
    "ans = 3 #[4,5,7]\n",
    "print(makeArrayConsecutive2(statues))"
   ],
   "outputs": [
    {
     "output_type": "stream",
     "name": "stdout",
     "text": [
      "[6, 2, 3, 8]\n",
      "None\n"
     ]
    }
   ],
   "metadata": {}
  },
  {
   "cell_type": "code",
   "execution_count": null,
   "source": [],
   "outputs": [],
   "metadata": {}
  }
 ],
 "metadata": {
  "orig_nbformat": 4,
  "language_info": {
   "name": "python",
   "version": "3.9.6",
   "mimetype": "text/x-python",
   "codemirror_mode": {
    "name": "ipython",
    "version": 3
   },
   "pygments_lexer": "ipython3",
   "nbconvert_exporter": "python",
   "file_extension": ".py"
  },
  "kernelspec": {
   "name": "python3",
   "display_name": "Python 3.9.6 64-bit"
  },
  "interpreter": {
   "hash": "aee8b7b246df8f9039afb4144a1f6fd8d2ca17a180786b69acc140d282b71a49"
  }
 },
 "nbformat": 4,
 "nbformat_minor": 2
}