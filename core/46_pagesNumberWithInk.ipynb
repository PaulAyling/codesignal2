{
 "metadata": {
  "language_info": {
   "codemirror_mode": {
    "name": "ipython",
    "version": 3
   },
   "file_extension": ".py",
   "mimetype": "text/x-python",
   "name": "python",
   "nbconvert_exporter": "python",
   "pygments_lexer": "ipython3",
   "version": "3.8.3"
  },
  "orig_nbformat": 4,
  "kernelspec": {
   "name": "python3",
   "display_name": "Python 3.8.3 64-bit ('base': conda)"
  },
  "interpreter": {
   "hash": "a8ed6b6aaa83e0c75564d8643a7111be6f47b679c5d32737ff20a5a7a3944855"
  }
 },
 "nbformat": 4,
 "nbformat_minor": 2,
 "cells": [
  {
   "cell_type": "code",
   "execution_count": 11,
   "metadata": {},
   "outputs": [
    {
     "output_type": "stream",
     "name": "stdout",
     "text": [
      "1\n1\n1\n1\n1\nres 5\nans 5\n"
     ]
    }
   ],
   "source": [
    "def pagesNumberingWithInk(current, numberOfDigits):\n",
    "    nbrCharactersUsed = 0\n",
    "    pagesPrinted = list()\n",
    "    for n in range(current,current+10000):\n",
    "        print(len(str(n)))\n",
    "        nbrCharactersUsed += len(str(n))\n",
    "        pagesPrinted.append(n)\n",
    "        if nbrCharactersUsed == numberOfDigits:\n",
    "            return pagesPrinted[-1]\n",
    "        if nbrCharactersUsed > numberOfDigits:\n",
    "            pagesPrinted[-1]\n",
    "            return pagesPrinted[-2]\n",
    "\n",
    "current = 80\n",
    "numberOfDigits = 5 \n",
    "ans = 5\n",
    "print('res',pagesNumberingWithInk(current, numberOfDigits))\n",
    "print('ans',ans)\n"
   ]
  },
  {
   "cell_type": "code",
   "execution_count": 2,
   "metadata": {},
   "outputs": [
    {
     "output_type": "stream",
     "name": "stdout",
     "text": [
      "fd\n"
     ]
    }
   ],
   "source": [
    "# current = 1   numberOfDigits = 5      ans = 5\n",
    "# current = 21  numberOfDigits = 5      ans = 22\n",
    "# current = 8   numberOfDigits = 4      ans = 10 (8,9,10)\n",
    "\n",
    "print('fd')"
   ]
  },
  {
   "cell_type": "code",
   "execution_count": 9,
   "metadata": {},
   "outputs": [
    {
     "output_type": "stream",
     "name": "stdout",
     "text": [
      "3\n"
     ]
    }
   ],
   "source": [
    "test = [1,2,3,4]\n",
    "print(test[-2])"
   ]
  },
  {
   "cell_type": "code",
   "execution_count": null,
   "metadata": {},
   "outputs": [],
   "source": []
  }
 ]
}