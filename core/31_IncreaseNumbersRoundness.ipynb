{
 "metadata": {
  "language_info": {
   "codemirror_mode": {
    "name": "ipython",
    "version": 3
   },
   "file_extension": ".py",
   "mimetype": "text/x-python",
   "name": "python",
   "nbconvert_exporter": "python",
   "pygments_lexer": "ipython3",
   "version": "3.8.3"
  },
  "orig_nbformat": 4,
  "kernelspec": {
   "name": "python3",
   "display_name": "Python 3.8.3 64-bit ('base': conda)"
  },
  "interpreter": {
   "hash": "a8ed6b6aaa83e0c75564d8643a7111be6f47b679c5d32737ff20a5a7a3944855"
  }
 },
 "nbformat": 4,
 "nbformat_minor": 2,
 "cells": [
  {
   "cell_type": "code",
   "execution_count": 3,
   "metadata": {},
   "outputs": [
    {
     "output_type": "stream",
     "name": "stdout",
     "text": [
      "l 4\nl 3\nl 2\nl 1\nlast_contigeous_zero_pos 2\nl 4\nl 3\nl 2\nl 1\nn 11000\nresult:::: -1\nMyAns False\nans: False\n"
     ]
    }
   ],
   "source": [
    "def increaseNumberRoundness(n):\n",
    "    def last_contigeous_zero_pos(l):\n",
    "        pos = 0\n",
    "        for n in range(len(l)-1,0,-1):\n",
    "            print('l',n)\n",
    "            if l[n] == '0':\n",
    "                pos = n\n",
    "            else:\n",
    "                return pos\n",
    "    print('last_contigeous_zero_pos',last_contigeous_zero_pos(str(n)) )\n",
    "    last_contigeous_pos = last_contigeous_zero_pos(str(n)) \n",
    "    print('n',n)\n",
    "    newStr = str(n)[:last_contigeous_pos]\n",
    "    result = newStr.find('0')\n",
    "    print('result::::',result)\n",
    "    if int(result) == -1:\n",
    "        return False\n",
    "    else:\n",
    "        return True\n",
    "n = 11000\n",
    "ans = False\n",
    "print('MyAns',increaseNumberRoundness(n))\n",
    "print('ans:', ans)"
   ]
  },
  {
   "cell_type": "code",
   "execution_count": null,
   "metadata": {},
   "outputs": [],
   "source": [
    "test = 'canada#japan#uae'\n",
    "c = '#'\n",
    "print([pos for pos, char in enumerate(test) if char == c])"
   ]
  },
  {
   "cell_type": "code",
   "execution_count": 20,
   "metadata": {},
   "outputs": [
    {
     "output_type": "stream",
     "name": "stdout",
     "text": [
      "input: 11000\n*************************\n4 0\niteration_is_in_endingzeros True\nproceeding_zero_found False\n*************************\n3 0\niteration_is_in_endingzeros True\nproceeding_zero_found False\n*************************\n2 0\niteration_is_in_endingzeros True\nproceeding_zero_found False\n*************************\n1 1\niteration_is_in_endingzeros False\nproceeding_zero_found False\nMyAns False\nans: False\n"
     ]
    }
   ],
   "source": [
    "\n",
    "def increaseNumberRoundness(n):\n",
    "       # number ##00    {The endingzeros star at pos 2 and go to pos 3}\n",
    "       # number 0#00    {The endingzeros star at pos 2 and go to pos 3, proceeding-zero                         at pos 1}\n",
    "\n",
    "    st_n = str(n)\n",
    "    iteration_is_in_endingzeros = True\n",
    "    proceeding_zero_found = False\n",
    "    for item in range(len(st_n)-1,0,-1):\n",
    "        if item == len(st_n) and st_n[item] != '0':\n",
    "            return False\n",
    "        if st_n[item] == '0' and iteration_is_in_endingzeros == True:\n",
    "            iteration_is_in_endingzeros = True\n",
    "        elif st_n[item] != '0' and iteration_is_in_endingzeros == True:\n",
    "            iteration_is_in_endingzeros = False\n",
    "        elif st_n[item] == '0' and iteration_is_in_endingzeros == False:\n",
    "            proceeding_zero_found = True\n",
    "        print('*************************')\n",
    "        print(item,st_n[item])    \n",
    "        print('iteration_is_in_endingzeros',iteration_is_in_endingzeros)\n",
    "        print('proceeding_zero_found',proceeding_zero_found)\n",
    "    return proceeding_zero_found\n",
    "\n",
    "n = 11000\n",
    "ans = False\n",
    "print('input:', n)\n",
    "print('MyAns',increaseNumberRoundness(n))\n",
    "print('ans:', ans)"
   ]
  },
  {
   "cell_type": "code",
   "execution_count": null,
   "metadata": {},
   "outputs": [],
   "source": [
    "def increaseNumberRoundness(n):\n",
    "\n",
    "    \n",
    "\n",
    "n = 11000\n",
    "ans = False\n",
    "print('MyAns',increaseNumberRoundness(n))\n",
    "print('ans:', ans)"
   ]
  }
 ]
}