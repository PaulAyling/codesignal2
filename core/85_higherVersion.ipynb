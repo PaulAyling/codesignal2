{
 "cells": [
  {
   "cell_type": "code",
   "execution_count": 16,
   "source": [
    "def higherVersion(ver1, ver2):\n",
    "  l_1 = ver1.split(\".\")\n",
    "  l_2 = ver2.split(\".\")\n",
    "  print(l_1)\n",
    "  print(l_2)\n",
    "  if len(l_1) != len(l_2):\n",
    "    print('IMPOSSIBLE')\n",
    "  # identical versions\n",
    "  if l_1 == l_2:\n",
    "    print('1')\n",
    "    return False\n",
    "  for n in range(len(l_1)):\n",
    "    if int(l_1[n])< int(l_2[n]):\n",
    "      print('2')\n",
    "      return False\n",
    "    elif int(l_1[n])> int(l_2[n]):\n",
    "      print('2-1')\n",
    "      return True\n",
    "  print('3')\n",
    "  return True  \n",
    "ver1 = '1.10.2'\n",
    "ver2 = '1.2.10'\n",
    "ans = True\n",
    "print('myAns:',higherVersion(ver1, ver2))\n",
    "print('ans:',ans)"
   ],
   "outputs": [
    {
     "output_type": "stream",
     "name": "stdout",
     "text": [
      "['1', '10', '2']\n",
      "['1', '2', '10']\n",
      "2-1\n",
      "myAns: True\n",
      "ans: True\n"
     ]
    }
   ],
   "metadata": {}
  },
  {
   "cell_type": "code",
   "execution_count": 2,
   "source": [
    "print('hi')"
   ],
   "outputs": [
    {
     "output_type": "stream",
     "name": "stdout",
     "text": [
      "hi\n"
     ]
    }
   ],
   "metadata": {}
  },
  {
   "cell_type": "code",
   "execution_count": null,
   "source": [],
   "outputs": [],
   "metadata": {}
  }
 ],
 "metadata": {
  "orig_nbformat": 4,
  "language_info": {
   "name": "python"
  }
 },
 "nbformat": 4,
 "nbformat_minor": 2
}