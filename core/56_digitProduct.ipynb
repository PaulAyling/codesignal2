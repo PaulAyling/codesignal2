{
 "cells": [
  {
   "cell_type": "code",
   "execution_count": null,
   "source": [
    "#PAUL\n",
    "def digitsProduct(product):\n",
    "  def isPrime(num):\n",
    "    # print('isprime NUM', num)\n",
    "    if num > 1 :\n",
    "      for n in range(2, num):\n",
    "        if  (num % n) == 0 :\n",
    "          return False\n",
    "          break\n",
    "      else:\n",
    "        return True \n",
    "    else:\n",
    "      return False\n",
    "  def createDivisors(numbers):\n",
    "    divisors = list()\n",
    "    n= 9\n",
    "    exitLoop = False\n",
    "    while exitLoop is False:\n",
    "      if numbers % n == 0:\n",
    "        divisors.append(n)\n",
    "        numbers = numbers / n\n",
    "      else:\n",
    "        n -= 1\n",
    "        if n < 2:\n",
    "          if isPrime(int(numbers)):\n",
    "            return -1\n",
    "          exitLoop = True\n",
    "    if len(divisors)>0:\n",
    "      buffer = divisors[0]\n",
    "    else:\n",
    "      return -1\n",
    "    result = divisors\n",
    "    return result\n",
    "\n",
    "  def reorderDivisors(divisorList):\n",
    "    sortedl =  sorted(divisorList)\n",
    "    result = int(''.join(str(e) for e in sortedl))\n",
    "    return result\n",
    "\n",
    "#REMOVE ANOMOPLOUS INPUTS\n",
    "  if product == 0:\n",
    "    return 10\n",
    "  if product == 1:\n",
    "    return 1\n",
    "    \n",
    "# RUN PROGRAM\n",
    "  divisorList = createDivisors(product)\n",
    "  # print(divisorList)\n",
    "  if divisorList == -1:\n",
    "    return -1\n",
    "\n",
    "  result = reorderDivisors(divisorList)\n",
    "  return result\n",
    "#testing\n",
    "product = 2\n",
    "ans = -1\n",
    "print('our ans:',digitsProduct(product),'actual:',ans)"
   ],
   "outputs": [],
   "metadata": {}
  },
  {
   "cell_type": "code",
   "execution_count": null,
   "source": [
    " print('ANS:',digitsProduct(22))"
   ],
   "outputs": [],
   "metadata": {}
  },
  {
   "cell_type": "code",
   "execution_count": null,
   "source": [
    "for n in range(0,600):\n",
    "  print('n:',n,'ANS:',digitsProduct(n))"
   ],
   "outputs": [],
   "metadata": {}
  },
  {
   "cell_type": "code",
   "execution_count": null,
   "source": [
    "def isPrime(num):\n",
    "    if num > 1 :\n",
    "      for n in range(2, num):\n",
    "        if  (num % n) == 0 :\n",
    "          return False\n",
    "          break\n",
    "      else:\n",
    "        return True \n",
    "    else:\n",
    "      return False\n",
    "\n",
    "num = 121\n",
    "isPrime(num)\n",
    "\n"
   ],
   "outputs": [],
   "metadata": {}
  },
  {
   "cell_type": "code",
   "execution_count": null,
   "source": [
    "# NIGELS CODE\n",
    "def digitsProduct(product):\n",
    "  def createDivisors(numbers):\n",
    "    divisors = list()\n",
    "    n= 9\n",
    "    exitLoop = False\n",
    "    while exitLoop is False:\n",
    "      print('numbers',numbers)  \n",
    "      if numbers % n == 0:\n",
    "        divisors.append(n)\n",
    "        numbers = numbers / n\n",
    "        #print('numbers',numbers)\n",
    "      else:\n",
    "        n -= 1\n",
    "        if n < 2:\n",
    "          #print('numbers',numbers)\n",
    "          exitLoop = True\n",
    "          if numbers > 1:\n",
    "            divisors = [0]  \n",
    "    print('divisors',divisors)\n",
    "    result = divisors\n",
    "    return result\n",
    "\n",
    "  def reorderDivisors(divisorList):\n",
    "    sortedl =  sorted(divisorList)\n",
    "    result = int(''.join(str(e) for e in sortedl))\n",
    "    return result\n",
    "  if product < 1:\n",
    "        return -1 \n",
    "  divisorList = createDivisors(product)\n",
    "  if divisorList ==[0]:\n",
    "    return -1 \n",
    "  result = reorderDivisors(divisorList)\n",
    "  return result"
   ],
   "outputs": [],
   "metadata": {}
  },
  {
   "cell_type": "code",
   "execution_count": null,
   "source": [
    "for n in range(242,244):\n",
    "  print('n:',n,'ANS:',digitsProduct(n))"
   ],
   "outputs": [],
   "metadata": {}
  },
  {
   "cell_type": "code",
   "execution_count": null,
   "source": [],
   "outputs": [],
   "metadata": {}
  }
 ],
 "metadata": {
  "orig_nbformat": 4,
  "language_info": {
   "name": "python",
   "version": "3.8.3",
   "mimetype": "text/x-python",
   "codemirror_mode": {
    "name": "ipython",
    "version": 3
   },
   "pygments_lexer": "ipython3",
   "nbconvert_exporter": "python",
   "file_extension": ".py"
  },
  "kernelspec": {
   "name": "python3",
   "display_name": "Python 3.8.3 64-bit ('base': conda)"
  },
  "interpreter": {
   "hash": "a8ed6b6aaa83e0c75564d8643a7111be6f47b679c5d32737ff20a5a7a3944855"
  }
 },
 "nbformat": 4,
 "nbformat_minor": 2
}