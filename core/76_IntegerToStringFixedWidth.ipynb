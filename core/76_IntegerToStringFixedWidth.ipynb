{
 "metadata": {
  "language_info": {
   "codemirror_mode": {
    "name": "ipython",
    "version": 3
   },
   "file_extension": ".py",
   "mimetype": "text/x-python",
   "name": "python",
   "nbconvert_exporter": "python",
   "pygments_lexer": "ipython3",
   "version": "3.8.3"
  },
  "orig_nbformat": 4,
  "kernelspec": {
   "name": "python3",
   "display_name": "Python 3.8.3 64-bit ('base': conda)"
  },
  "interpreter": {
   "hash": "a8ed6b6aaa83e0c75564d8643a7111be6f47b679c5d32737ff20a5a7a3944855"
  }
 },
 "nbformat": 4,
 "nbformat_minor": 2,
 "cells": [
  {
   "cell_type": "code",
   "execution_count": 27,
   "metadata": {},
   "outputs": [
    {
     "output_type": "stream",
     "name": "stdout",
     "text": [
      "number_len 4\nextraStr 00\n001234\n"
     ]
    }
   ],
   "source": [
    "def integerToStringOfFixedWidth(number, width):\n",
    "    number_len = len(str(number))\n",
    "    print('number_len',number_len)\n",
    "    if number_len == width:\n",
    "        return str(number)\n",
    "\n",
    "    if number_len >= width:\n",
    "        starting_pos = number_len - width\n",
    "        print('starting_pos',starting_pos)\n",
    "        return str(number)[starting_pos:]\n",
    "    else:\n",
    "        extras = width - number_len\n",
    "\n",
    "        extraStr = \"0\" * extras\n",
    "        print('extraStr',extraStr)\n",
    "        return extraStr + str(number)\n",
    "\n",
    "\n",
    "    \n",
    "    \n",
    "number     = 1234 \n",
    "width = 6\n",
    "ans=    \"01234\"\n",
    "print(integerToStringOfFixedWidth(number, width))"
   ]
  },
  {
   "cell_type": "code",
   "execution_count": null,
   "metadata": {},
   "outputs": [],
   "source": [
    "#number     = 1234      width = 2   ans:    \"34\"\n",
    "#number     = 1234      width = 4   ans:    \"1234\"\n",
    "#number     = 1234      width = 5   ans:    \"01234\"\n"
   ]
  }
 ]
}