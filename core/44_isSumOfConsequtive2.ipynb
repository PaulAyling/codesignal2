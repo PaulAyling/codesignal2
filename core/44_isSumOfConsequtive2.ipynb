{
 "metadata": {
  "language_info": {
   "codemirror_mode": {
    "name": "ipython",
    "version": 3
   },
   "file_extension": ".py",
   "mimetype": "text/x-python",
   "name": "python",
   "nbconvert_exporter": "python",
   "pygments_lexer": "ipython3",
   "version": "3.8.3"
  },
  "orig_nbformat": 4,
  "kernelspec": {
   "name": "python3",
   "display_name": "Python 3.8.3 64-bit ('base': conda)"
  },
  "interpreter": {
   "hash": "a8ed6b6aaa83e0c75564d8643a7111be6f47b679c5d32737ff20a5a7a3944855"
  }
 },
 "nbformat": 4,
 "nbformat_minor": 2,
 "cells": [
  {
   "cell_type": "code",
   "execution_count": 42,
   "metadata": {},
   "outputs": [
    {
     "output_type": "stream",
     "name": "stdout",
     "text": [
      "curr_seq []\n1 1 | [1] | 1\n1 2 | [1, 2] | 3\n1 3 | [1, 2, 3] | 6\n1 4 | [1, 2, 3, 4] | 10\nn is exceeded\n2 2 | [2] | 2\n2 3 | [2, 3] | 5\n2 4 | [2, 3, 4] | 9\n****MATCH FOUND****\n3 3 | [3] | 3\n3 4 | [3, 4] | 7\n3 5 | [3, 4, 5] | 12\nn is exceeded\n4 4 | [4] | 4\n4 5 | [4, 5] | 9\n****MATCH FOUND****\n5 5 | [5] | 5\n5 6 | [5, 6] | 11\nn is exceeded\n6 6 | [6] | 6\n6 7 | [6, 7] | 13\nn is exceeded\n7 7 | [7] | 7\n7 8 | [7, 8] | 15\nn is exceeded\n8 8 | [8] | 8\nres 2\nans 2\n"
     ]
    }
   ],
   "source": [
    "def isSumOfConsecutive2(n):\n",
    "    curr_seq = list()\n",
    "    x = 1\n",
    "    counter = 0\n",
    "    print('curr_seq',curr_seq)\n",
    "    x = 1\n",
    "    for x in range(1,n):\n",
    "        for y in range(x,n):\n",
    "            curr_seq.append(y)\n",
    "            print(x,y,'|',curr_seq,'|',sum(curr_seq) )\n",
    "            if sum(curr_seq) == n:\n",
    "                print('****MATCH FOUND****')\n",
    "                counter += 1\n",
    "                curr_seq = []\n",
    "                break\n",
    "            if sum(curr_seq) > n:\n",
    "                print('n is exceeded')\n",
    "                curr_seq = []\n",
    "                break\n",
    "                # [1,2,3,4]\n",
    "    return counter\n",
    "\n",
    "\n",
    "n=9\n",
    "ans = 2\n",
    "print('res',isSumOfConsecutive2(n))\n",
    "print('ans',ans)\n",
    "            "
   ]
  },
  {
   "cell_type": "code",
   "execution_count": null,
   "metadata": {},
   "outputs": [],
   "source": []
  }
 ]
}