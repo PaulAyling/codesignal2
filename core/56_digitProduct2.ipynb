{
 "cells": [
  {
   "cell_type": "code",
   "execution_count": null,
   "source": [
    "def digitsProduct(product):\n",
    "    def createDivisors(numbers):\n",
    "        divisors = list()\n",
    "        n= 9\n",
    "        exitLoop = False\n",
    "        while exitLoop is False:\n",
    "            if numbers % n == 0:\n",
    "            divisors.append(n)\n",
    "            numbers = numbers / n\n",
    "            else:\n",
    "            n -= 1\n",
    "            if n < 2:\n",
    "                exitLoop = True\n",
    "        buffer = divisors[0]\n",
    "        result = divisors\n",
    "        return result\n",
    "\n",
    "    def reorderDivisors(divisorList):\n",
    "        sortedl =  sorted(divisorList)\n",
    "        result = int(''.join(str(e) for e in sortedl))\n",
    "        return result\n",
    "\n",
    "    divisorList = createDivisors(product)\n",
    "    print(divisorList)\n",
    "    result = reorderDivisors(divisorList)\n",
    "    print('line26',result)\n",
    "    print('running........')\n",
    "\n",
    "    return result\n",
    "#testing\n",
    "product = 450\n",
    "ans = 2559\n",
    "print('our ans:',digitsProduct(product),'actual:',ans)"
   ],
   "outputs": [],
   "metadata": {}
  }
 ],
 "metadata": {
  "orig_nbformat": 4,
  "language_info": {
   "name": "python"
  }
 },
 "nbformat": 4,
 "nbformat_minor": 2
}