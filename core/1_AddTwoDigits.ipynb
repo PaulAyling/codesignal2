{
 "cells": [
  {
   "cell_type": "code",
   "execution_count": 6,
   "source": [
    "def addTwoDigits(n):\n",
    "    n_str = str(n)\n",
    "    d1 = int(n_str[0])\n",
    "    d2 = int(n_str[1])\n",
    "    return  d1 + d2\n",
    "n=34\n",
    "print( addTwoDigits(n))"
   ],
   "outputs": [
    {
     "output_type": "stream",
     "name": "stdout",
     "text": [
      "7\n"
     ]
    }
   ],
   "metadata": {}
  },
  {
   "cell_type": "code",
   "execution_count": null,
   "source": [],
   "outputs": [],
   "metadata": {}
  }
 ],
 "metadata": {
  "orig_nbformat": 4,
  "language_info": {
   "name": "python",
   "version": "3.9.6",
   "mimetype": "text/x-python",
   "codemirror_mode": {
    "name": "ipython",
    "version": 3
   },
   "pygments_lexer": "ipython3",
   "nbconvert_exporter": "python",
   "file_extension": ".py"
  },
  "kernelspec": {
   "name": "python3",
   "display_name": "Python 3.9.6 64-bit"
  },
  "interpreter": {
   "hash": "aee8b7b246df8f9039afb4144a1f6fd8d2ca17a180786b69acc140d282b71a49"
  }
 },
 "nbformat": 4,
 "nbformat_minor": 2
}