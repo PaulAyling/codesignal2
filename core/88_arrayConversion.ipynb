{
 "metadata": {
  "language_info": {
   "codemirror_mode": {
    "name": "ipython",
    "version": 3
   },
   "file_extension": ".py",
   "mimetype": "text/x-python",
   "name": "python",
   "nbconvert_exporter": "python",
   "pygments_lexer": "ipython3",
   "version": "3.8.3"
  },
  "orig_nbformat": 4,
  "kernelspec": {
   "name": "python3",
   "display_name": "Python 3.8.3 64-bit ('base': conda)"
  },
  "interpreter": {
   "hash": "a8ed6b6aaa83e0c75564d8643a7111be6f47b679c5d32737ff20a5a7a3944855"
  }
 },
 "nbformat": 4,
 "nbformat_minor": 2,
 "cells": [
  {
   "cell_type": "code",
   "execution_count": 17,
   "metadata": {},
   "outputs": [
    {
     "output_type": "stream",
     "name": "stdout",
     "text": [
      "0\n2\n4\n6\n0\n2\n0\nRESULT: 186\nans: 186\n"
     ]
    }
   ],
   "source": [
    "def arrayConversion(inputArray):\n",
    "    def createSums(l):\n",
    "        result = list()\n",
    "        for n in range(0,len(l)-1,2):\n",
    "            print(n)\n",
    "            thisPlusNextVal = l[n]+l[n+1]\n",
    "            result.append(thisPlusNextVal)\n",
    "        return result\n",
    "    def createProds(l):\n",
    "        result = list()\n",
    "        for n in range(0,len(l)-1,2):\n",
    "            print(n)\n",
    "            thisPlusNextVal = l[n]*l[n+1]\n",
    "            result.append(thisPlusNextVal)\n",
    "        return result\n",
    "    # Remove invlaid starting points\n",
    "    if len(inputArray) == 1:\n",
    "        return inputArray[0]\n",
    "    if len(inputArray)% 2 != 0:\n",
    "        print('input is not even!!')\n",
    "    # MAIN\n",
    "    current_list = inputArray\n",
    "    for n in range(1,1000):\n",
    "        if n % 2 ==0:\n",
    "            res_l = createProds(current_list)\n",
    "            current_list = res_l\n",
    "            if len(current_list) == 1:\n",
    "                return current_list[0]\n",
    "        else:\n",
    "            res_l = createSums(current_list)\n",
    "            current_list = res_l\n",
    "            if len(current_list) == 1:\n",
    "                return current_list[0]\n",
    "    print('current_list',current_list)\n",
    "\n",
    "inputArray = [1, 2, 3, 4, 5, 6, 7, 8]\n",
    "ans = 186\n",
    "print('RESULT:',arrayConversion(inputArray))\n",
    "print('ans:',ans)"
   ]
  },
  {
   "cell_type": "code",
   "execution_count": null,
   "metadata": {},
   "outputs": [],
   "source": [
    "def arrayConversion(inputArray):\n",
    "# inputArray = [1,2,3,4,5,6,7,8]    ans = 186\n",
    "\n",
    "#   1,2,3,4,5,6,7,8\n",
    "#     3,  7, 11, 15.    #IT 1 (SUM)\n",
    "#        21,             #IT 2 ()\n",
    "\n"
   ]
  },
  {
   "cell_type": "code",
   "execution_count": 10,
   "metadata": {},
   "outputs": [
    {
     "output_type": "stream",
     "name": "stdout",
     "text": [
      "0\n2\nans: [3, 7]\n"
     ]
    }
   ],
   "source": [
    "\n",
    "def createSums(l):\n",
    "    result = list()\n",
    "    for n in range(0,len(l)-1,2):\n",
    "        print(n)\n",
    "        thisPlusNextVal = l[n]+l[n+1]\n",
    "        result.append(thisPlusNextVal)\n",
    "    return result\n",
    "l = [1,2,3,4]    \n",
    "print('ans:',createSums(l))"
   ]
  },
  {
   "cell_type": "code",
   "execution_count": 11,
   "metadata": {},
   "outputs": [
    {
     "output_type": "stream",
     "name": "stdout",
     "text": [
      "0\n2\nans: [2, 12]\n"
     ]
    }
   ],
   "source": [
    "def createProds(l):\n",
    "    result = list()\n",
    "    for n in range(0,len(l)-1,2):\n",
    "        print(n)\n",
    "        thisPlusNextVal = l[n]*l[n+1]\n",
    "        result.append(thisPlusNextVal)\n",
    "    return result\n",
    "l = [1,2,3,4]    \n",
    "print('ans:',createProds(l))"
   ]
  },
  {
   "cell_type": "code",
   "execution_count": null,
   "metadata": {},
   "outputs": [],
   "source": []
  }
 ]
}