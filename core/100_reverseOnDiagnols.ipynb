{
 "metadata": {
  "language_info": {
   "codemirror_mode": {
    "name": "ipython",
    "version": 3
   },
   "file_extension": ".py",
   "mimetype": "text/x-python",
   "name": "python",
   "nbconvert_exporter": "python",
   "pygments_lexer": "ipython3",
   "version": "3.8.3"
  },
  "orig_nbformat": 4,
  "kernelspec": {
   "name": "python3",
   "display_name": "Python 3.8.3 64-bit ('base': conda)"
  },
  "interpreter": {
   "hash": "a8ed6b6aaa83e0c75564d8643a7111be6f47b679c5d32737ff20a5a7a3944855"
  }
 },
 "nbformat": 4,
 "nbformat_minor": 2,
 "cells": [
  {
   "cell_type": "code",
   "execution_count": 3,
   "metadata": {},
   "outputs": [
    {
     "output_type": "stream",
     "name": "stdout",
     "text": [
      "width: 3 hieght 3\n"
     ]
    }
   ],
   "source": [
    "def reverseOnDiagonals(matrix):\n",
    "    w = len(matrix[0])\n",
    "    h = len(matrix)\n",
    "    print('width:',w,'hieght',h)\n",
    "    \n",
    "    # loop ma\n",
    "\n",
    "matrix = [[1, 2, 3],[4, 5, 6],[7, 8, 9]]    \n",
    "ans = [[9, 2, 7],[4, 5, 6],[3, 8, 1]]\n",
    "reverseOnDiagonals(matrix)"
   ]
  },
  {
   "cell_type": "code",
   "execution_count": null,
   "metadata": {},
   "outputs": [],
   "source": []
  }
 ]
}