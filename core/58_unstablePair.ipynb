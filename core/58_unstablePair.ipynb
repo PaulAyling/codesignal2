{
 "metadata": {
  "language_info": {
   "codemirror_mode": {
    "name": "ipython",
    "version": 3
   },
   "file_extension": ".py",
   "mimetype": "text/x-python",
   "name": "python",
   "nbconvert_exporter": "python",
   "pygments_lexer": "ipython3",
   "version": "3.9.6"
  },
  "orig_nbformat": 4,
  "kernelspec": {
   "name": "python3",
   "display_name": "Python 3.9.6 64-bit"
  },
  "interpreter": {
   "hash": "aee8b7b246df8f9039afb4144a1f6fd8d2ca17a180786b69acc140d282b71a49"
  }
 },
 "nbformat": 4,
 "nbformat_minor": 2,
 "cells": [
  {
   "cell_type": "code",
   "execution_count": 30,
   "source": [
    "# Because \"AAB\" < \"aa\", but \"AAB\" > \"AA\".\n",
    "def isUnstablePair(a,b):  \n",
    "    if a>b and a<b.upper():\n",
    "        print('1')\n",
    "        return True\n",
    "    elif a>b and a.upper() <b:\n",
    "        print('2')\n",
    "        return True\n",
    "    if a<b and a>b.upper():\n",
    "        print('3')\n",
    "        return True\n",
    "    elif a<b and a.upper() >b:\n",
    "        print('4')\n",
    "        return True\n",
    "    return False\n",
    "\n",
    "filename1 = \"fdsAs\"      \n",
    "filename2 = \"dzdw\"       \n",
    "ans = True\n",
    "print(isUnstablePair(filename1, filename2))"
   ],
   "outputs": [
    {
     "output_type": "stream",
     "name": "stdout",
     "text": [
      "2\n",
      "True\n"
     ]
    }
   ],
   "metadata": {}
  },
  {
   "cell_type": "code",
   "execution_count": 24,
   "source": [
    "\n",
    "a = \"fdsAs\"      \n",
    "b = \"dzdw\"\n",
    "print('a>b') if a>b else print('')\n",
    "print('a>b.upper') if a>b.upper() else print('')\n",
    "print('a.upper>b') if a.upper()>b else print('')\n"
   ],
   "outputs": [
    {
     "output_type": "stream",
     "name": "stdout",
     "text": [
      "a>b\n",
      "a>b.upper\n",
      "\n"
     ]
    }
   ],
   "metadata": {}
  },
  {
   "cell_type": "code",
   "execution_count": null,
   "source": [],
   "outputs": [],
   "metadata": {}
  }
 ]
}