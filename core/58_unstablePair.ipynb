{
 "metadata": {
  "language_info": {
   "codemirror_mode": {
    "name": "ipython",
    "version": 3
   },
   "file_extension": ".py",
   "mimetype": "text/x-python",
   "name": "python",
   "nbconvert_exporter": "python",
   "pygments_lexer": "ipython3",
   "version": 3
  },
  "orig_nbformat": 4
 },
 "nbformat": 4,
 "nbformat_minor": 2,
 "cells": [
  {
   "cell_type": "code",
   "execution_count": null,
   "metadata": {},
   "outputs": [],
   "source": [
    "def isUnstablePair(filename1, filename2):\n",
    "    upperfilename1 = filename1.upper()\n",
    "    lowerfilename1 = filename1.lower() \n",
    "\n",
    "    if  upperfilename1  < filename2 and lowerfilename1 < filename2:\n",
    "        print('got it')\n",
    "\n",
    "    if upperfilename1<filename2 and lowerfilename1>filename2:\n",
    "        return True\n",
    "    else:\n",
    "        return False\n",
    "\n",
    "# filename1 = \"aa\"      filename2 = \"AAB\"       ans = True\n",
    "# filename1 = \"A\"       filename2 = \"z\"         ans = False\n"
   ]
  }
 ]
}