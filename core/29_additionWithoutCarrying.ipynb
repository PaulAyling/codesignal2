{
 "cells": [
  {
   "cell_type": "code",
   "execution_count": 33,
   "metadata": {},
   "outputs": [
    {
     "output_type": "stream",
     "name": "stdout",
     "text": [
      "shortest_with_padding 0456\n3\nlongest 1734\nshortest_with_padding 0456\n:::: 4 6\ncurSum 10\nmyAns: 0\nans: 1180\n"
     ]
    }
   ],
   "source": [
    "def additionWithoutCarrying(param1, param2):\n",
    "  def longest_shortest(a,b):\n",
    "    return (a,b) if a> b else (b,a)\n",
    "  def add_padding(longest,shortest):\n",
    "    longest_len = len(longest)\n",
    "    shortest_len = len(shortest)\n",
    "    padding = \"0\" * (longest_len - shortest_len)\n",
    "    return padding + shortest\n",
    "\n",
    "\n",
    "  longest = str(longest_shortest(param1,param2)[0])\n",
    "  shortest = str(longest_shortest(param1,param2)[1])\n",
    "  longest_len = len(longest)\n",
    "  shortest_len = len(shortest)\n",
    "\n",
    "  shortest_with_padding = add_padding(longest,shortest)\n",
    "  print('shortest_with_padding',shortest_with_padding)\n",
    "\n",
    "\n",
    "\n",
    "  res = ''\n",
    "  for n in range(longest_len):\n",
    "    print(n)\n",
    "    print('longest',longest)\n",
    "    print('shortest_with_padding',shortest_with_padding)\n",
    "    print('::::',int(longest[n]), int(shortest_with_padding[n]) )\n",
    "    cur_sum = int(longest[n]) + int(shortest_with_padding[n])\n",
    "    print('curSum', cur_sum)\n",
    "    if cur_sum >=10:\n",
    "      res += str(cur_sum)[-1]\n",
    "\n",
    "    else:\n",
    "      res += str(cur_sum)\n",
    "  return(res )\n",
    "\n",
    "    \n",
    "\n",
    "\n",
    "param1 =  456\n",
    "param2 = 1734\n",
    "ans = 1180\n",
    "\n",
    "print('myAns:',additionWithoutCarrying(param1, param2))\n",
    "print('ans:',ans)"
   ]
  },
  {
   "cell_type": "code",
   "execution_count": 25,
   "metadata": {},
   "outputs": [
    {
     "name": "stdout",
     "output_type": "stream",
     "text": [
      "6\n",
      "7\n"
     ]
    }
   ],
   "source": [
    "st = str(456)\n",
    "st_2 = str(7687)\n",
    "print(st[2])\n",
    "print(st_2[3])\n",
    "\n",
    "\n",
    "def getPos(a,b,):\n"
   ]
  },
  {
   "cell_type": "code",
   "execution_count": null,
   "metadata": {},
   "outputs": [],
   "source": []
  }
 ],
 "metadata": {
  "interpreter": {
   "hash": "a8ed6b6aaa83e0c75564d8643a7111be6f47b679c5d32737ff20a5a7a3944855"
  },
  "kernelspec": {
   "name": "python3",
   "display_name": "Python 3.8.3 64-bit ('base': conda)"
  },
  "language_info": {
   "codemirror_mode": {
    "name": "ipython",
    "version": 3
   },
   "file_extension": ".py",
   "mimetype": "text/x-python",
   "name": "python",
   "nbconvert_exporter": "python",
   "pygments_lexer": "ipython3",
   "version": "3.8.3"
  },
  "orig_nbformat": 4
 },
 "nbformat": 4,
 "nbformat_minor": 2
}