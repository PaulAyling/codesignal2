{
 "metadata": {
  "language_info": {
   "codemirror_mode": {
    "name": "ipython",
    "version": 3
   },
   "file_extension": ".py",
   "mimetype": "text/x-python",
   "name": "python",
   "nbconvert_exporter": "python",
   "pygments_lexer": "ipython3",
   "version": "3.8.3"
  },
  "orig_nbformat": 4,
  "kernelspec": {
   "name": "python3",
   "display_name": "Python 3.8.3 64-bit ('base': conda)"
  },
  "interpreter": {
   "hash": "a8ed6b6aaa83e0c75564d8643a7111be6f47b679c5d32737ff20a5a7a3944855"
  }
 },
 "nbformat": 4,
 "nbformat_minor": 2,
 "cells": [
  {
   "cell_type": "code",
   "execution_count": null,
   "metadata": {},
   "outputs": [],
   "source": [
    "#Examples\n",
    "    \n",
    "#a  [1,2,3]         b = [1,2,3]     ans = true\n",
    "#a  [1,2,3]         b = [2,1,3]     ans = true\n",
    "#a  [1,2,2]         b = [2,1,1]     ans = false\n",
    "\n",
    "# can only swap 2 elements bewtween a and b to make it true"
   ]
  },
  {
   "cell_type": "code",
   "execution_count": 49,
   "metadata": {},
   "outputs": [
    {
     "output_type": "stream",
     "name": "stdout",
     "text": [
      "1 : 1 | 1 : 2\n1 : 2 | 1 : 2\n1 : 3 | 4 : 2\nMy Result: False\n"
     ]
    }
   ],
   "source": [
    "def areSimilar(a, b):\n",
    "    swapCnt = 0\n",
    "    match_found = 0\n",
    "    for n in range(len(a)):\n",
    "        if a[n] != b[n]:\n",
    "            for c in range(len(a)):\n",
    "                print(a[n],':',b[c],'|',a[c],':',b[n])\n",
    "                if a[n] == b[c] and a[c] == b[n]:\n",
    "                    match_found = 1\n",
    "                    print('match_found',match_found)\n",
    "            if match_found == 1:\n",
    "                swapCnt = swapCnt + match_found\n",
    "            else:\n",
    "                return False\n",
    "    if swapCnt > 2:\n",
    "        return False\n",
    "    else:\n",
    "        return True\n",
    "a =[1, 1, 4]        \n",
    "b = [1, 2, 3]    \n",
    "ans = False\n",
    "print('My Result:',areSimilar(a, b))"
   ]
  },
  {
   "cell_type": "code",
   "execution_count": null,
   "metadata": {},
   "outputs": [],
   "source": []
  }
 ]
}