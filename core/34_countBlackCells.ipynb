{
 "cells": [
  {
   "cell_type": "code",
   "execution_count": 31,
   "source": [
    "def countBlackCells(n, m):\n",
    "    \n",
    "    def find_match(list1,list2):\n",
    "        set1 = set(list1)\n",
    "        set2 = set(list2)\n",
    "        nums_match_set = set.intersection(set1,set2)\n",
    "        nums_match = list(nums_match_set)\n",
    "        #nums_match.remove(0)\n",
    "        return nums_match\n",
    "    list_long = []\n",
    "    list_short = []\n",
    "    max_val = n * m\n",
    "    ll = n\n",
    "    ls = m\n",
    "    while ll <= max_val:\n",
    "        list_long.append(ll)\n",
    "        ll = ll + n\n",
    "    while ls <= max_val:\n",
    "        list_short.append(ls)\n",
    "        ls =ls + m\n",
    "\n",
    "    print(list_long, list_short)\n",
    "\n",
    "    four_cross = find_match(list_long,list_short)\n",
    "\n",
    "    list_composite = list_long + list_short\n",
    "    #print(list_composite)\n",
    "\n",
    "    set_composite = set(list_composite)\n",
    "    #print(set_composite)\n",
    "    basic_shaded = len(set_composite)\n",
    "    print(\"basic_shaded\",basic_shaded)\n",
    "    crossover_shaded = ((len(four_cross) * 2) - 2)\n",
    "    print(\"crossover_shaded\",crossover_shaded)\n",
    "\n",
    "    return basic_shaded + crossover_shaded\n",
    "\n",
    "\n",
    "n = 33\n",
    "m = 44\n",
    "ans = 86\n",
    "print(countBlackCells(n, m), 'correct is', ans)\n"
   ],
   "outputs": [
    {
     "output_type": "stream",
     "name": "stdout",
     "text": [
      "77\n",
      "9\n",
      "86 correct is 86\n"
     ]
    }
   ],
   "metadata": {}
  },
  {
   "cell_type": "code",
   "execution_count": 20,
   "source": [],
   "outputs": [
    {
     "output_type": "stream",
     "name": "stdout",
     "text": [
      "100\n"
     ]
    }
   ],
   "metadata": {}
  },
  {
   "cell_type": "code",
   "execution_count": 32,
   "source": [
    "def countBlackCells(n, m):\n",
    "    if n == 1 and n == m:\n",
    "        return 1\n",
    "    if n == 2 and n == m:\n",
    "        return 2\n",
    "    if n == 3 and n == m:\n",
    "        return n+m + 1\n",
    "    if n+m > 9:\n",
    "        return n + m + 9\n",
    "    if n+m > 99 and (n < 10 or m < 10):\n",
    "        return n + m + 1\n",
    "    else:\n",
    "        return n + m-1\n",
    "\n",
    "\n",
    "# n=1\n",
    "# m=1\n",
    "\n",
    "n = 3\n",
    "m = 3\n",
    "\n",
    "countBlackCells(n, m)\n"
   ],
   "outputs": [
    {
     "output_type": "execute_result",
     "data": {
      "text/plain": [
       "1"
      ]
     },
     "metadata": {},
     "execution_count": 32
    }
   ],
   "metadata": {}
  },
  {
   "cell_type": "code",
   "execution_count": 2,
   "source": [
    "def countBlackCells(n, m):\n",
    "    list_long = []\n",
    "    list_short = []\n",
    "\n",
    "    max_val = x * y\n",
    "    ll = x\n",
    "    ls = y\n",
    "\n",
    "    while ll <= max_val:\n",
    "        list_long.append(ll)\n",
    "        ll = ll + x\n",
    "    while ls <= max_val:\n",
    "        list_short.append(ls)\n",
    "        ls = ls + y\n",
    "    print(list_long, list_short)\n",
    "    list_composite = list_long + list_short\n",
    "    print(list_composite)\n",
    "    set_composite = set(list_composite)\n",
    "    print(set_composite)\n",
    "    return (len(set_composite))\n",
    "x = 3\n",
    "y = 3\n",
    "\n",
    "squares_number = squares_crossed(x, y)\n",
    "\n",
    "print(\"Number of squares crossed = \", squares_number)\n"
   ],
   "outputs": [
    {
     "output_type": "stream",
     "name": "stdout",
     "text": [
      "[3, 6, 9] [3, 6, 9]\n",
      "[3, 6, 9, 3, 6, 9]\n",
      "{9, 3, 6}\n",
      "Number of squares crossed =  3\n"
     ]
    }
   ],
   "metadata": {}
  },
  {
   "cell_type": "code",
   "execution_count": null,
   "source": [
    "Constraints: Diagnonl path from top left to bottom right.\n",
    "value: x= 3 y = 4 => ratio\n",
    "ratio:  \n"
   ],
   "outputs": [],
   "metadata": {}
  }
 ],
 "metadata": {
  "orig_nbformat": 4,
  "language_info": {
   "name": "python",
   "version": "3.8.3",
   "mimetype": "text/x-python",
   "codemirror_mode": {
    "name": "ipython",
    "version": 3
   },
   "pygments_lexer": "ipython3",
   "nbconvert_exporter": "python",
   "file_extension": ".py"
  },
  "kernelspec": {
   "name": "python3",
   "display_name": "Python 3.8.3 64-bit ('base': conda)"
  },
  "interpreter": {
   "hash": "a8ed6b6aaa83e0c75564d8643a7111be6f47b679c5d32737ff20a5a7a3944855"
  }
 },
 "nbformat": 4,
 "nbformat_minor": 2
}