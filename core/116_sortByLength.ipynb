{
 "cells": [
  {
   "cell_type": "code",
   "execution_count": null,
   "source": [
    "# Given an array of strings, sort them in the order of increasing lengths. \n",
    "# If two strings have the same length, their relative order must be the \n",
    "# same as in the initial array.\n",
    "\n",
    "def sortByLength(inputArray):\n",
    "    for item in inputArray:\n",
    "        if len()\n",
    "\n",
    "print(sortByLength(inputArray))"
   ],
   "outputs": [],
   "metadata": {}
  }
 ],
 "metadata": {
  "orig_nbformat": 4,
  "language_info": {
   "name": "python"
  }
 },
 "nbformat": 4,
 "nbformat_minor": 2
}