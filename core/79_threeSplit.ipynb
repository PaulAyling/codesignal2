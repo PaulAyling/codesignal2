{
 "metadata": {
  "language_info": {
   "codemirror_mode": {
    "name": "ipython",
    "version": 3
   },
   "file_extension": ".py",
   "mimetype": "text/x-python",
   "name": "python",
   "nbconvert_exporter": "python",
   "pygments_lexer": "ipython3",
   "version": "3.8.3"
  },
  "orig_nbformat": 4,
  "kernelspec": {
   "name": "python3",
   "display_name": "Python 3.8.3 64-bit ('base': conda)"
  },
  "interpreter": {
   "hash": "a8ed6b6aaa83e0c75564d8643a7111be6f47b679c5d32737ff20a5a7a3944855"
  }
 },
 "nbformat": 4,
 "nbformat_minor": 2,
 "cells": [
  {
   "cell_type": "code",
   "execution_count": null,
   "metadata": {},
   "outputs": [],
   "source": [
    "#Question on this:\n",
    "# If these are valid (from example)\n",
    "# a= [0, -1, 0, -1, 0, -1]  ans = 4\n",
    "\n",
    "# [0, -1] [0, -1] [0, -1]\n",
    "# [0, -1] [0, -1, 0] [-1]\n",
    "# [0, -1, 0] [-1, 0] [-1]\n",
    "# [0, -1, 0] [-1] [0, -1]\n",
    "\n",
    "# why is this not also valid?\n",
    "# [0, -1, 0, 0] [-1] [-1]"
   ]
  },
  {
   "cell_type": "code",
   "execution_count": 1,
   "metadata": {},
   "outputs": [
    {
     "output_type": "error",
     "ename": "SyntaxError",
     "evalue": "invalid syntax (<ipython-input-1-3b1af04865ef>, line 25)",
     "traceback": [
      "\u001b[0;36m  File \u001b[0;32m\"<ipython-input-1-3b1af04865ef>\"\u001b[0;36m, line \u001b[0;32m25\u001b[0m\n\u001b[0;31m    print(results_arr):\u001b[0m\n\u001b[0m                       ^\u001b[0m\n\u001b[0;31mSyntaxError\u001b[0m\u001b[0;31m:\u001b[0m invalid syntax\n"
     ]
    }
   ],
   "source": [
    "import copy\n",
    "import copy\n",
    "def threeSplit(a):\n",
    "    a.sort(reverse=True)  #order list\n",
    "    cell_size = int(sum(a)/3)\n",
    "    print('cell size:',cell_size)\n",
    "\n",
    "    curr_sum = 0\n",
    "    curr_item = list()\n",
    "    results_arr = list()\n",
    "\n",
    "    for x in range(len(a)):\n",
    "        curr_sum += a[x]\n",
    "        curr_item.append(a[x])\n",
    "        print('x:',x, curr_sum,curr_item )\n",
    "        if curr_sum == cell_size:\n",
    "            print('total matches cell size')\n",
    "            print('curr_item',curr_item)\n",
    "            extra = copy.deepcopy(curr_item) \n",
    "            results_arr.append(extra)\n",
    "            curr_sum = 0\n",
    "            curr_item.clear()\n",
    "            \n",
    "        \n",
    "    print(results_arr):\n",
    "    a.sort(reverse=True)  #order list\n",
    "    cell_size = int(sum(a)/3)\n",
    "    print('cell size:',cell_size)\n",
    "\n",
    "    curr_sum = 0\n",
    "    curr_item = list()\n",
    "    results_arr = list()\n",
    "\n",
    "    for x in range(len(a)):\n",
    "        curr_sum += a[x]\n",
    "        curr_item.append(a[x])\n",
    "        print('x:',x, curr_sum,curr_item )\n",
    "        if curr_sum == cell_size:\n",
    "            print('total matches cell size')\n",
    "            print('curr_item',curr_item)\n",
    "            extra = copy.deepcopy(curr_item) \n",
    "            results_arr.append(extra)\n",
    "            curr_sum = 0\n",
    "            curr_item.clear()\n",
    "            \n",
    "        \n",
    "    print(results_arr)\n",
    "\n",
    " \n",
    "\n",
    "\n",
    "\n",
    "\n",
    "\n",
    "  \n",
    "\n",
    "a= [0, -1, 0, -1, 0, -1]  \n",
    "ans = 4\n",
    "print('res:',threeSplit(a))\n",
    "print('ans:', ans)"
   ]
  },
  {
   "cell_type": "code",
   "execution_count": null,
   "metadata": {},
   "outputs": [],
   "source": [
    "# a= [0, -1, 0, -1, 0, -1]  ans = 4\n",
    "\n",
    "# [0, -1] [0, -1] [0, -1]\n",
    "# [0, -1] [0, -1, 0] [-1]\n",
    "# [0, -1, 0] [-1, 0] [-1]\n",
    "# [0, -1, 0] [-1] [0, -1]\n",
    "\n",
    "# Number:0 count: 3\n",
    "# results [[[0, -1] [0, -1] [0, -1] ],[[0, -1] [0, -1, 0] [-1]]]\n",
    "\n",
    "\n",
    "\n",
    "# a: [7, 8, 2, 25, -9, 12, 12]"
   ]
  },
  {
   "cell_type": "code",
   "execution_count": 2,
   "metadata": {},
   "outputs": [
    {
     "output_type": "stream",
     "name": "stdout",
     "text": [
      "2 3 -1 -2\n2 4 -1 -2\n2 5 -1 -1\n3 4 -1 -2\n3 5 -1 -1\nres: 4\nans: 4\n"
     ]
    }
   ],
   "source": [
    "def threeSplit(a):\n",
    "    goal = sum(a)/3\n",
    "    ways = 0\n",
    "    sum1 = 0\n",
    "    for i in range(1,len(a)-1):\n",
    "        sum1 += a[i-1]\n",
    "        if sum1==goal:\n",
    "            sum2 = sum(a[i:])\n",
    "            for j in range(i+1,len(a)):\n",
    "                print(i,j,sum1,sum2)\n",
    "                sum2 -= a[j-1]\n",
    "                if sum2==goal:\n",
    "                    ways+=1\n",
    "    return ways\n",
    "\n",
    "a= [0, -1, 0, -1, 0, -1]  \n",
    "ans = 4\n",
    "print('res:',threeSplit(a))\n",
    "print('ans:', ans)"
   ]
  },
  {
   "cell_type": "code",
   "execution_count": null,
   "metadata": {},
   "outputs": [],
   "source": []
  }
 ]
}