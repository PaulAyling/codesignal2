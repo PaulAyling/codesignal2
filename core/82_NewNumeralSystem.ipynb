{
 "metadata": {
  "language_info": {
   "codemirror_mode": {
    "name": "ipython",
    "version": 3
   },
   "file_extension": ".py",
   "mimetype": "text/x-python",
   "name": "python",
   "nbconvert_exporter": "python",
   "pygments_lexer": "ipython3",
   "version": "3.8.3"
  },
  "orig_nbformat": 4,
  "kernelspec": {
   "name": "python3",
   "display_name": "Python 3.8.3 64-bit ('base': conda)"
  },
  "interpreter": {
   "hash": "a8ed6b6aaa83e0c75564d8643a7111be6f47b679c5d32737ff20a5a7a3944855"
  }
 },
 "nbformat": 4,
 "nbformat_minor": 2,
 "cells": [
  {
   "cell_type": "code",
   "execution_count": 58,
   "metadata": {},
   "outputs": [
    {
     "output_type": "stream",
     "name": "stdout",
     "text": [
      "n 0 A + D\nn 2 B + C\nres: ['A + D', 'B + C']\nans: ['A + D', 'B + C']\n"
     ]
    }
   ],
   "source": [
    "import math\n",
    "def newNumeralSystem(number):\n",
    "    alphabet = list(\"ABCDEFGHIJKLMNOPQRSTUVWXYZ\")\n",
    "    # print(alphabet)\n",
    "    number_int =alphabet.index(number)\n",
    "    number_half = math.floor( number_int / 2 )\n",
    "    math_pairs_alph = list()\n",
    "    for n in range(number_half+1): # go halfway through alphabet\n",
    "        other_digit = number_int - n\n",
    "        # print('n',n,number_int - n)\n",
    "        if other_digit < 0:\n",
    "            break\n",
    "        else:\n",
    "            math_pairs_alph.append(alphabet[n])\n",
    "            math_pairs_alph.append(alphabet[other_digit])\n",
    "    res = list()\n",
    "    for n in range(0,len(math_pairs_alph),2):\n",
    "        left = math_pairs_alph[n]\n",
    "        right = math_pairs_alph[n+1]\n",
    "        pair = left +' + '+right\n",
    "        print('n',n,pair)\n",
    "        res.append(pair)\n",
    "\n",
    "    return res\n",
    "\n",
    "number = \"D\"\n",
    "ans = [\"A + D\", \"B + C\"]\n",
    "print('res:',newNumeralSystem(number))\n",
    "print('ans:', ans)"
   ]
  },
  {
   "cell_type": "code",
   "execution_count": 38,
   "metadata": {},
   "outputs": [
    {
     "output_type": "error",
     "ename": "TypeError",
     "evalue": "'int' object is not callable",
     "traceback": [
      "\u001b[0;31m---------------------------------------------------------------------------\u001b[0m",
      "\u001b[0;31mTypeError\u001b[0m                                 Traceback (most recent call last)",
      "\u001b[0;32m<ipython-input-38-30430db9517a>\u001b[0m in \u001b[0;36m<module>\u001b[0;34m\u001b[0m\n\u001b[0;32m----> 1\u001b[0;31m \u001b[0mint\u001b[0m \u001b[0;34m=\u001b[0m \u001b[0mint\u001b[0m\u001b[0;34m(\u001b[0m\u001b[0;36m7\u001b[0m\u001b[0;34m)\u001b[0m\u001b[0;34m\u001b[0m\u001b[0;34m\u001b[0m\u001b[0m\n\u001b[0m\u001b[1;32m      2\u001b[0m \u001b[0mprint\u001b[0m\u001b[0;34m(\u001b[0m\u001b[0;34m'math'\u001b[0m\u001b[0;34m,\u001b[0m \u001b[0mint\u001b[0m\u001b[0;34m/\u001b[0m\u001b[0;36m2\u001b[0m\u001b[0;34m)\u001b[0m\u001b[0;34m\u001b[0m\u001b[0;34m\u001b[0m\u001b[0m\n",
      "\u001b[0;31mTypeError\u001b[0m: 'int' object is not callable"
     ]
    }
   ],
   "source": [
    "int = int(7)\n",
    "print('math', int/2)"
   ]
  },
  {
   "cell_type": "code",
   "execution_count": 43,
   "metadata": {},
   "outputs": [
    {
     "output_type": "stream",
     "name": "stdout",
     "text": [
      "3\n"
     ]
    }
   ],
   "source": [
    "import math\n",
    "number_int = 6\n",
    "number_half = math.floor( number_int / 2 )\n",
    "print(number_half)"
   ]
  },
  {
   "cell_type": "code",
   "execution_count": null,
   "metadata": {},
   "outputs": [],
   "source": []
  }
 ]
}