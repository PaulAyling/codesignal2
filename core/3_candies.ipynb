{
 "cells": [
  {
   "cell_type": "code",
   "execution_count": 2,
   "source": [
    "#n children have got m pieces of candy. They want to eat as much candy as they can, \n",
    "# but each child must eat exactly the same amount of candy as any other child. \n",
    "# Determine how many pieces of candy will be eaten by all the children together. \n",
    "# Individual pieces of candy cannot be split.\n",
    "\n",
    "def candies(n, m):\n",
    "    # n = number of children\n",
    "    # m = candy per child\n",
    "    candies_per_child =  m // n\n",
    "    return candies_per_child * n\n",
    "\n",
    "n= 3\n",
    "m = 10\n",
    "print( candies(n, m))"
   ],
   "outputs": [
    {
     "output_type": "stream",
     "name": "stdout",
     "text": [
      "3\n"
     ]
    }
   ],
   "metadata": {}
  },
  {
   "cell_type": "code",
   "execution_count": null,
   "source": [
    "# origonal version\n",
    "def candies(n, m):\n",
    "\n",
    "# For n = 3 and m =  10, the output should be\n",
    "# candies(n, m) = 9.\n",
    "\n",
    "# is total pool of candy\n",
    "    def printInfo(m_per_child,m_per_child_int):\n",
    "        print('m_per_child',m_per_child)\n",
    "        print('m_per_child_int',m_per_child_int)\n",
    "#1. divide m/10\n",
    "    m_per_child = m / n\n",
    "#2. round down\n",
    "    m_per_child_int = math.floor(m_per_child)\n",
    "    result = m_per_child_int * n\n",
    "    printInfo(m_per_child,m_per_child_int)\n",
    "    return result\n"
   ],
   "outputs": [],
   "metadata": {}
  }
 ],
 "metadata": {
  "orig_nbformat": 4,
  "language_info": {
   "name": "python",
   "version": "3.9.6",
   "mimetype": "text/x-python",
   "codemirror_mode": {
    "name": "ipython",
    "version": 3
   },
   "pygments_lexer": "ipython3",
   "nbconvert_exporter": "python",
   "file_extension": ".py"
  },
  "kernelspec": {
   "name": "python3",
   "display_name": "Python 3.9.6 64-bit"
  },
  "interpreter": {
   "hash": "aee8b7b246df8f9039afb4144a1f6fd8d2ca17a180786b69acc140d282b71a49"
  }
 },
 "nbformat": 4,
 "nbformat_minor": 2
}