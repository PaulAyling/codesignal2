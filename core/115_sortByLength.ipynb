{
 "cells": [
  {
   "cell_type": "code",
   "execution_count": 1,
   "source": [
    "def sortByLength(inputArray):\n",
    "    def createFreq(array):\n",
    "        freq = dict()\n",
    "        for index,item in enumerate(inputArray):\n",
    "            if len(item) in freq:\n",
    "                freq[len(item)].append(item)\n",
    "            else:\n",
    "                freq[len(item)] = [item]\n",
    "        return freq\n",
    "    freq = createFreq(inputArray)\n",
    "    \n",
    "\n",
    "    \n",
    "\n",
    "inputArray = [\"abc\",\"\",\"aaa\",\"a\",\"zz\"]\n",
    "ans = [\"\",\"a\",\"zz\",\"abc\",\"aaa\"]  \n",
    "print(sortByLength(inputArray))"
   ],
   "outputs": [
    {
     "output_type": "error",
     "ename": "IndentationError",
     "evalue": "expected an indented block (799118693.py, line 8)",
     "traceback": [
      "\u001b[0;36m  File \u001b[0;32m\"/var/folders/33/39mbtrs93d3_jzg917g754rm0000gn/T/ipykernel_4935/799118693.py\"\u001b[0;36m, line \u001b[0;32m8\u001b[0m\n\u001b[0;31m    inputArray = [\"abc\",\"\",\"aaa\",\"a\",\"zz\"]\u001b[0m\n\u001b[0m                                          ^\u001b[0m\n\u001b[0;31mIndentationError\u001b[0m\u001b[0;31m:\u001b[0m expected an indented block\n"
     ]
    }
   ],
   "metadata": {}
  },
  {
   "cell_type": "code",
   "execution_count": 4,
   "source": [
    "def myfunc(n):\n",
    "  return len(n)\n",
    "\n",
    "x = map(myfunc, ('apple', 'banana', 'cherry'))\n",
    "print(list(x))"
   ],
   "outputs": [
    {
     "output_type": "stream",
     "name": "stdout",
     "text": [
      "[5, 6, 6]\n"
     ]
    }
   ],
   "metadata": {}
  },
  {
   "cell_type": "code",
   "execution_count": 5,
   "source": [
    "def calLength(n):\n",
    "  return len(n)\n",
    "\n",
    "x = map(myfunc, ('apple', 'banana', 'cherry'))\n",
    "print(list(x))"
   ],
   "outputs": [
    {
     "output_type": "stream",
     "name": "stdout",
     "text": [
      "[5, 6, 6]\n"
     ]
    }
   ],
   "metadata": {}
  },
  {
   "cell_type": "code",
   "execution_count": 9,
   "source": [
    "def createFreq(array):\n",
    "    freq = dict()\n",
    "    for index,item in enumerate(inputArray):\n",
    "        if len(item) in freq:\n",
    "            freq[len(item)].append(item)\n",
    "        else:\n",
    "            freq[len(item)] = [item]\n",
    "    return freq\n",
    "\n",
    "inputArray = [\"abc\",\"\",\"aaa\",\"a\",\"zz\"]\n",
    "print(createFreq(inputArray))"
   ],
   "outputs": [
    {
     "output_type": "stream",
     "name": "stdout",
     "text": [
      "{3: ['abc', 'aaa'], 0: [''], 1: ['a'], 2: ['zz']}\n"
     ]
    }
   ],
   "metadata": {}
  },
  {
   "cell_type": "code",
   "execution_count": null,
   "source": [],
   "outputs": [],
   "metadata": {}
  }
 ],
 "metadata": {
  "orig_nbformat": 4,
  "language_info": {
   "name": "python",
   "version": "3.9.6",
   "mimetype": "text/x-python",
   "codemirror_mode": {
    "name": "ipython",
    "version": 3
   },
   "pygments_lexer": "ipython3",
   "nbconvert_exporter": "python",
   "file_extension": ".py"
  },
  "kernelspec": {
   "name": "python3",
   "display_name": "Python 3.9.6 64-bit"
  },
  "interpreter": {
   "hash": "aee8b7b246df8f9039afb4144a1f6fd8d2ca17a180786b69acc140d282b71a49"
  }
 },
 "nbformat": 4,
 "nbformat_minor": 2
}