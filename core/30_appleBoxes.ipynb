{
 "metadata": {
  "language_info": {
   "codemirror_mode": {
    "name": "ipython",
    "version": 3
   },
   "file_extension": ".py",
   "mimetype": "text/x-python",
   "name": "python",
   "nbconvert_exporter": "python",
   "pygments_lexer": "ipython3",
   "version": "3.8.3"
  },
  "orig_nbformat": 4,
  "kernelspec": {
   "name": "python3",
   "display_name": "Python 3.8.3 64-bit ('base': conda)"
  },
  "interpreter": {
   "hash": "a8ed6b6aaa83e0c75564d8643a7111be6f47b679c5d32737ff20a5a7a3944855"
  }
 },
 "nbformat": 4,
 "nbformat_minor": 2,
 "cells": [
  {
   "cell_type": "code",
   "execution_count": 6,
   "metadata": {},
   "outputs": [
    {
     "output_type": "stream",
     "name": "stdout",
     "text": [
      "l: [1, 2, 3, 4, 5]\n0\n1\n2\n3\n4\nr_y (20, 35)\nMyAns: -15\nans: -15\n"
     ]
    }
   ],
   "source": [
    "def appleBoxes(k):\n",
    "    def create_list(k):\n",
    "        l = [*range(1,k+1, 1)]   \n",
    "        return l\n",
    "    \n",
    "    def calculate_red_yellow(l):\n",
    "        red = 0\n",
    "        yellow = 0\n",
    "        for n in range(len(l)):\n",
    "            print(n)\n",
    "            if n % 2 == 0:\n",
    "                yellow +=  (l[n]) **2\n",
    "            else:\n",
    "                red += (l[n]) **2\n",
    "        return (red,yellow)\n",
    "    \n",
    "    #1 + 3 * 3 + 5 * 5 = 35\n",
    "    l = create_list(k)\n",
    "    print('l:',l)\n",
    "    r_y = calculate_red_yellow(l)\n",
    "    print('r_y',r_y)\n",
    "    return r_y[0] - r_y[1]\n",
    "    \n",
    "k=5\n",
    "ans = -15\n",
    "print('MyAns:',appleBoxes(k))\n",
    "print('ans:',ans)"
   ]
  },
  {
   "cell_type": "code",
   "execution_count": null,
   "metadata": {},
   "outputs": [],
   "source": []
  }
 ]
}