{
 "cells": [
  {
   "cell_type": "markdown",
   "source": [
    "To prepare his students for an upcoming game, the sports coach decides to try some new training drills. To begin with, he lines them up and starts with the following \n",
    "warm-up exercise: when the coach says 'L', he instructs the students to turn to the left. Alternatively, when he says 'R', they should turn to the right. Finally, when the coach says 'A', the students should turn around.\n",
    "\n",
    "Unfortunately some students (not all of them, but at least one) can't tell left from right, meaning they always turn right when they hear 'L' and left when they hear 'R'. The coach wants to know how many times the students end up facing the same direction.\n",
    "\n",
    "Given the list of commands the coach has given, count the number of such commands after which the students will be facing the same direction.\n",
    "\n",
    "Example\n",
    "\n",
    "For commands = \"LLARL\", the output should be\n",
    "lineUp(commands) = 3.\n",
    "\n",
    "Let's say that there are 4 students, and the second one can't tell left from right. In this case, only after the second, third and fifth commands will the students face the same direction."
   ],
   "metadata": {}
  },
  {
   "cell_type": "code",
   "execution_count": 79,
   "source": [
    "def lineUp(commands):\n",
    "    def turnPerson(command,current_direction,obedient):\n",
    "        compass = ['n','e','s','w']\n",
    "        current_compass_pos = compass.index(current_direction)\n",
    "        if command == 'R':\n",
    "            if current_direction == 'w':\n",
    "                print('::1')\n",
    "                return 'n' if obedient == True else 's' \n",
    "            elif current_direction == 'n':\n",
    "                print('::2')\n",
    "                return 'e' if obedient == True else 'w' \n",
    "            else:\n",
    "                print('::3')\n",
    "                return (compass[current_compass_pos+1])if obedient == True else (compass[current_compass_pos-1]) \n",
    "        elif command =='L':\n",
    "            if current_direction == 'w':\n",
    "                print('::L1')\n",
    "                return 's' if obedient == True else 'n' \n",
    "            elif current_direction == 'n':\n",
    "                print('::L2')\n",
    "                return 'w' if obedient == True else 'e' \n",
    "            else:\n",
    "                print('::L3')\n",
    "                return (compass[current_compass_pos-1])if obedient == True else (compass[current_compass_pos+1]) \n",
    "        elif command =='A':\n",
    "            if current_compass_pos < 2:\n",
    "                return compass[current_compass_pos+2]\n",
    "            else:\n",
    "                return compass[current_compass_pos-2]\n",
    "\n",
    "    obedient = 'n'\n",
    "    disobedient ='n'\n",
    "    count = 0\n",
    "    for command in commands:\n",
    "        print(command,':',obedient,disobedient,count)\n",
    "        if obedient == disobedient:\n",
    "            obedient = turnPerson(command,obedient,True)\n",
    "            disobedient = turnPerson(command,disobedient,False)\n",
    "            count +=1\n",
    "            # print(command,':',obedient,disobedient,count)\n",
    "        else:\n",
    "            obedient = turnPerson(command,obedient,True)\n",
    "            disobedient = turnPerson(command,disobedient,False)\n",
    "    return count\n",
    "\n",
    "\n",
    "\n",
    "\n",
    "commands = 'RLR'\n",
    "print(lineUp(commands))"
   ],
   "outputs": [
    {
     "output_type": "stream",
     "name": "stdout",
     "text": [
      "R : n n 0\n",
      "::2\n",
      "::2\n",
      "L : e w 1\n",
      "::L3\n",
      "::L1\n",
      "R : n n 1\n",
      "::2\n",
      "::2\n",
      "2\n"
     ]
    }
   ],
   "metadata": {}
  },
  {
   "cell_type": "code",
   "execution_count": 80,
   "source": [
    "def turnPerson(command,current_direction,obedient):\n",
    "        compass = ['n','e','s','w']\n",
    "        current_compass_pos = compass.index(current_direction)\n",
    "        if command == 'R':\n",
    "            if current_direction == 'w':\n",
    "                return 'n' if obedient == True else 's' \n",
    "            else:\n",
    "                return (compass[current_compass_pos+1])if obedient == True else (compass[current_compass_pos-1]) \n",
    "        elif command =='L':\n",
    "            if current_direction == 'n':\n",
    "                return 'w' if obedient == True else 'e' \n",
    "            else:\n",
    "                return (compass[current_compass_pos-1])if obedient == True else (compass[current_compass_pos+1]) \n",
    "        elif command =='A':\n",
    "            if current_compass_pos < 2:\n",
    "                return compass[current_compass_pos+2]\n",
    "            else:\n",
    "                return compass[current_compass_pos-2]\n",
    "command = 'R'\n",
    "current_direction = 'w'\n",
    "obedient = False\n",
    "print(turnPerson(command,current_direction,obedient))\n",
    "       "
   ],
   "outputs": [
    {
     "output_type": "stream",
     "name": "stdout",
     "text": [
      "s\n"
     ]
    }
   ],
   "metadata": {}
  },
  {
   "cell_type": "code",
   "execution_count": 13,
   "source": [
    "def lineUp(commands):\n",
    "    crazy = False\n",
    "    total = 0\n",
    "    for command in commands:\n",
    "        print('command',command)\n",
    "        if command == 'L' or command == 'R':\n",
    "            crazy = not crazy\n",
    "            print('wierd',crazy)\n",
    "        if crazy == False:\n",
    "            total += 1\n",
    "    return total\n",
    "commands = 'LLARL'\n",
    "lineUp(commands)"
   ],
   "outputs": [
    {
     "output_type": "stream",
     "name": "stdout",
     "text": [
      "command L\n",
      "wierd True\n",
      "command L\n",
      "wierd False\n",
      "command A\n",
      "command R\n",
      "wierd True\n",
      "command L\n",
      "wierd False\n"
     ]
    },
    {
     "output_type": "execute_result",
     "data": {
      "text/plain": [
       "3"
      ]
     },
     "metadata": {},
     "execution_count": 13
    }
   ],
   "metadata": {}
  },
  {
   "cell_type": "code",
   "execution_count": 7,
   "source": [
    "weird = True\n",
    "\n",
    "if not weird:\n",
    "    print(' fgdsfsd')    "
   ],
   "outputs": [],
   "metadata": {}
  },
  {
   "cell_type": "code",
   "execution_count": null,
   "source": [],
   "outputs": [],
   "metadata": {}
  }
 ],
 "metadata": {
  "orig_nbformat": 4,
  "language_info": {
   "name": "python",
   "version": "3.9.6",
   "mimetype": "text/x-python",
   "codemirror_mode": {
    "name": "ipython",
    "version": 3
   },
   "pygments_lexer": "ipython3",
   "nbconvert_exporter": "python",
   "file_extension": ".py"
  },
  "kernelspec": {
   "name": "python3",
   "display_name": "Python 3.9.6 64-bit"
  },
  "interpreter": {
   "hash": "aee8b7b246df8f9039afb4144a1f6fd8d2ca17a180786b69acc140d282b71a49"
  }
 },
 "nbformat": 4,
 "nbformat_minor": 2
}