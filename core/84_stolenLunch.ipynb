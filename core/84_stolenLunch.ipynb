{
 "cells": [
  {
   "cell_type": "code",
   "execution_count": 24,
   "source": [
    "def stolenLunch(note):\n",
    "    alp_list = list(map(chr, range(97, 107)))\n",
    "    print(alp_list)\n",
    "    def decode(char):\n",
    "        print(char,':',ord(char))\n",
    "        # is a-j?\n",
    "        if ord(char) in range(97, 107):\n",
    "            return str(alp_list.index(char))\n",
    "        if ord(char) in range(48, 58):\n",
    "            return str(alp_list[int(char)])\n",
    "        else:\n",
    "            return str(char)\n",
    "    res = list(map(decode, note))\n",
    "    return ''.join(res)\n",
    "\n",
    "\n",
    "\n",
    "note =  \"you'll n4v4r 6u4ss 8t: cdja\"\n",
    "ans =   \"you'll never guess it: 2390\"\n",
    "print('ans',ans)\n",
    "print('myAns',stolenLunch(note))\n"
   ],
   "outputs": [
    {
     "output_type": "stream",
     "name": "stdout",
     "text": [
      "ans you'll never guess it: 2390\n",
      "['a', 'b', 'c', 'd', 'e', 'f', 'g', 'h', 'i', 'j']\n",
      "y : 121\n",
      "o : 111\n",
      "u : 117\n",
      "' : 39\n",
      "l : 108\n",
      "l : 108\n",
      "  : 32\n",
      "n : 110\n",
      "4 : 52\n",
      "v : 118\n",
      "4 : 52\n",
      "r : 114\n",
      "  : 32\n",
      "6 : 54\n",
      "u : 117\n",
      "4 : 52\n",
      "s : 115\n",
      "s : 115\n",
      "  : 32\n",
      "8 : 56\n",
      "t : 116\n",
      ": : 58\n",
      "  : 32\n",
      "c : 99\n",
      "d : 100\n",
      "j : 106\n",
      "a : 97\n",
      "myAns you'll never guess it: 2390\n"
     ]
    }
   ],
   "metadata": {}
  },
  {
   "cell_type": "code",
   "execution_count": null,
   "source": [],
   "outputs": [],
   "metadata": {}
  }
 ],
 "metadata": {
  "interpreter": {
   "hash": "a8ed6b6aaa83e0c75564d8643a7111be6f47b679c5d32737ff20a5a7a3944855"
  },
  "kernelspec": {
   "display_name": "Python 3.8.5 64-bit ('base': conda)",
   "name": "python3"
  },
  "language_info": {
   "name": "python",
   "version": ""
  },
  "orig_nbformat": 4
 },
 "nbformat": 4,
 "nbformat_minor": 2
}