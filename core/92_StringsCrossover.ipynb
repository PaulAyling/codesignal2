{
 "metadata": {
  "language_info": {
   "codemirror_mode": {
    "name": "ipython",
    "version": 3
   },
   "file_extension": ".py",
   "mimetype": "text/x-python",
   "name": "python",
   "nbconvert_exporter": "python",
   "pygments_lexer": "ipython3",
   "version": "3.8.3"
  },
  "orig_nbformat": 4,
  "kernelspec": {
   "name": "python3",
   "display_name": "Python 3.8.3 64-bit ('base': conda)"
  },
  "interpreter": {
   "hash": "a8ed6b6aaa83e0c75564d8643a7111be6f47b679c5d32737ff20a5a7a3944855"
  }
 },
 "nbformat": 4,
 "nbformat_minor": 2,
 "cells": [
  {
   "cell_type": "code",
   "execution_count": 42,
   "metadata": {},
   "outputs": [
    {
     "output_type": "stream",
     "name": "stdout",
     "text": [
      "All Crossovers: ['abc', 'aaa', 'aba', 'aab', 'aba', 'aaa', 'aaa', 'bab', 'abc', 'aba', 'aba', 'aaa', 'bab', 'bab', 'bab', 'bab']\n{'abc': 2, 'aaa': 4, 'aba': 4, 'aab': 1, 'bab': 5}\n"
     ]
    }
   ],
   "source": [
    "import random\n",
    "def stringsCrossover(inputArray, result):\n",
    "    def pickOne(a,b):\n",
    "        randInt = random.randint(0,1)\n",
    "        if randInt == 0:\n",
    "            return a\n",
    "        else: \n",
    "            return b\n",
    "    def crossString(string1,string2):\n",
    "        # print('crossString','st1',string1,'st2',string2)\n",
    "        l1 = list(string1)\n",
    "        l2 = list(string2)\n",
    "        res = ''\n",
    "        for n in range(len(string1)):\n",
    "            new_char = pickOne(l1[n],l2[n])\n",
    "            res = res + str(new_char)\n",
    "        return res\n",
    "    def createFreq(l):\n",
    "        res = dict()\n",
    "        for item in l:\n",
    "            if (item in res):\n",
    "                res[item] += 1\n",
    "            else:\n",
    "                res[item] = 1\n",
    "        return res\n",
    "\n",
    "    all_crossovers = list()\n",
    "    for x in range(len(inputArray)):\n",
    "        for y in range(len(inputArray)):\n",
    "            if x == y:\n",
    "                pass\n",
    "            cur_st = crossString(inputArray[x],inputArray[y])\n",
    "            all_crossovers.append(cur_st)\n",
    "    print('All Crossovers:',all_crossovers)\n",
    "\n",
    "    #FINAL EVAL\n",
    "    freq = createFreq(all_crossovers)\n",
    "    print(freq)\n",
    "\n",
    "\n",
    "inputArray = [\"abc\", \"aaa\", \"aba\", \"bab\"]     \n",
    "result = \"bbb\"      \n",
    "ans:  2\n",
    "stringsCrossover(inputArray, result)\n"
   ]
  },
  {
   "cell_type": "code",
   "execution_count": 19,
   "metadata": {},
   "outputs": [
    {
     "output_type": "stream",
     "name": "stdout",
     "text": [
      "s\nt\no\nl\ne\n\n"
     ]
    }
   ],
   "source": [
    "import random\n",
    "def pickOne(a,b):\n",
    "    randInt = random.randint(0,1)\n",
    "    if randInt == 0:\n",
    "        return a\n",
    "    else: \n",
    "        return b\n",
    "def crossString(string1,string2):\n",
    "    l1 = list(string1)\n",
    "    l2 = list(string2)\n",
    "    result = ''\n",
    "    for n in range(len(string1)):\n",
    "        new_char = pickOne(l1[n],l2[n])\n",
    "        print(new_char)\n",
    "    return result\n",
    "\n",
    "string1 = 'silly'\n",
    "string2 = 'stone'\n",
    "print(crossString(string1,string2))"
   ]
  },
  {
   "cell_type": "code",
   "execution_count": 18,
   "metadata": {},
   "outputs": [
    {
     "output_type": "stream",
     "name": "stdout",
     "text": [
      "b\n"
     ]
    }
   ],
   "source": [
    "def pickOne(a,b):\n",
    "    randInt = random.randint(0,1)\n",
    "    if randInt == 0:\n",
    "        return a\n",
    "    else: \n",
    "        return b\n",
    "a='a'\n",
    "b='b'        \n",
    "print(pickOne(a,b))"
   ]
  },
  {
   "cell_type": "code",
   "execution_count": null,
   "metadata": {},
   "outputs": [],
   "source": []
  },
  {
   "cell_type": "code",
   "execution_count": 36,
   "metadata": {},
   "outputs": [
    {
     "output_type": "stream",
     "name": "stdout",
     "text": [
      "{'1': 2, '2': 1}\n"
     ]
    }
   ],
   "source": [
    "def createFreq(l):\n",
    "    result = dict()\n",
    "    for item in l:\n",
    "        if (item in result):\n",
    "            result[item] += 1\n",
    "        else:\n",
    "            result[item] = 1\n",
    "    return result\n",
    "l=['1','2','1']\n",
    "print(createFreq(l))"
   ]
  },
  {
   "cell_type": "code",
   "execution_count": null,
   "metadata": {},
   "outputs": [],
   "source": []
  }
 ]
}