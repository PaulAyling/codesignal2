{
 "cells": [
  {
   "cell_type": "code",
   "execution_count": null,
   "source": [
    "# NIGELS CODE\n",
    "def digitsProduct(product):\n",
    "  def createDivisors(numbers):\n",
    "    divisors = list()\n",
    "    n= 9\n",
    "    exitLoop = False\n",
    "    while exitLoop is False:\n",
    "      if numbers % n == 0:\n",
    "        divisors.append(n)\n",
    "        numbers = numbers / n\n",
    "      else:\n",
    "        n -= 1\n",
    "        if n < 2:\n",
    "          exitLoop = True\n",
    "          if numbers > 1:\n",
    "            divisors = [0]  \n",
    "    print('divisors',divisors)\n",
    "    result = divisors\n",
    "    return result\n",
    "\n",
    "  def reorderDivisors(divisorList):\n",
    "    sortedl =  sorted(divisorList)\n",
    "    result = int(''.join(str(e) for e in sortedl))\n",
    "    return result\n",
    "\n",
    "#REMOVE ANOMOPLOUS INPUTS  \n",
    "  if product == 0:\n",
    "    return 10\n",
    "  if product == 1:\n",
    "    return 1\n",
    "\n",
    "  divisorList = createDivisors(product)\n",
    "  if divisorList ==[0]:\n",
    "    return -1 \n",
    "  result = reorderDivisors(divisorList)\n",
    "  return result"
   ],
   "outputs": [],
   "metadata": {}
  }
 ],
 "metadata": {
  "orig_nbformat": 4,
  "language_info": {
   "name": "python"
  }
 },
 "nbformat": 4,
 "nbformat_minor": 2
}