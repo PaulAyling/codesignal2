{
 "cells": [
  {
   "cell_type": "code",
   "execution_count": 1,
   "source": [
    "def maxMultiple(divisor, bound):\n",
    "    biggestMultiple = bound // divisor\n",
    "    return biggestMultiple* divisor\n",
    "\n",
    "\n",
    "divisor = 3 \n",
    "bound = 10 \n",
    "ans = 9\n",
    "print(maxMultiple(divisor, bound), 'ans:',ans)\n"
   ],
   "outputs": [
    {
     "output_type": "stream",
     "name": "stdout",
     "text": [
      "9 ans: 9\n"
     ]
    }
   ],
   "metadata": {}
  },
  {
   "cell_type": "code",
   "execution_count": null,
   "source": [
    "#old\n",
    "def maxMultiple(divisor, bound):\n",
    "\n",
    "#For divisor = 3 and bound = 10, the output should be\n",
    "#maxMultiple(divisor, bound) = 9.\n",
    "\n",
    "#The largest integer divisible by 3 and not larger than 10 is 9.\n",
    "\n",
    "#divisor = 3\n",
    "#bound = 10\n",
    "#result = 9\n",
    "\n",
    "# create mulitplyer = bound / divisor\n",
    "# create multiplyer_in ()round down\n",
    "# create result = multiplyer_int * divisor\n",
    "\n",
    "# create mulitplyer = bound / divisor\n",
    "    multi = bound / divisor\n",
    "# create multiplyer_in ()round down\n",
    "    multi_int = math.floor(multi)\n",
    "# create result = multiplyer_int * divisor\n",
    "    result = multi_int * divisor\n",
    "    return result\n",
    "#"
   ],
   "outputs": [],
   "metadata": {}
  }
 ],
 "metadata": {
  "orig_nbformat": 4,
  "language_info": {
   "name": "python",
   "version": "3.9.6",
   "mimetype": "text/x-python",
   "codemirror_mode": {
    "name": "ipython",
    "version": 3
   },
   "pygments_lexer": "ipython3",
   "nbconvert_exporter": "python",
   "file_extension": ".py"
  },
  "kernelspec": {
   "name": "python3",
   "display_name": "Python 3.9.6 64-bit"
  },
  "interpreter": {
   "hash": "aee8b7b246df8f9039afb4144a1f6fd8d2ca17a180786b69acc140d282b71a49"
  }
 },
 "nbformat": 4,
 "nbformat_minor": 2
}