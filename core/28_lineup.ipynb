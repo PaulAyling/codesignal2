{
 "cells": [
  {
   "cell_type": "code",
   "execution_count": null,
   "source": [
    "def lineup(commands):\n",
    "  \n",
    "\n"
   ],
   "outputs": [],
   "metadata": {}
  },
  {
   "cell_type": "code",
   "execution_count": null,
   "source": [
    "commands = 'LLARL'\n",
    "ans = 3\n",
    "commands = 'RLR'\n",
    "ans = 1\n",
    "# AAAA\n",
    "# LRLR    (2 STUDENTS CANNOT TELL LEFT FROM RIGHT)\n",
    "# BBBB    (ALL IN SAME DIRECTION NOW) \n",
    "\n",
    "# AAAA\n",
    "# LRLR    (2 STUDENTS CANNOT TELL LEFT FROM RIGHT)\n",
    "# BBBB    (ALL IN SAME DIRECTION NOW) \n"
   ],
   "outputs": [],
   "metadata": {}
  },
  {
   "cell_type": "code",
   "execution_count": null,
   "source": [
    "commands = 'LLARL'\n",
    "ANS = 3\n",
    "print(lineup(commands))\n",
    "print('ans',ans)\n",
    "\n",
    "\n"
   ],
   "outputs": [],
   "metadata": {}
  },
  {
   "cell_type": "code",
   "execution_count": 5,
   "source": [
    "def lineUp(commands):\n",
    "    active = True\n",
    "    result = 0\n",
    "    for i in commands:\n",
    "        if(i==\"L\"or i==\"R\"):\n",
    "            active = not active\n",
    "        if(active): result+=1\n",
    "        print(i,active,result)\n",
    "    return result\n",
    "\n",
    "commands = 'RLR'\n",
    "lineUp(commands)\n",
    "\n",
    "ffff\n",
    "abab\n",
    "ffff\n",
    "\n",
    "\n"
   ],
   "outputs": [
    {
     "output_type": "stream",
     "name": "stdout",
     "text": [
      "R False 0\n",
      "L True 1\n",
      "R False 1\n"
     ]
    },
    {
     "output_type": "execute_result",
     "data": {
      "text/plain": [
       "1"
      ]
     },
     "metadata": {},
     "execution_count": 5
    }
   ],
   "metadata": {}
  },
  {
   "cell_type": "code",
   "execution_count": null,
   "source": [],
   "outputs": [],
   "metadata": {}
  }
 ],
 "metadata": {
  "orig_nbformat": 4,
  "language_info": {
   "name": "python",
   "version": "3.8.3",
   "mimetype": "text/x-python",
   "codemirror_mode": {
    "name": "ipython",
    "version": 3
   },
   "pygments_lexer": "ipython3",
   "nbconvert_exporter": "python",
   "file_extension": ".py"
  },
  "kernelspec": {
   "name": "python3",
   "display_name": "Python 3.8.3 64-bit ('base': conda)"
  },
  "interpreter": {
   "hash": "a8ed6b6aaa83e0c75564d8643a7111be6f47b679c5d32737ff20a5a7a3944855"
  }
 },
 "nbformat": 4,
 "nbformat_minor": 2
}