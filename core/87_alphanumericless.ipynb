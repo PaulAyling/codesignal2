{
 "cells": [
  {
   "cell_type": "code",
   "execution_count": 1,
   "source": [
    "def is_nbr(char):\n",
    "  return True if ord(char) in range(48,58) else False\n",
    "def tokenList(string):\n",
    "  res = ''\n",
    "  buffer = ''\n",
    "  buffer_is_nbr = is_nbr(string[0])\n",
    "  for item in string:\n",
    "    if is_nbr(item) != buffer_is_nbr:\n",
    "      res += ','+item\n",
    "      buffer_is_nbr = is_nbr(item)\n",
    "    else:\n",
    "      res += item\n",
    "  return res.split(\",\")\n",
    "\n",
    "def evaluate_token(t1,t2):\n",
    "  if is_nbr(t1[0]) == False and is_nbr(t2[0]) == True:\n",
    "    return True\n",
    "  elif is_nbr(t1[0]) == True and is_nbr(t2[0]) == False:\n",
    "    return False\n",
    "  #Number\n",
    "  elif is_nbr(t1[0]) == True and is_nbr(t2[0]) == True:\n",
    "    if t1 == t2: #strings are equal\n",
    "      pass\n",
    "    else:\n",
    "      if int(t1) == int(t2): #values are equal\n",
    "        if    len(t1) > len(t2):\n",
    "          return True\n",
    "        elif  len(t1) < len(t2): \n",
    "          return False\n",
    "  #Chars\n",
    "  elif is_nbr(t1[0]) == False and is_nbr(t2[0]) == False:\n",
    "    return True if t2 > t1 else False\n",
    "\n",
    "\n"
   ],
   "outputs": [],
   "metadata": {}
  },
  {
   "cell_type": "code",
   "execution_count": 2,
   "source": [
    "def alphanumericLess(s1, s2):\n",
    "  token_1 = tokenList(s1)\n",
    "  token_2 = tokenList(s2)\n",
    "  print('token_1',token_1,'token_2',token_2)\n",
    "  for n in range(len(token_1)):\n",
    "    # print(n,token_1[n],token_2[n],evaluate_token(token_1[n],token_2[n]))\n",
    "    print(n,token_1[n],token_2[n],evaluate_token(token_1[n],token_2[n]))\n",
    "    \n",
    "\n",
    "\n",
    "        #s1  smaller  #s2\n",
    "# test = ('a'         ,'a1'           ,True)  #a=a \"\"<1               TRUE\n",
    "# test = ('ab'        ,'a1'           ,False) #a=a b>1                TRUE\n",
    "# test = ('b'         ,'a1'           ,False) #b>a \"\"<1               ?\n",
    "# test = ('x11y012'   ,'x011y13'      ,True)  #x=x 11=011 y=y 012<13  TRUE\n",
    "\n",
    "# test = ('ab123'     ,'ab34z'        ,False) #ab=ab 123>34 \"\"<z\n",
    "test = ('0000'      ,'000'          ,True)  #0=0\n",
    "print('myAns',alphanumericLess(test[0], test[1]),'correctAns:',test[2])\n",
    "\n",
    "#we evaluate the first token and at that point we decide"
   ],
   "outputs": [
    {
     "output_type": "stream",
     "name": "stdout",
     "text": [
      "token_1 ['0000'] token_2 ['000']\n",
      "0 0000 000 True\n",
      "myAns None correctAns: True\n"
     ]
    }
   ],
   "metadata": {}
  },
  {
   "cell_type": "code",
   "execution_count": null,
   "source": [],
   "outputs": [],
   "metadata": {}
  },
  {
   "cell_type": "code",
   "execution_count": 3,
   "source": [
    "def alphanumericLess(s1, s2):\n",
    "  def is_nbr(char):\n",
    "    return True if ord(char) in range(48,58) else False\n",
    "  def tokenList(string):\n",
    "    res = ''\n",
    "    buffer = ''\n",
    "    buffer_is_nbr = is_nbr(string[0])\n",
    "    for item in string:\n",
    "      if is_nbr(item) != buffer_is_nbr:\n",
    "        res += ','+item\n",
    "        buffer_is_nbr = is_nbr(item)\n",
    "      else:\n",
    "        res += item\n",
    "    return res.split(\",\")\n",
    "\n",
    "  def evaluate_token(t1,t2):\n",
    "    if is_nbr(t1[0]) == False and is_nbr(t2[0]) == True:\n",
    "      return True\n",
    "    elif is_nbr(t1[0]) == True and is_nbr(t2[0]) == False:\n",
    "      return False\n",
    "    #Number\n",
    "    elif is_nbr(t1[0]) == True and is_nbr(t2[0]) == True:\n",
    "      if t1 == t2: #strings are equal\n",
    "        pass\n",
    "      else:\n",
    "        if int(t1) == int(t2): #values are equal\n",
    "          if    len(t1) > len(t2):\n",
    "            return True\n",
    "          elif  len(t1) < len(t2): \n",
    "            return False\n",
    "    #Chars\n",
    "    elif is_nbr(t1[0]) == False and is_nbr(t2[0]) == False:\n",
    "      return True if t2 > t1 else False\n",
    "      \n",
    "  token_1 = tokenList(s1)\n",
    "  token_2 = tokenList(s2)\n",
    "  for n in range(len(token_1)):\n",
    "    # print(n,token_1[n],token_2[n],evaluate_token(token_1[n],token_2[n]))\n",
    "    print(n,token_1[n],token_2[n],evaluate_token(token_1[n],token_2[n]))\n",
    "  \n",
    "    \n",
    "\n"
   ],
   "outputs": [],
   "metadata": {}
  },
  {
   "cell_type": "code",
   "execution_count": 5,
   "source": [
    "\n",
    "        #s1  smaller  #s2\n",
    "test = ('a'         ,'a1'           ,True)  #a=a \"\"<1               TRUE\n",
    "# test = ('ab'        ,'a1'           ,False) #a=a b>1                TRUE\n",
    "# test = ('b'         ,'a1'           ,False) #b>a \"\"<1               ?\n",
    "# test = ('x11y012'   ,'x011y13'      ,True)  #x=x 11=011 y=y 012<13  TRUE\n",
    "\n",
    "# test = ('ab123'     ,'ab34z'        ,False) #ab=ab 123>34 \"\"<z\n",
    "# test = ('0000'      ,'000'          ,True)  #0=0\n",
    "print('myAns',alphanumericLess(test[0], test[1]),'correctAns:',test[2])"
   ],
   "outputs": [
    {
     "output_type": "stream",
     "name": "stdout",
     "text": [
      "0 a a False\n",
      "myAns None correctAns: True\n"
     ]
    }
   ],
   "metadata": {}
  },
  {
   "cell_type": "code",
   "execution_count": null,
   "source": [],
   "outputs": [],
   "metadata": {}
  }
 ],
 "metadata": {
  "orig_nbformat": 4,
  "language_info": {
   "name": "python"
  }
 },
 "nbformat": 4,
 "nbformat_minor": 2
}