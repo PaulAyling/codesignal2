{
 "cells": [
  {
   "cell_type": "code",
   "execution_count": 18,
   "source": [
    "def seatsInTheater(nCols, nRows, col, row):\n",
    "    #ncols = total width of all seating cols\n",
    "    #nrows = same (rows)\n",
    "    #col = the col where the person is seated\n",
    "    #row = row where person is seated\n",
    "\n",
    "    # How many behind you and to your left\n",
    "    print(nCols, nRows, col, row)\n",
    "    rows_behind = nRows - row\n",
    "    cols_behind = nCols - col\n",
    "    print(rows_behind,cols_behind)\n",
    "    return rows_behind * (cols_behind+1)\n",
    "\n",
    "(nCols, nRows, col, row) = [16,11,5,3]\n",
    "print(seatsInTheater(nCols, nRows, col, row))\n"
   ],
   "outputs": [
    {
     "output_type": "stream",
     "name": "stdout",
     "text": [
      "16 11 5 3\n",
      "8 11\n",
      "96\n"
     ]
    }
   ],
   "metadata": {}
  },
  {
   "cell_type": "code",
   "execution_count": 4,
   "source": [
    "print(12*8)\n"
   ],
   "outputs": [
    {
     "output_type": "stream",
     "name": "stdout",
     "text": [
      "96\n"
     ]
    }
   ],
   "metadata": {}
  },
  {
   "cell_type": "code",
   "execution_count": null,
   "source": [
    "# old code\n",
    "def seatsInTheater(nCols, nRows, col, row):\n",
    "\n",
    "#For nCols = 16, nRows = 11, col = 5, and row = 3, the output should #  be seatsInTheater(nCols, nRows, col, row) = 96\n",
    "\n",
    "    def printI(nRows,row,rows_behind,nCols,col,cols_behind,result):\n",
    "        print('nRows:',nRows,'row',row,'rows_behind',rows_behind)\n",
    "        print('nCols:',nCols,'col',col,'cols_behind',cols_behind)\n",
    "\n",
    "    rows_behind = nRows - row\n",
    "    cols_behind = nCols - col + 1\n",
    "    result =  rows_behind * cols_behind\n",
    "    printI(nRows,row,rows_behind,nCols,col,cols_behind,result)\n",
    "    return result"
   ],
   "outputs": [],
   "metadata": {}
  }
 ],
 "metadata": {
  "orig_nbformat": 4,
  "language_info": {
   "name": "python",
   "version": "3.9.6",
   "mimetype": "text/x-python",
   "codemirror_mode": {
    "name": "ipython",
    "version": 3
   },
   "pygments_lexer": "ipython3",
   "nbconvert_exporter": "python",
   "file_extension": ".py"
  },
  "kernelspec": {
   "name": "python3",
   "display_name": "Python 3.9.6 64-bit"
  },
  "interpreter": {
   "hash": "aee8b7b246df8f9039afb4144a1f6fd8d2ca17a180786b69acc140d282b71a49"
  }
 },
 "nbformat": 4,
 "nbformat_minor": 2
}