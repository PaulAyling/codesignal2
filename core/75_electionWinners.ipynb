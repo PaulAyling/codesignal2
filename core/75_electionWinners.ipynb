{
 "metadata": {
  "language_info": {
   "codemirror_mode": {
    "name": "ipython",
    "version": 3
   },
   "file_extension": ".py",
   "mimetype": "text/x-python",
   "name": "python",
   "nbconvert_exporter": "python",
   "pygments_lexer": "ipython3",
   "version": "3.8.3"
  },
  "orig_nbformat": 4,
  "kernelspec": {
   "name": "python3",
   "display_name": "Python 3.8.3 64-bit ('base': conda)"
  },
  "interpreter": {
   "hash": "a8ed6b6aaa83e0c75564d8643a7111be6f47b679c5d32737ff20a5a7a3944855"
  }
 },
 "nbformat": 4,
 "nbformat_minor": 2,
 "cells": [
  {
   "cell_type": "code",
   "execution_count": 23,
   "metadata": {},
   "outputs": [
    {
     "output_type": "stream",
     "name": "stdout",
     "text": [
      "nbr maxes 2\nvotes_plusk [1, 3, 3, 1, 1]\nvotes_aboveLeader []\nMy Answer is: 0\nCorrent Answer: 0\n"
     ]
    }
   ],
   "source": [
    "def electionsWinners(votes, k):\n",
    "    def addK(vote):\n",
    "        return vote + k\n",
    "    def removeNoHopers(vote):\n",
    "        return vote > leading_vote\n",
    "    def countMaxes(vote):\n",
    "        max_val = max(votes)\n",
    "        return vote == max_val\n",
    "\n",
    "    #Prepare data\n",
    "    nbr_leaders = len(list(filter(countMaxes, votes)))\n",
    "    print('nbr maxes', nbr_leaders)\n",
    "    leading_vote = max(votes)    \n",
    "    votes_plusk = list(map(addK,votes))\n",
    "    print('votes_plusk',votes_plusk)\n",
    "    votes_aboveLeader = list(filter(removeNoHopers,votes_plusk))\n",
    "    print('votes_aboveLeader',votes_aboveLeader)\n",
    "    # program\n",
    "    if k == 0 and nbr_leaders == 1:\n",
    "        return 1\n",
    "    elif k == 0 and nbr_leaders > 1:\n",
    "        return 0\n",
    "    else:\n",
    "        return len(votes_aboveLeader)\n",
    "\n",
    "\n",
    "votes = [1, 3, 3, 1, 1]\n",
    "k = 0\n",
    "ans = 0    \n",
    "print('My Answer is:',electionsWinners(votes, k))\n",
    "print('Corrent Answer:',ans)"
   ]
  },
  {
   "cell_type": "code",
   "execution_count": 16,
   "metadata": {},
   "outputs": [
    {
     "output_type": "stream",
     "name": "stdout",
     "text": [
      "[1, 2]\n"
     ]
    }
   ],
   "source": [
    "a_list = [1, 3, 3, 1, 1]\n",
    "max_value = max(a_list)\n",
    "indices = [index for index, value in enumerate(a_list) if value == max_value]\n",
    "print(indices)\n"
   ]
  },
  {
   "cell_type": "code",
   "execution_count": 25,
   "metadata": {},
   "outputs": [
    {
     "output_type": "execute_result",
     "data": {
      "text/plain": [
       "2"
      ]
     },
     "metadata": {},
     "execution_count": 25
    }
   ],
   "source": [
    "# final answer\n",
    "def electionWinners(votes,k):\n",
    "    count_winner = 0\n",
    "    max_vote = max(votes)\n",
    "    if k == 0 and votes.count(max_vote) == 1:\n",
    "        return 1\n",
    "    for vote in votes:\n",
    "        if(vote + k > max_vote):\n",
    "            count_winner +=1\n",
    "    return count_winner\n",
    "votes = [1,1,4,5,3]\n",
    "k = 2\n",
    "electionWinners(votes,k)"
   ]
  },
  {
   "cell_type": "code",
   "execution_count": 29,
   "metadata": {},
   "outputs": [
    {
     "output_type": "stream",
     "name": "stdout",
     "text": [
      "2\n"
     ]
    }
   ],
   "source": [
    "votes = [1,1,4,5,3,5]\n",
    "max_vote = max(votes)\n",
    "print(votes.count(max_vote))"
   ]
  },
  {
   "cell_type": "code",
   "execution_count": null,
   "metadata": {},
   "outputs": [],
   "source": []
  }
 ]
}