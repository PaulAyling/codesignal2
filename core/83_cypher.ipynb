{
 "metadata": {
  "language_info": {
   "codemirror_mode": {
    "name": "ipython",
    "version": 3
   },
   "file_extension": ".py",
   "mimetype": "text/x-python",
   "name": "python",
   "nbconvert_exporter": "python",
   "pygments_lexer": "ipython3",
   "version": "3.8.3"
  },
  "orig_nbformat": 4,
  "kernelspec": {
   "name": "python3",
   "display_name": "Python 3.8.3 64-bit ('base': conda)"
  },
  "interpreter": {
   "hash": "a8ed6b6aaa83e0c75564d8643a7111be6f47b679c5d32737ff20a5a7a3944855"
  }
 },
 "nbformat": 4,
 "nbformat_minor": 2,
 "cells": [
  {
   "cell_type": "code",
   "execution_count": null,
   "metadata": {},
   "outputs": [],
   "source": [
    "# why is this difficult ?\n",
    "# becuase the example is for encrypting not how to decrypt.\n",
    "# You have to reverse engineer that.\n",
    "\n",
    "\n",
    "# PLAN \n",
    "# BUILD ENCRYPTER\n",
    "# BUILD DECRYPTER AFTER\n"
   ]
  },
  {
   "cell_type": "code",
   "execution_count": null,
   "metadata": {},
   "outputs": [],
   "source": [
    "def cipher26(message):\n",
    "    alphabet = list(\"abcdefghijklmnopqrstuvwxyz\")\n",
    "    def charToInt(char):\n",
    "        return alphabet.index(char)\n",
    "    def unencrypt(prevSum,cur): #msg\n",
    "        if prevSum + cur < 26:\n",
    "            orig_int = 26 - (prevSum + cur )\n",
    "            return alphabet[orig_int]\n",
    "        else:\n",
    "            orig_int = (prevSum  % 26) - cur\n",
    "            return alphabet[orig_int]\n",
    "        return result\n",
    "\n",
    "    result = [message[0]]\n",
    "    prevSum = charToInt(message[0])\n",
    "    print('leftSum', prevSum)\n",
    "    print('result', result)\n",
    "    for n in range(1,len(message)):\n",
    "        print(n)\n",
    "        cur = charToInt(char)\n",
    "        orig = unencrypt(prevSum,cur)\n",
    "        result.append(orig)\n",
    "        prevSum += charToInt(orig)\n",
    "    return result\n",
    "\n",
    "message = \"taiaiaertkixquxjnfxxdh\"      \n",
    "ans= \"thisisencryptedmessage\"\n",
    "print('res',cipher26(message))\n",
    "print('ans', ans)\n",
    "\n",
    "\n",
    "message = 'df'\n",
    "cipher26(message)"
   ]
  },
  {
   "cell_type": "code",
   "execution_count": 178,
   "metadata": {},
   "outputs": [
    {
     "output_type": "stream",
     "name": "stdout",
     "text": [
      "alphabet=26 prevSum:t=19 cur=0 ans:h=7\nunencrypt res: 7\nunencrypt res: 7\nmessage[1] a AIM: h 7 ANS:# 7 h\nunencrypt res: 28\nmessage[2] i AIM: i 8 ANS:# 28\ni: 8\n"
     ]
    }
   ],
   "source": [
    "def charToInt(char):\n",
    "    return alphabet.index(char)\n",
    "def unencrypt(prevSum,cur): #msg\n",
    "    if prevSum < 26:\n",
    "        res =  (cur  % 26) +(26 - prevSum)\n",
    "        print('unencrypt res:', res)\n",
    "        return res\n",
    "    else:\n",
    "        res =  (prevSum  % 26) +(26  - cur)\n",
    "        print('unencrypt res:', res)\n",
    "        return res\n",
    "\n",
    "d \n",
    "\n",
    "def loopList(message):\n",
    "    result = [message[0]]\n",
    "    leftSum = charToInt()\n",
    "    for n in range(len(message)):\n",
    "        print(n)\n",
    "message =   \"t a i a iaertkixquxjnfxxdh\"      \n",
    "ans=        \"t h i s isencryptedmessage\"\n",
    "alphabet = list(\"abcdefghijklmnopqrstuvwxyz\")\n",
    "                        #T\n",
    "print('alphabet=26','prevSum:t=19', 'cur=0', 'ans:h=7')\n",
    "print('message[1] a AIM: h', alphabet.index('h'),'ANS:#',unencrypt(19,0),alphabet[unencrypt(19,0)]) #H  (7)\n",
    "mySum = 19 + 7\n",
    "cur = 8\n",
    "print('message[2] i AIM: i', alphabet.index('i'),'ANS:#',unencrypt(36,8)) #H  (7)\n",
    "# print('------------------------------') \n",
    "# print('t:',alphabet.index('t'))\n",
    "# print('a:',alphabet.index('a'))              \n",
    "print('i:',alphabet.index('i'))   \n",
    "# print('t::',alphabet[7])\n",
    "# print('t::',alphabet.index('t'))\n",
    "# print('h::',alphabet.index('h'))              \n",
    "# print('i::',alphabet.index('i'))   \n",
    "# print('s::',alphabet.index('s'))    \n",
    "# print('------------------------------') \n"
   ]
  },
  {
   "cell_type": "code",
   "execution_count": 202,
   "metadata": {},
   "outputs": [
    {
     "output_type": "stream",
     "name": "stdout",
     "text": [
      "s:: 18\ninitail prevSum 19\nn 1 Expected: h 7 Produced: 7 a 0 preSum: t 19\nn 2 Expected: i 8 Produced: 0 i 8 preSum: a 0\nn 3 Expected: s 18 Produced: 0 a 0 preSum: i 8\n"
     ]
    }
   ],
   "source": [
    "def findeq(prevSum,cur,ans):\n",
    "    alphabet = list(\"abcdefghijklmnopqrstuvwxyz\")\n",
    "    st1 ='taia'\n",
    "    st2 ='this'\n",
    "    # print('------------------------------') \n",
    "    # print('a:',alphabet.index('a'))              \n",
    "    # print('t::',alphabet.index('t'))\n",
    "    # print('h::',alphabet.index('h'))              \n",
    "    # print('i::',alphabet.index('i'))   \n",
    "    print('s::',alphabet.index('s'))    \n",
    "    # print('------------------------------') \n",
    "    prevSum = alphabet.index(st1[0]) \n",
    "    print('initail prevSum', prevSum)\n",
    "    for n in range(1,len(st1)):\n",
    "        orig_int = 26 - prevSum\n",
    "        print('n',n,'Expected:',st2[n],alphabet.index(st2[n]),'Produced:',orig_int, st1[n],alphabet.index(st1[n]),'preSum:',st1[n-1],alphabet.index(st1[n-1]))\n",
    "        prevSum += orig_int\n",
    "   \n",
    "    \n",
    "\n",
    "findeq(prevSum,cur,ans)"
   ]
  },
  {
   "cell_type": "code",
   "execution_count": 223,
   "metadata": {},
   "outputs": [
    {
     "output_type": "stream",
     "name": "stdout",
     "text": [
      "Answer: 18\nMy answer: 7\n"
     ]
    }
   ],
   "source": [
    "alphabet = list(\"abcdefghijklmnopqrstuvwxyz\")\n",
    "st1 ='taia'\n",
    "st2 ='this'\n",
    "#n:1    prevSum:19 = t                      cur = 0 = a     ans: 7 = h\n",
    "#n:2    prevSum: prevSum + prevAns = 26     cur = 7 = i     ans: 8 = i\n",
    "#n:3    prevSum: prevSum + prevAns = 33     cur = 0 = a     ans: 18 = s\n",
    "\n",
    "def calthis(prevSum, cur, ans):\n",
    "    print('Answer:',ans)\n",
    "    # res = abs(26 - cur - prevSum)\n",
    "    # print(res)\n",
    "    # print('Answer:',ans)\n",
    "    # res = 25 - (prevSum % 26)\n",
    "    # print(res)\n",
    "    # total = prevSum + cur\n",
    "    # print('My answer:',total % len(alphabet))\n",
    "    total = prevSum + cur\n",
    "    print('My answer:',total % len(alphabet))\n",
    "\n",
    "\n",
    "# prevSum = 19\n",
    "# cur = 0\n",
    "# ans = 7\n",
    "# calthis(prevSum, cur, ans)\n",
    "# prevSum = 26\n",
    "# cur = 7\n",
    "# ans = 7\n",
    "# calthis(prevSum, cur, ans)\n",
    "prevSum = 33\n",
    "cur = 0\n",
    "ans = 18\n",
    "calthis(prevSum, cur, ans)"
   ]
  },
  {
   "cell_type": "code",
   "execution_count": 215,
   "metadata": {},
   "outputs": [
    {
     "output_type": "stream",
     "name": "stdout",
     "text": [
      "3\n"
     ]
    }
   ],
   "source": [
    "arr = ['a','b','c','d']\n",
    "a = 10\n",
    "b = 17\n",
    "total = a + b\n",
    "print(total % len(arr))"
   ]
  },
  {
   "cell_type": "code",
   "execution_count": 2,
   "metadata": {},
   "outputs": [
    {
     "output_type": "stream",
     "name": "stdout",
     "text": [
      "Our Result: thisisencryptedmessage\nans.      : thisisencryptedmessage\n"
     ]
    }
   ],
   "source": [
    "def cipher26(message):\n",
    "    def str_to_list(instring):\n",
    "        num_str_lst = []\n",
    "        for chars in instring:\n",
    "            num_str_lst.append((ord(chars)-97))\n",
    "        #print(num_str_lst)\n",
    "        return num_str_lst\n",
    "\n",
    "    def list_to_str(inlist):\n",
    "        outstring = \"\"\n",
    "        for item in inlist:\n",
    "            outstring = outstring + (chr(item + 97))\n",
    "        #print(outstring)\n",
    "        return outstring\n",
    "\n",
    "    def encode(unenc_lst):\n",
    "        enc_lst = []\n",
    "        running_total = 0\n",
    "        for item in unenc_lst:\n",
    "            enc_lst.append((running_total + item) % 26)\n",
    "            running_total = running_total + item\n",
    "        #print(enc_lst)\n",
    "        return enc_lst\n",
    "\n",
    "    def decode(enc_lst):\n",
    "        unenc_lst = []\n",
    "        unenc_lst.append(enc_lst[0]) #unencrypted list starts with same as encrypted\n",
    "        unenc_item = 0\n",
    "        running_total = enc_lst[0]\n",
    "        for item in range(1,len(enc_lst)):\n",
    "            unenc_item = enc_lst[item] - running_total\n",
    "            while unenc_item < 0:\n",
    "                unenc_item = unenc_item + 26\n",
    "            unenc_lst.append(unenc_item)\n",
    "            running_total = running_total + unenc_item\n",
    "        return unenc_lst\n",
    "    message_list = str_to_list(message)\n",
    "    result = decode(message_list)\n",
    "    result_str = list_to_str(result)\n",
    "    return result_str\n",
    "\n",
    "#PROGRAM\n",
    "message = \"taiaiaertkixquxjnfxxdh\"\n",
    "ans = \"thisisencryptedmessage\"\n",
    "print('Our Result:', cipher26(message))\n",
    "print('ans.      :',ans)"
   ]
  },
  {
   "cell_type": "code",
   "execution_count": null,
   "metadata": {},
   "outputs": [],
   "source": []
  }
 ]
}