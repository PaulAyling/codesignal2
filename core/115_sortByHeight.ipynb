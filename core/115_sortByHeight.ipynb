{
 "cells": [
  {
   "cell_type": "code",
   "execution_count": 10,
   "source": [
    "import copy\n",
    "def sortByHeight(a):\n",
    "    new_list = copy.deepcopy(a)\n",
    "    new_list.sort()\n",
    "    def removeTrees(a):\n",
    "        while -1 in a:\n",
    "            a.remove(-1)\n",
    "    removeTrees(new_list)\n",
    "    print(new_list)\n",
    "    new_list_counter = 0\n",
    "    for index,item in enumerate(a):\n",
    "        if item != -1:\n",
    "            a[index] = new_list[new_list_counter]\n",
    "            new_list_counter +=1\n",
    "    return a\n",
    "    \n",
    "\n",
    "a = [-1, 150, 190, 170, -1, -1, 160, 180]\n",
    "ans = [-1, 150, 160, 170, -1, -1, 180, 190]\n",
    "print(sortByHeight(a))\n",
    "\n"
   ],
   "outputs": [
    {
     "output_type": "stream",
     "name": "stdout",
     "text": [
      "[150, 160, 170, 180, 190]\n",
      "[-1, 150, 160, 170, -1, -1, 180, 190]\n"
     ]
    }
   ],
   "metadata": {}
  },
  {
   "cell_type": "code",
   "execution_count": null,
   "source": [],
   "outputs": [],
   "metadata": {}
  }
 ],
 "metadata": {
  "orig_nbformat": 4,
  "language_info": {
   "name": "python",
   "version": "3.9.6",
   "mimetype": "text/x-python",
   "codemirror_mode": {
    "name": "ipython",
    "version": 3
   },
   "pygments_lexer": "ipython3",
   "nbconvert_exporter": "python",
   "file_extension": ".py"
  },
  "kernelspec": {
   "name": "python3",
   "display_name": "Python 3.9.6 64-bit"
  },
  "interpreter": {
   "hash": "aee8b7b246df8f9039afb4144a1f6fd8d2ca17a180786b69acc140d282b71a49"
  }
 },
 "nbformat": 4,
 "nbformat_minor": 2
}