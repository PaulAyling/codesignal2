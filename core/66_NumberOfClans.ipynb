{
 "metadata": {
  "language_info": {
   "codemirror_mode": {
    "name": "ipython",
    "version": 3
   },
   "file_extension": ".py",
   "mimetype": "text/x-python",
   "name": "python",
   "nbconvert_exporter": "python",
   "pygments_lexer": "ipython3",
   "version": 3
  },
  "orig_nbformat": 4
 },
 "nbformat": 4,
 "nbformat_minor": 2,
 "cells": [
  {
   "cell_type": "code",
   "execution_count": null,
   "metadata": {},
   "outputs": [],
   "source": [
    "def numberOfClans(divisors, k):\n",
    "    # friends can only form clans\n",
    "    \n",
    "#   divisors    =   [2,3]\n",
    "#   k           =   6\n",
    "#   ans:        =   4\n",
    "\n",
    "#   1   &   5   =   F   C1  1 \n",
    "#   2   &   4   =   F   C2\n",
    "#   3   &   6   !=  F   C3 & C4\n",
    "\n",
    "# 1 & 5\n",
    "#   A = 1   B = 5\n",
    "\n",
    "#   firend definition\n",
    "    if A == divsor(B) and B == divisor(A):\n",
    "        return True\n",
    "    if A != divsor(B) and B != divisor(A):\n",
    "        return True\n",
    "    else:\n",
    "        return False\n",
    "        \n",
    "    def isFriend)(a,b):\n",
    "        if a % a+b == 0:\n",
    "            return True\n",
    "        else:\n",
    "            return False\n",
    "#   1 and 5 are friuends\n",
    "#   1   =div    5\n",
    "#   5   !=div   1\n",
    "\n",
    "#   2 and 4 are friends\n",
    "#   2   =div    4\n",
    "#   4   !=div   2\n",
    "\n",
    "#   3 and 6 enemies\n",
    "#   3   =div    6\n",
    "#   6   !=div   3"
   ]
  }
 ]
}